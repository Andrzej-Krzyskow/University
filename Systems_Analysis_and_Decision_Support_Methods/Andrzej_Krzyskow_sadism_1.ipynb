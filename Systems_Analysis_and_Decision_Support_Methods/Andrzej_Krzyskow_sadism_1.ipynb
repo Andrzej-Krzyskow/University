{
 "cells": [
  {
   "cell_type": "markdown",
   "metadata": {
    "id": "view-in-github"
   },
   "source": [
    "<a href=\"https://colab.research.google.com/gist/jdrapala/1d24a23d52e160617dd990750445a855/sadism_1_python_fundamentals.ipynb\" target=\"_parent\"><img src=\"https://colab.research.google.com/assets/colab-badge.svg\" alt=\"Open In Colab\"/></a>"
   ]
  },
  {
   "cell_type": "markdown",
   "metadata": {
    "id": "zIrWNLZlneKD"
   },
   "source": [
    "## Short introduction to Python and some of its libraries that support scientific computing.\n",
    "\n",
    "I assume that you know the structural programming paradigm and do not start from scratch when learning basic elements of a new programming language. <br>\n",
    "This is not a standalone course of Python; you should only become familiar with some of Python language elements that are necessary to understand the course material. <br>\n",
    "\n",
    "Jupyter notebooks allow us **to combine source codes, descriptions of methods, and algorithms, and their outcomes, into a single coherent document**. It is one of the most common tools used by data scientists. <br>\n",
    "Feel free **to experiment with the code** snippets presented.\n",
    "\n",
    "\n"
   ]
  },
  {
   "cell_type": "markdown",
   "metadata": {
    "id": "-r8kLicZoRqh"
   },
   "source": [
    "Every Jupyter cell is a separate editor for your code that may be executed on demand. <br>\n",
    "All cells belonging to a Jupyter notebook share memory and namespace. It has pros and cons.\n"
   ]
  },
  {
   "cell_type": "markdown",
   "metadata": {
    "id": "Fxz9Wh_lI6hB"
   },
   "source": [
    "**Remember** to use this notebook in an interactive manner. <br>\n",
    "You learn by experimentation. The description alone does not give you a real understanding of the material."
   ]
  },
  {
   "cell_type": "markdown",
   "metadata": {
    "id": "qaWgSgBKmyZJ"
   },
   "source": [
    "### Native Python data structures introduced here:\n",
    "* **list**,\n",
    "* tuple,\n",
    "* **dictionary**,\n",
    "* set."
   ]
  },
  {
   "cell_type": "markdown",
   "metadata": {
    "id": "xtcD_N7onTEh"
   },
   "source": [
    "**List** <br>\n",
    "It is the ordered sequence of objects of different types."
   ]
  },
  {
   "cell_type": "markdown",
   "metadata": {
    "id": "ktV_i8XZE1Wg"
   },
   "source": [
    "Polish letters are put here to irritate you. This should inspire you to replace my examples with your own data.\n"
   ]
  },
  {
   "cell_type": "code",
   "execution_count": 66,
   "metadata": {
    "colab": {
     "base_uri": "https://localhost:8080/"
    },
    "id": "MXXYWH5njd_k",
    "outputId": "f8e1056d-7fbc-45d5-ec8d-e19f47f358f4",
    "ExecuteTime": {
     "start_time": "2023-04-05T17:18:17.633390Z",
     "end_time": "2023-04-05T17:18:18.226220Z"
    }
   },
   "outputs": [
    {
     "name": "stdout",
     "output_type": "stream",
     "text": [
      "['Opole']\n"
     ]
    }
   ],
   "source": [
    "import numpy as numpy\n",
    "\n",
    "cities_list = ['Wrocław', 'Opole', 'cyców', 'moszna']\n",
    "area_list = [292.8, 149, 147.9, 7.29]\n",
    "population_lista = [643782, 128140, 1200, 350]\n",
    "\n",
    "print(cities_list[1:2])"
   ]
  },
  {
   "cell_type": "code",
   "execution_count": 67,
   "metadata": {
    "colab": {
     "base_uri": "https://localhost:8080/"
    },
    "id": "HwQRbs-jm1P4",
    "outputId": "f2e62974-97f1-4bdd-ff80-dd92a3edcc87",
    "ExecuteTime": {
     "start_time": "2023-04-05T17:18:17.637932Z",
     "end_time": "2023-04-05T17:18:18.611290Z"
    }
   },
   "outputs": [
    {
     "data": {
      "text/plain": "0"
     },
     "execution_count": 67,
     "metadata": {},
     "output_type": "execute_result"
    }
   ],
   "source": [
    "cities_list.count('Kraków')"
   ]
  },
  {
   "cell_type": "code",
   "execution_count": 68,
   "metadata": {
    "colab": {
     "base_uri": "https://localhost:8080/"
    },
    "id": "vYU9CqYHwPuV",
    "outputId": "302a4cd7-d660-4296-fd36-baccdc745a9f",
    "ExecuteTime": {
     "start_time": "2023-04-05T17:18:17.655770Z",
     "end_time": "2023-04-05T17:18:18.611290Z"
    }
   },
   "outputs": [
    {
     "data": {
      "text/plain": "False"
     },
     "execution_count": 68,
     "metadata": {},
     "output_type": "execute_result"
    }
   ],
   "source": [
    "'Kraków' in cities_list"
   ]
  },
  {
   "cell_type": "code",
   "execution_count": 69,
   "metadata": {
    "colab": {
     "base_uri": "https://localhost:8080/"
    },
    "id": "PWWc0OqTwRSd",
    "outputId": "aa638dda-0417-4dd4-b703-bb3157ada02d",
    "ExecuteTime": {
     "start_time": "2023-04-05T17:18:17.658750Z",
     "end_time": "2023-04-05T17:18:18.611290Z"
    }
   },
   "outputs": [
    {
     "data": {
      "text/plain": "['Wrocław',\n 'Opole',\n 'cyców',\n 'moszna',\n 'Wrocław',\n 'Opole',\n 'cyców',\n 'moszna',\n 'Wrocław',\n 'Opole',\n 'cyców',\n 'moszna',\n 'Wrocław',\n 'Opole',\n 'cyców',\n 'moszna']"
     },
     "execution_count": 69,
     "metadata": {},
     "output_type": "execute_result"
    }
   ],
   "source": [
    "cities_list + cities_list*3"
   ]
  },
  {
   "cell_type": "markdown",
   "metadata": {
    "id": "RE1pg-RczgOW"
   },
   "source": [
    "This code pretends to be written in Python, but in fact it is more like Java:"
   ]
  },
  {
   "cell_type": "code",
   "execution_count": 70,
   "metadata": {
    "colab": {
     "base_uri": "https://localhost:8080/"
    },
    "id": "ILtEtSmFzkEQ",
    "outputId": "192d78d8-3349-4b9f-e589-06e1e940a47b",
    "ExecuteTime": {
     "start_time": "2023-04-05T17:18:17.661747Z",
     "end_time": "2023-04-05T17:18:18.611290Z"
    }
   },
   "outputs": [
    {
     "name": "stdout",
     "output_type": "stream",
     "text": [
      "wrocław\n",
      "opole\n",
      "cyców\n",
      "moszna\n"
     ]
    }
   ],
   "source": [
    "for i in range(len(cities_list)):\n",
    "  print(cities_list[i].lower())"
   ]
  },
  {
   "cell_type": "markdown",
   "metadata": {
    "id": "XDaSQbNjz-q_"
   },
   "source": [
    "This one is more Pythonic."
   ]
  },
  {
   "cell_type": "code",
   "execution_count": 71,
   "metadata": {
    "colab": {
     "base_uri": "https://localhost:8080/"
    },
    "id": "JKFPRroF1Xtt",
    "outputId": "1ae8f234-e18b-4440-c837-c05ec1396fbb",
    "ExecuteTime": {
     "start_time": "2023-04-05T17:18:17.677748Z",
     "end_time": "2023-04-05T17:18:18.615292Z"
    }
   },
   "outputs": [
    {
     "name": "stdout",
     "output_type": "stream",
     "text": [
      "Wrocław\n",
      "Opole\n",
      "Cyców\n",
      "Moszna\n"
     ]
    }
   ],
   "source": [
    "for elem in cities_list:\n",
    "  print(elem.capitalize())"
   ]
  },
  {
   "cell_type": "markdown",
   "metadata": {
    "id": "IYwqmJmZ1fzw"
   },
   "source": [
    "There is absolutely no need to use *list comprehension*, but it is so commonly used by many programmers that you should be able to read and understand it."
   ]
  },
  {
   "cell_type": "code",
   "execution_count": 72,
   "metadata": {
    "colab": {
     "base_uri": "https://localhost:8080/"
    },
    "id": "9mJxSfqF1rUm",
    "outputId": "ae07d8e6-4bbc-4478-b9f0-c7861ef911ff",
    "ExecuteTime": {
     "start_time": "2023-04-05T17:18:17.700187Z",
     "end_time": "2023-04-05T17:18:18.657293Z"
    }
   },
   "outputs": [
    {
     "name": "stdout",
     "output_type": "stream",
     "text": [
      "['WROCŁAW', 'OPOLE', 'CYCÓW', 'MOSZNA']\n"
     ]
    }
   ],
   "source": [
    "compreh_list = [elem.upper() for elem in cities_list]\n",
    "print(compreh_list)"
   ]
  },
  {
   "cell_type": "code",
   "execution_count": 73,
   "metadata": {
    "colab": {
     "base_uri": "https://localhost:8080/"
    },
    "id": "eLEsi5642AFZ",
    "outputId": "4ffc9874-9efd-418e-e273-19ebfe85af31",
    "ExecuteTime": {
     "start_time": "2023-04-05T17:18:17.705187Z",
     "end_time": "2023-04-05T17:18:18.657293Z"
    }
   },
   "outputs": [
    {
     "name": "stdout",
     "output_type": "stream",
     "text": [
      "['WROCŁAW', 'CYCÓW', 'MOSZNA']\n"
     ]
    }
   ],
   "source": [
    "compreh_list = [elem.upper() for elem in cities_list if elem.endswith('w') or elem.startswith('m')]\n",
    "print(compreh_list)"
   ]
  },
  {
   "cell_type": "code",
   "execution_count": 74,
   "metadata": {
    "id": "fTtNztzcB1n0",
    "colab": {
     "base_uri": "https://localhost:8080/"
    },
    "outputId": "8ba7c030-845e-4eb4-c635-d6e8a4c75dd2",
    "ExecuteTime": {
     "start_time": "2023-04-05T17:18:17.709985Z",
     "end_time": "2023-04-05T17:18:18.657293Z"
    }
   },
   "outputs": [
    {
     "name": "stdout",
     "output_type": "stream",
     "text": [
      "1819797440512\n",
      "1819797440512\n",
      "[1, 2, 3, 4, 5, 6]\n",
      "[1, 2, 3, 4, 5, 6]\n",
      "\n",
      " [1, 2, 3, 4, 5, 6]\n",
      "[1, 2, 3]\n"
     ]
    }
   ],
   "source": [
    "my_list = [1,2,3,4,5]\n",
    "new_my_list = my_list\n",
    "print(id(my_list))\n",
    "print(id(new_my_list))\n",
    "new_my_list.append(6)\n",
    "print(my_list)\n",
    "print(new_my_list)\n",
    "new_my_list = [1,2,3]\n",
    "print(\"\\n\", my_list)\n",
    "print(new_my_list)"
   ]
  },
  {
   "cell_type": "markdown",
   "metadata": {
    "id": "TFLrEgs-x_Ps"
   },
   "source": [
    "Remember to perform your own experiments with lists. <br>\n",
    "Check out how sharing memory and namespace between cells works.\n"
   ]
  },
  {
   "cell_type": "markdown",
   "metadata": {
    "id": "a_EaNH7YzZ0W"
   },
   "source": [
    "**Tuple** <br>\n",
    "You may think of tuples as non-mutable lists."
   ]
  },
  {
   "cell_type": "code",
   "execution_count": 75,
   "metadata": {
    "id": "E6vH2T-iw5Dp",
    "ExecuteTime": {
     "start_time": "2023-04-05T17:18:17.734330Z",
     "end_time": "2023-04-05T17:18:18.663291Z"
    }
   },
   "outputs": [],
   "source": [
    "dims = (90, 60, 90)"
   ]
  },
  {
   "cell_type": "code",
   "execution_count": 76,
   "metadata": {
    "colab": {
     "base_uri": "https://localhost:8080/",
     "height": 165
    },
    "id": "PQkhJXVN2s57",
    "outputId": "9fd4a833-c366-4514-ce1a-17732fba7c6f",
    "ExecuteTime": {
     "start_time": "2023-04-05T17:18:17.738847Z",
     "end_time": "2023-04-05T17:18:18.664291Z"
    }
   },
   "outputs": [],
   "source": [
    "#dims[0] = 40"
   ]
  },
  {
   "cell_type": "markdown",
   "metadata": {
    "id": "3uj2M8vY6Mio"
   },
   "source": [
    "Although tuple entries cannot be changed, you can do that:"
   ]
  },
  {
   "cell_type": "code",
   "execution_count": 77,
   "metadata": {
    "id": "rs85bek22v71",
    "ExecuteTime": {
     "start_time": "2023-04-05T17:18:17.755723Z",
     "end_time": "2023-04-05T17:18:18.667291Z"
    }
   },
   "outputs": [
    {
     "name": "stdout",
     "output_type": "stream",
     "text": [
      "(1000, 200, 1000, 200)\n",
      "(1000, 200, 1000, 200)\n"
     ]
    }
   ],
   "source": [
    "dims = (1000, 200)\n",
    "print(dims*2)\n",
    "d = dims*2\n",
    "print(d)"
   ]
  },
  {
   "cell_type": "markdown",
   "metadata": {
    "id": "zJc1GVLg6bPk"
   },
   "source": [
    "**Takeways**:<br>\n",
    "1.   Python performs **dynamic typing**.\n",
    "2.   The name in Python is implemented as a `void*` pointer in the C language. By calling this name, you refer to an associated object. Memory management is not your job; Python does it for you. If you need detail control of memory, this means that Python is not appropriate choice at all.\n",
    "\n"
   ]
  },
  {
   "cell_type": "markdown",
   "metadata": {
    "id": "jhOtUO8d7LlY"
   },
   "source": [
    "What creates a tuple is really a comma, not a bracket `()`."
   ]
  },
  {
   "cell_type": "code",
   "execution_count": 78,
   "metadata": {
    "id": "9Q2pK53O6aJg",
    "ExecuteTime": {
     "start_time": "2023-04-05T17:18:17.788593Z",
     "end_time": "2023-04-05T17:18:18.691292Z"
    }
   },
   "outputs": [],
   "source": [
    "user = 'Bożydar', 180, 92"
   ]
  },
  {
   "cell_type": "code",
   "execution_count": 79,
   "metadata": {
    "id": "5rXcN-h-7l9J",
    "ExecuteTime": {
     "start_time": "2023-04-05T17:18:17.792579Z",
     "end_time": "2023-04-05T17:18:18.692291Z"
    }
   },
   "outputs": [],
   "source": [
    "#user[1] = 100"
   ]
  },
  {
   "cell_type": "code",
   "execution_count": 80,
   "metadata": {
    "id": "_9vTGBXq763D",
    "ExecuteTime": {
     "start_time": "2023-04-05T17:18:17.795579Z",
     "end_time": "2023-04-05T17:18:18.692291Z"
    }
   },
   "outputs": [
    {
     "name": "stdout",
     "output_type": "stream",
     "text": [
      "1000\n",
      "200\n",
      "1000 200\n"
     ]
    }
   ],
   "source": [
    "width, height = (1000, 200)\n",
    "print(width)\n",
    "print(height)\n",
    "print(width, height)"
   ]
  },
  {
   "cell_type": "code",
   "execution_count": 81,
   "metadata": {
    "id": "blMp3PgiBnLF",
    "ExecuteTime": {
     "start_time": "2023-04-05T17:18:17.799336Z",
     "end_time": "2023-04-05T17:18:18.692291Z"
    }
   },
   "outputs": [
    {
     "name": "stdout",
     "output_type": "stream",
     "text": [
      "Width: 200\n",
      "Height: 1000\n"
     ]
    }
   ],
   "source": [
    "height, width = (width, height)\n",
    "print(f'Width: {width}\\nHeight: {height}')"
   ]
  },
  {
   "cell_type": "markdown",
   "metadata": {
    "id": "dc9kf_p7OSNw"
   },
   "source": [
    "Tuple unpacking"
   ]
  },
  {
   "cell_type": "code",
   "execution_count": 82,
   "metadata": {
    "id": "I4tnKfe8OUhp",
    "ExecuteTime": {
     "start_time": "2023-04-05T17:18:17.806047Z",
     "end_time": "2023-04-05T17:18:18.703290Z"
    }
   },
   "outputs": [
    {
     "name": "stdout",
     "output_type": "stream",
     "text": [
      "r = 1, g = 2, b = 3\n"
     ]
    }
   ],
   "source": [
    "color = 1, 2, 3\n",
    "r, g, b = color\n",
    "print(f'r = {r}, g = {g}, b = {b}')"
   ]
  },
  {
   "cell_type": "markdown",
   "metadata": {
    "id": "-jEtvZBaCBau"
   },
   "source": [
    "**Dictionary** <br>\n",
    "It is an unordered collection of <font color='blue'>key</font>-<font color='green'>value</font> pairs."
   ]
  },
  {
   "cell_type": "code",
   "execution_count": 83,
   "metadata": {
    "id": "69CIgp98Bn8v",
    "ExecuteTime": {
     "start_time": "2023-04-05T17:18:17.824568Z",
     "end_time": "2023-04-05T17:18:18.737290Z"
    }
   },
   "outputs": [],
   "source": [
    "population_dict = {'Wrocław': 643782,\n",
    "                   'Opole': 128140,\n",
    "                   'Cyców': 1200,\n",
    "                   'Moszna': 350,\n",
    "                   'Browarek': 48,\n",
    "                   'Złe Mięso': 195,\n",
    "                   'Radom': 210532,\n",
    "                   'Paryż': 134,\n",
    "                   'Paryż': 2148000,\n",
    "                   'Biłgoraj': 27106,\n",
    "                   }\n",
    "\n",
    "area_dict = {'Wrocław': 292.8,\n",
    "             'Opole': 149,\n",
    "             'Cyców': 147.9,\n",
    "             'Moszna': 7.29,\n",
    "             'Browarek': 2.81,\n",
    "             'Złe Mięso': 4.38,\n",
    "             'Radom': 111.8,\n",
    "             'Paryż': 9.13,\n",
    "             'Paryż': 105.4,\n",
    "             'Biłgoraj': 21.1,\n",
    "             }"
   ]
  },
  {
   "cell_type": "code",
   "execution_count": 84,
   "metadata": {
    "colab": {
     "base_uri": "https://localhost:8080/"
    },
    "id": "Dj5clqvRL1JN",
    "outputId": "e348612b-6a75-474e-ee3b-17fba84fbd58",
    "ExecuteTime": {
     "start_time": "2023-04-05T17:18:17.828802Z",
     "end_time": "2023-04-05T17:18:18.738290Z"
    }
   },
   "outputs": [
    {
     "data": {
      "text/plain": "643782"
     },
     "execution_count": 84,
     "metadata": {},
     "output_type": "execute_result"
    }
   ],
   "source": [
    "population_dict['Opole']\n",
    "population_dict['Wrocław']"
   ]
  },
  {
   "cell_type": "code",
   "source": [
    "#population_dict['Wrocła']"
   ],
   "metadata": {
    "colab": {
     "base_uri": "https://localhost:8080/",
     "height": 165
    },
    "id": "d-KP_0Uk-RsV",
    "outputId": "edc1c3e7-86e2-407e-bcb1-eeae478e32f8",
    "ExecuteTime": {
     "start_time": "2023-04-05T17:18:17.833311Z",
     "end_time": "2023-04-05T17:18:18.738290Z"
    }
   },
   "execution_count": 85,
   "outputs": []
  },
  {
   "cell_type": "code",
   "execution_count": 86,
   "metadata": {
    "colab": {
     "base_uri": "https://localhost:8080/"
    },
    "id": "8_tr4WLDL2R5",
    "outputId": "177d4862-82d1-4b91-d8d3-bd18d4047fd0",
    "ExecuteTime": {
     "start_time": "2023-04-05T17:18:17.836826Z",
     "end_time": "2023-04-05T17:18:18.747293Z"
    }
   },
   "outputs": [
    {
     "data": {
      "text/plain": "dict_keys(['Wrocław', 'Opole', 'Cyców', 'Moszna', 'Browarek', 'Złe Mięso', 'Radom', 'Paryż', 'Biłgoraj'])"
     },
     "execution_count": 86,
     "metadata": {},
     "output_type": "execute_result"
    }
   ],
   "source": [
    "population_dict.keys()"
   ]
  },
  {
   "cell_type": "code",
   "execution_count": 87,
   "metadata": {
    "colab": {
     "base_uri": "https://localhost:8080/"
    },
    "id": "QsJ92rN9N9h4",
    "outputId": "ea7a05dc-1702-4974-d630-5658ed473e1c",
    "ExecuteTime": {
     "start_time": "2023-04-05T17:18:17.841384Z",
     "end_time": "2023-04-05T17:18:18.747293Z"
    }
   },
   "outputs": [
    {
     "data": {
      "text/plain": "dict_values([643782, 128140, 1200, 350, 48, 195, 210532, 2148000, 27106])"
     },
     "execution_count": 87,
     "metadata": {},
     "output_type": "execute_result"
    }
   ],
   "source": [
    "population_dict.values()"
   ]
  },
  {
   "cell_type": "code",
   "execution_count": 88,
   "metadata": {
    "colab": {
     "base_uri": "https://localhost:8080/"
    },
    "id": "Lmki9Wb2ODJ1",
    "outputId": "da9620d1-1b34-4099-bb54-e60e290661a6",
    "ExecuteTime": {
     "start_time": "2023-04-05T17:18:17.847385Z",
     "end_time": "2023-04-05T17:18:18.747293Z"
    }
   },
   "outputs": [
    {
     "data": {
      "text/plain": "dict_items([('Wrocław', 643782), ('Opole', 128140), ('Cyców', 1200), ('Moszna', 350), ('Browarek', 48), ('Złe Mięso', 195), ('Radom', 210532), ('Paryż', 2148000), ('Biłgoraj', 27106)])"
     },
     "execution_count": 88,
     "metadata": {},
     "output_type": "execute_result"
    }
   ],
   "source": [
    "population_dict.items()"
   ]
  },
  {
   "cell_type": "markdown",
   "metadata": {
    "id": "DooacriFOGoE"
   },
   "source": [
    "Iterating over dictionaries:"
   ]
  },
  {
   "cell_type": "code",
   "execution_count": 89,
   "metadata": {
    "id": "wcvhVin9OE4o",
    "ExecuteTime": {
     "start_time": "2023-04-05T17:18:17.852463Z",
     "end_time": "2023-04-05T17:18:18.747293Z"
    }
   },
   "outputs": [
    {
     "name": "stdout",
     "output_type": "stream",
     "text": [
      "City: ('Wrocław', 643782) | population:\n",
      "City: ('Opole', 128140) | population:\n",
      "City: ('Cyców', 1200) | population:\n",
      "City: ('Moszna', 350) | population:\n",
      "City: ('Browarek', 48) | population:\n",
      "City: ('Złe Mięso', 195) | population:\n",
      "City: ('Radom', 210532) | population:\n",
      "City: ('Paryż', 2148000) | population:\n",
      "City: ('Biłgoraj', 27106) | population:\n"
     ]
    }
   ],
   "source": [
    "for key in population_dict.items():\n",
    "  print(f'City: {key} | population:')"
   ]
  },
  {
   "cell_type": "code",
   "execution_count": 90,
   "metadata": {
    "id": "bJEXGSVXOweC",
    "ExecuteTime": {
     "start_time": "2023-04-05T17:18:17.856462Z",
     "end_time": "2023-04-05T17:18:18.765292Z"
    }
   },
   "outputs": [
    {
     "data": {
      "text/plain": "False"
     },
     "execution_count": 90,
     "metadata": {},
     "output_type": "execute_result"
    }
   ],
   "source": [
    "48 in population_dict"
   ]
  },
  {
   "cell_type": "code",
   "execution_count": 91,
   "metadata": {
    "id": "cqBOJm5eB9DQ",
    "colab": {
     "base_uri": "https://localhost:8080/"
    },
    "outputId": "d895b58b-e71d-4868-a60e-dbc946142322",
    "ExecuteTime": {
     "start_time": "2023-04-05T17:18:17.862954Z",
     "end_time": "2023-04-05T17:18:18.765292Z"
    }
   },
   "outputs": [
    {
     "name": "stdout",
     "output_type": "stream",
     "text": [
      "{'Mark': 55, 'Ann': 20, 'Andy': 45, 'Veronica': 15, 'Sara': 100}\n",
      "{'Peter': 10, 'Walter': 12, 'Jesse': 25}\n",
      "{'Mark': 55, 'Ann': 20, 'Andy': 45, 'Veronica': 15, 'Sara': 100, 'Peter': 10, 'Walter': 12, 'Jesse': 25}\n"
     ]
    }
   ],
   "source": [
    "name_age1 = {\n",
    "                    'John':48,\n",
    "                    'Mark':55,\n",
    "                    'Ann':20,\n",
    "                    'Andy':45,\n",
    "                    'Veronica':15\n",
    "                    }\n",
    "name_age2 = dict([('Peter',10),('Walter',12), ('Jesse',25)])\n",
    "del name_age1['John']\n",
    "name_age1['Sara']=100\n",
    "print(name_age1)\n",
    "print(name_age2)\n",
    "merged_names = {**name_age1, **name_age2}\n",
    "print(merged_names)"
   ]
  },
  {
   "cell_type": "markdown",
   "metadata": {
    "id": "WIZhbLmyJpLL"
   },
   "source": [
    "The **set** is like a dictionary made up only of keys. <br>\n",
    "Below we have one of the most common use cases of set."
   ]
  },
  {
   "cell_type": "code",
   "execution_count": 92,
   "metadata": {
    "id": "TDl3E-vdJ_7n",
    "ExecuteTime": {
     "start_time": "2023-04-05T17:18:17.867574Z",
     "end_time": "2023-04-05T17:18:18.765292Z"
    }
   },
   "outputs": [
    {
     "name": "stdout",
     "output_type": "stream",
     "text": [
      "{'ANDY', 'Bolek', 'Manny', 'AndY', 'Andy', 'Zen', 'ADU'}\n"
     ]
    }
   ],
   "source": [
    "commiters_ordered = ['Bolek', 'ADU', 'ADU', 'Manny', 'Bolek', 'Manny', 'Bolek', 'ADU', 'Andy', 'ANDY', 'ANDY', 'AndY', 'Zen']\n",
    "commiters_unique = set(commiters_ordered)\n",
    "print(commiters_unique)"
   ]
  },
  {
   "cell_type": "code",
   "execution_count": 93,
   "metadata": {
    "id": "7ltyIjiCLiTb",
    "ExecuteTime": {
     "start_time": "2023-04-05T17:18:17.871954Z",
     "end_time": "2023-04-05T17:18:18.765292Z"
    }
   },
   "outputs": [
    {
     "name": "stdout",
     "output_type": "stream",
     "text": [
      "{2, 3, 4, 5}\n",
      "{2, 3, 4, 5, 6, 7}\n"
     ]
    }
   ],
   "source": [
    "my_set = {1,2,3,4}\n",
    "my_set.add(5)\n",
    "my_set.remove(1)\n",
    "print(my_set)\n",
    "second_set={4,5,6,7}\n",
    "print(my_set.union(second_set))\n"
   ]
  },
  {
   "cell_type": "code",
   "source": [
    "#my_set.remove(8)"
   ],
   "metadata": {
    "id": "8b39Gx0jLuNq",
    "ExecuteTime": {
     "start_time": "2023-04-05T17:18:17.875956Z",
     "end_time": "2023-04-05T17:18:18.765292Z"
    }
   },
   "execution_count": 94,
   "outputs": []
  },
  {
   "cell_type": "markdown",
   "metadata": {
    "id": "q6_LsIvEPUiz"
   },
   "source": [
    "### Python libraries introduce their own data structures.:\n",
    "* array ```Numpy```,\n",
    "* series  ```Pandas```,\n",
    "* data frame ```Pandas```."
   ]
  },
  {
   "cell_type": "markdown",
   "metadata": {
    "id": "ktKnWohxQG2G"
   },
   "source": [
    "**Array** <br>\n",
    "It is a sequence of elements of the same type (not necessarily numbers). <br>\n",
    "Library ```Numpy``` provides fundamental methods for scientific computing."
   ]
  },
  {
   "cell_type": "code",
   "execution_count": 95,
   "metadata": {
    "id": "FAKYzDEjsw2z",
    "ExecuteTime": {
     "start_time": "2023-04-05T17:18:17.896713Z",
     "end_time": "2023-04-05T17:18:18.803292Z"
    }
   },
   "outputs": [],
   "source": [
    "#pip install numpy"
   ]
  },
  {
   "cell_type": "code",
   "execution_count": 96,
   "metadata": {
    "id": "Fn54jxx_PIGd",
    "ExecuteTime": {
     "start_time": "2023-04-05T17:18:17.899229Z",
     "end_time": "2023-04-05T17:18:18.803292Z"
    }
   },
   "outputs": [],
   "source": [
    "import numpy as np"
   ]
  },
  {
   "cell_type": "code",
   "execution_count": 97,
   "metadata": {
    "id": "mgGIzKC8Qcbg",
    "ExecuteTime": {
     "start_time": "2023-04-05T17:18:17.904022Z",
     "end_time": "2023-04-05T17:18:18.803292Z"
    }
   },
   "outputs": [],
   "source": [
    "tab = np.array([1, 1, 2, 3, 5, 8, 13])"
   ]
  },
  {
   "cell_type": "code",
   "execution_count": 98,
   "metadata": {
    "id": "NL7D3NRARbpd",
    "ExecuteTime": {
     "start_time": "2023-04-05T17:18:17.908022Z",
     "end_time": "2023-04-05T17:18:18.803292Z"
    }
   },
   "outputs": [
    {
     "data": {
      "text/plain": "array([ 22,  22,  44,  66, 110, 176, 286])"
     },
     "execution_count": 98,
     "metadata": {},
     "output_type": "execute_result"
    }
   ],
   "source": [
    "tab + tab + 20*tab"
   ]
  },
  {
   "cell_type": "code",
   "execution_count": 99,
   "metadata": {
    "id": "cMcIGLreRehN",
    "ExecuteTime": {
     "start_time": "2023-04-05T17:18:17.913195Z",
     "end_time": "2023-04-05T17:18:18.860292Z"
    }
   },
   "outputs": [
    {
     "name": "stdout",
     "output_type": "stream",
     "text": [
      "dict_values([292.8, 149, 147.9, 7.29, 2.81, 4.38, 111.8, 105.4, 21.1])\n",
      "[292.8  149.   147.9    7.29   2.81   4.38 111.8  105.4   21.1 ]\n"
     ]
    }
   ],
   "source": [
    "area_arr = np.array(list(area_dict.values()))\n",
    "print((area_dict.values()))\n",
    "print(area_arr)"
   ]
  },
  {
   "cell_type": "code",
   "execution_count": 100,
   "metadata": {
    "id": "N7rxFslNSifc",
    "ExecuteTime": {
     "start_time": "2023-04-05T17:18:17.918195Z",
     "end_time": "2023-04-05T17:18:18.860292Z"
    }
   },
   "outputs": [
    {
     "name": "stdout",
     "output_type": "stream",
     "text": [
      "[ 2.18  0.61  0.59 -0.95 -0.99 -0.98  0.2   0.13 -0.79]\n"
     ]
    }
   ],
   "source": [
    "data_stand = (area_arr - area_arr.mean()) / area_arr.std()\n",
    "data_stand = np.round(data_stand,2)\n",
    "print(data_stand)"
   ]
  },
  {
   "cell_type": "code",
   "execution_count": 101,
   "metadata": {
    "id": "KZo0PXTATvUw",
    "ExecuteTime": {
     "start_time": "2023-04-05T17:18:17.922193Z",
     "end_time": "2023-04-05T17:18:18.860292Z"
    }
   },
   "outputs": [
    {
     "name": "stdout",
     "output_type": "stream",
     "text": [
      "8\n",
      "[1 2]\n"
     ]
    }
   ],
   "source": [
    "print(tab[-2])\n",
    "print(tab[1:3])"
   ]
  },
  {
   "cell_type": "markdown",
   "metadata": {
    "id": "yo_9kvixTRJj"
   },
   "source": [
    "**Slices**"
   ]
  },
  {
   "cell_type": "code",
   "execution_count": 102,
   "metadata": {
    "id": "r29ZDCuvSnr9",
    "ExecuteTime": {
     "start_time": "2023-04-05T17:18:17.927193Z",
     "end_time": "2023-04-05T17:18:18.860292Z"
    }
   },
   "outputs": [
    {
     "name": "stdout",
     "output_type": "stream",
     "text": [
      "[ 2.18  0.61  0.59 -0.95 -0.99 -0.98  0.2   0.13 -0.79]\n"
     ]
    }
   ],
   "source": [
    "tab = data_stand.copy()\n",
    "print(tab)"
   ]
  },
  {
   "cell_type": "code",
   "execution_count": 103,
   "metadata": {
    "id": "DsFFqCqHTb9Q",
    "ExecuteTime": {
     "start_time": "2023-04-05T17:18:17.930650Z",
     "end_time": "2023-04-05T17:18:18.904437Z"
    }
   },
   "outputs": [
    {
     "data": {
      "text/plain": "array([ 0.61,  0.59, -0.95, -0.99, -0.98])"
     },
     "execution_count": 103,
     "metadata": {},
     "output_type": "execute_result"
    }
   ],
   "source": [
    "tab[1:6:1]"
   ]
  },
  {
   "cell_type": "code",
   "execution_count": 104,
   "metadata": {
    "id": "OrelLndITuHN",
    "ExecuteTime": {
     "start_time": "2023-04-05T17:18:17.935649Z",
     "end_time": "2023-04-05T17:18:18.904437Z"
    }
   },
   "outputs": [
    {
     "data": {
      "text/plain": "array([2.18])"
     },
     "execution_count": 104,
     "metadata": {},
     "output_type": "execute_result"
    }
   ],
   "source": [
    "tab[:1]"
   ]
  },
  {
   "cell_type": "code",
   "execution_count": 105,
   "metadata": {
    "id": "DjRV2Hn4UJlY",
    "ExecuteTime": {
     "start_time": "2023-04-05T17:18:17.941662Z",
     "end_time": "2023-04-05T17:18:18.904437Z"
    }
   },
   "outputs": [
    {
     "data": {
      "text/plain": "array([-0.95, -0.99, -0.98,  0.2 ,  0.13, -0.79])"
     },
     "execution_count": 105,
     "metadata": {},
     "output_type": "execute_result"
    }
   ],
   "source": [
    "tab[3:]"
   ]
  },
  {
   "cell_type": "code",
   "execution_count": 106,
   "metadata": {
    "id": "QlQk3EaYUK6K",
    "ExecuteTime": {
     "start_time": "2023-04-05T17:18:17.946176Z",
     "end_time": "2023-04-05T17:18:18.905291Z"
    }
   },
   "outputs": [
    {
     "data": {
      "text/plain": "array([0.61, 2.18])"
     },
     "execution_count": 106,
     "metadata": {},
     "output_type": "execute_result"
    }
   ],
   "source": [
    "tab[1::-1]"
   ]
  },
  {
   "cell_type": "code",
   "source": [
    "tab[:1:-1]"
   ],
   "metadata": {
    "id": "ki99mtt1TV6E",
    "ExecuteTime": {
     "start_time": "2023-04-05T17:18:17.951973Z",
     "end_time": "2023-04-05T17:18:18.933805Z"
    }
   },
   "execution_count": 107,
   "outputs": [
    {
     "data": {
      "text/plain": "array([-0.79,  0.13,  0.2 , -0.98, -0.99, -0.95,  0.59])"
     },
     "execution_count": 107,
     "metadata": {},
     "output_type": "execute_result"
    }
   ]
  },
  {
   "cell_type": "code",
   "source": [
    "tab[:0:-1]"
   ],
   "metadata": {
    "id": "OFXBZ2MrTpg7",
    "ExecuteTime": {
     "start_time": "2023-04-05T17:18:17.954973Z",
     "end_time": "2023-04-05T17:18:18.933805Z"
    }
   },
   "execution_count": 108,
   "outputs": [
    {
     "data": {
      "text/plain": "array([-0.79,  0.13,  0.2 , -0.98, -0.99, -0.95,  0.59,  0.61])"
     },
     "execution_count": 108,
     "metadata": {},
     "output_type": "execute_result"
    }
   ]
  },
  {
   "cell_type": "code",
   "execution_count": 109,
   "metadata": {
    "id": "sXtv8ygBURk1",
    "ExecuteTime": {
     "start_time": "2023-04-05T17:18:17.960600Z",
     "end_time": "2023-04-05T17:18:18.933805Z"
    }
   },
   "outputs": [
    {
     "data": {
      "text/plain": "array([-0.79,  0.13,  0.2 , -0.98, -0.99, -0.95,  0.59,  0.61,  2.18])"
     },
     "execution_count": 109,
     "metadata": {},
     "output_type": "execute_result"
    }
   ],
   "source": [
    "tab[::-1]"
   ]
  },
  {
   "cell_type": "code",
   "execution_count": 110,
   "metadata": {
    "id": "Rl18qvcYV99z",
    "ExecuteTime": {
     "start_time": "2023-04-05T17:18:17.964598Z",
     "end_time": "2023-04-05T17:18:18.945803Z"
    }
   },
   "outputs": [
    {
     "data": {
      "text/plain": "[2.18, 0.61, 0.59, -0.95, -0.99, -0.98, 0.2, 0.13, -0.79]"
     },
     "execution_count": 110,
     "metadata": {},
     "output_type": "execute_result"
    }
   ],
   "source": [
    "list(tab)"
   ]
  },
  {
   "cell_type": "markdown",
   "metadata": {
    "id": "z5xOMuDWx_vI"
   },
   "source": [
    "Filtering or *fancy indexing*."
   ]
  },
  {
   "cell_type": "code",
   "execution_count": 111,
   "metadata": {
    "id": "j6lf8cZix_Ca",
    "ExecuteTime": {
     "start_time": "2023-04-05T17:18:17.971595Z",
     "end_time": "2023-04-05T17:18:18.945803Z"
    }
   },
   "outputs": [
    {
     "data": {
      "text/plain": "array([ True,  True,  True, False, False, False,  True,  True, False])"
     },
     "execution_count": 111,
     "metadata": {},
     "output_type": "execute_result"
    }
   ],
   "source": [
    "tab > 0"
   ]
  },
  {
   "cell_type": "code",
   "execution_count": 112,
   "metadata": {
    "id": "RQVkhxoZyFS-",
    "ExecuteTime": {
     "start_time": "2023-04-05T17:18:17.975595Z",
     "end_time": "2023-04-05T17:18:18.945803Z"
    }
   },
   "outputs": [
    {
     "name": "stdout",
     "output_type": "stream",
     "text": [
      "[2.18 0.61 0.59 0.2  0.13]\n",
      "[ 2.18  0.61  0.59 -0.95 -0.99 -0.98  0.2   0.13 -0.79]\n"
     ]
    }
   ],
   "source": [
    "print(tab[tab > 0])\n",
    "print(tab)"
   ]
  },
  {
   "cell_type": "markdown",
   "metadata": {
    "id": "Kq7E2__sWHc3"
   },
   "source": [
    "**Series** <br>\n",
    "`Pandas` library <br>\n",
    "There are two useful ways you can think about series:\n",
    "\n",
    "*   an ordered dictionary,\n",
    "*   an array with customized index.\n"
   ]
  },
  {
   "cell_type": "code",
   "execution_count": 113,
   "metadata": {
    "id": "oswOeT5gsw21",
    "ExecuteTime": {
     "start_time": "2023-04-05T17:18:17.980114Z",
     "end_time": "2023-04-05T17:18:18.945803Z"
    }
   },
   "outputs": [],
   "source": [
    "#pip install pandas"
   ]
  },
  {
   "cell_type": "code",
   "execution_count": 114,
   "metadata": {
    "id": "fbgBxXhuWB84",
    "ExecuteTime": {
     "start_time": "2023-04-05T17:18:17.983677Z",
     "end_time": "2023-04-05T17:18:18.945803Z"
    }
   },
   "outputs": [],
   "source": [
    "import pandas as pd"
   ]
  },
  {
   "cell_type": "code",
   "execution_count": 115,
   "metadata": {
    "colab": {
     "base_uri": "https://localhost:8080/"
    },
    "id": "YqsitV9YdOsD",
    "outputId": "83d6d5f2-9715-463e-cfc1-d19f3962f9c1",
    "ExecuteTime": {
     "start_time": "2023-04-05T17:18:17.988117Z",
     "end_time": "2023-04-05T17:18:18.956804Z"
    }
   },
   "outputs": [
    {
     "name": "stdout",
     "output_type": "stream",
     "text": [
      "a    1\n",
      "3    2\n",
      "c    3\n",
      "d    4\n",
      "dtype: int64\n"
     ]
    }
   ],
   "source": [
    "series = pd.Series([1, 2, 3, 4], index=['a', 3, 'c', 'd'])\n",
    "print(series)"
   ]
  },
  {
   "cell_type": "code",
   "source": [
    "print(series['a'])\n",
    "print(series[3])"
   ],
   "metadata": {
    "colab": {
     "base_uri": "https://localhost:8080/"
    },
    "id": "i71aZdpJbFhh",
    "outputId": "3c0482cb-51f9-4eba-8532-4684d49fd854",
    "ExecuteTime": {
     "start_time": "2023-04-05T17:18:17.991687Z",
     "end_time": "2023-04-05T17:18:18.957804Z"
    }
   },
   "execution_count": 116,
   "outputs": [
    {
     "name": "stdout",
     "output_type": "stream",
     "text": [
      "1\n",
      "2\n"
     ]
    }
   ]
  },
  {
   "cell_type": "code",
   "source": [
    "print(series['a'])\n",
    "#print(series[2])"
   ],
   "metadata": {
    "colab": {
     "base_uri": "https://localhost:8080/",
     "height": 519
    },
    "id": "oqMD6ZpqarrG",
    "outputId": "de06f5aa-1f95-4020-8a73-a09c04747b0d",
    "ExecuteTime": {
     "start_time": "2023-04-05T17:18:17.996686Z",
     "end_time": "2023-04-05T17:18:18.957804Z"
    }
   },
   "execution_count": 117,
   "outputs": [
    {
     "name": "stdout",
     "output_type": "stream",
     "text": [
      "1\n"
     ]
    }
   ]
  },
  {
   "cell_type": "code",
   "execution_count": 118,
   "metadata": {
    "id": "e1UddwiQdQzm",
    "ExecuteTime": {
     "start_time": "2023-04-05T17:18:18.000307Z",
     "end_time": "2023-04-05T17:18:18.993804Z"
    }
   },
   "outputs": [
    {
     "data": {
      "text/plain": "c    3\nd    4\ndtype: int64"
     },
     "execution_count": 118,
     "metadata": {},
     "output_type": "execute_result"
    }
   ],
   "source": [
    "series['c':'d']"
   ]
  },
  {
   "cell_type": "code",
   "execution_count": 119,
   "metadata": {
    "colab": {
     "base_uri": "https://localhost:8080/"
    },
    "id": "ciAv5Q9fdToC",
    "outputId": "9681d08b-89b3-4c18-8ee2-99eea2a2db9a",
    "ExecuteTime": {
     "start_time": "2023-04-05T17:18:18.007309Z",
     "end_time": "2023-04-05T17:18:18.993804Z"
    }
   },
   "outputs": [
    {
     "data": {
      "text/plain": "9       1\n8       2\n7       3\n6    4abc\ndtype: object"
     },
     "execution_count": 119,
     "metadata": {},
     "output_type": "execute_result"
    }
   ],
   "source": [
    "joke = pd.Series([1, 2, 3, '4abc'], [9, 8, 7,6])\n",
    "joke"
   ]
  },
  {
   "cell_type": "markdown",
   "metadata": {
    "id": "qAQgHZh3dfFq"
   },
   "source": [
    "How to reference explicitly to defined and default indices?"
   ]
  },
  {
   "cell_type": "code",
   "execution_count": 120,
   "metadata": {
    "colab": {
     "base_uri": "https://localhost:8080/"
    },
    "id": "_5W7sz42da-2",
    "outputId": "b0c4d679-56a0-4fd0-a2bc-3cf17db66ba7",
    "ExecuteTime": {
     "start_time": "2023-04-05T17:18:18.013063Z",
     "end_time": "2023-04-05T17:18:18.993804Z"
    }
   },
   "outputs": [
    {
     "name": "stdout",
     "output_type": "stream",
     "text": [
      "1\n",
      "2\n",
      "3\n"
     ]
    }
   ],
   "source": [
    "print(joke[9])\n",
    "print(joke.loc[8])\n",
    "print(joke.iloc[2])"
   ]
  },
  {
   "cell_type": "markdown",
   "metadata": {
    "id": "n5pCKq5hdyPy"
   },
   "source": [
    "Using series `index`."
   ]
  },
  {
   "cell_type": "code",
   "execution_count": 121,
   "metadata": {
    "colab": {
     "base_uri": "https://localhost:8080/"
    },
    "id": "I7LY1zHJdq7X",
    "outputId": "89d0cf99-c331-444b-9346-0937c3a4b90f",
    "ExecuteTime": {
     "start_time": "2023-04-05T17:18:18.018608Z",
     "end_time": "2023-04-05T17:18:18.994805Z"
    }
   },
   "outputs": [
    {
     "name": "stdout",
     "output_type": "stream",
     "text": [
      "moszna\n",
      "292.80    Wrocław\n",
      "149.00      Opole\n",
      "147.90      cyców\n",
      "7.29       moszna\n",
      "dtype: object\n"
     ]
    }
   ],
   "source": [
    "area_series = pd.Series(cities_list,area_list)\n",
    "print(area_series[7.29])\n",
    "print(area_series)"
   ]
  },
  {
   "cell_type": "code",
   "execution_count": 122,
   "metadata": {
    "colab": {
     "base_uri": "https://localhost:8080/"
    },
    "id": "_xL41VE6eQZn",
    "outputId": "f329deab-4154-4406-c02f-194b5879b602",
    "ExecuteTime": {
     "start_time": "2023-04-05T17:18:18.024605Z",
     "end_time": "2023-04-05T17:18:19.009804Z"
    }
   },
   "outputs": [
    {
     "name": "stdout",
     "output_type": "stream",
     "text": [
      "Index([292.8, 149.0, 147.9, 7.29], dtype='float64') ['Wrocław' 'Opole' 'cyców' 'moszna']\n"
     ]
    }
   ],
   "source": [
    "print(area_series.index, \n",
    "      area_series.values)"
   ]
  },
  {
   "cell_type": "code",
   "execution_count": 123,
   "metadata": {
    "id": "AzIsOkRuCTLs",
    "colab": {
     "base_uri": "https://localhost:8080/"
    },
    "outputId": "5e2d456a-ae90-4f11-de1c-3d85e0f3d16e",
    "ExecuteTime": {
     "start_time": "2023-04-05T17:18:18.029561Z",
     "end_time": "2023-04-05T17:18:19.010806Z"
    }
   },
   "outputs": [
    {
     "name": "stdout",
     "output_type": "stream",
     "text": [
      "a    1\n",
      "b    2\n",
      "c    3\n",
      "d    4\n",
      "e    5\n",
      "dtype: int64\n",
      "3\n",
      "2\n",
      "a    1\n",
      "b    2\n",
      "d    4\n",
      "dtype: int64\n",
      "a   NaN\n",
      "b   NaN\n",
      "c   NaN\n",
      "d   NaN\n",
      "e   NaN\n",
      "f   NaN\n",
      "g   NaN\n",
      "dtype: float64\n",
      "d    4\n",
      "e    5\n",
      "dtype: int64\n",
      "15\n"
     ]
    }
   ],
   "source": [
    "s1 = pd.Series([1, 2, 3, 4, 5], index=['a', 'b', 'c', 'd', 'e'])\n",
    "s2 = pd.Series([6,7], index=['f','g'])\n",
    "print(s1)\n",
    "print(s1['c'])\n",
    "print(s1[1])\n",
    "print(s1[['a', 'b', 'd']])\n",
    "print(s1+s2)\n",
    "print(s1[s1>3])\n",
    "print(s1.sum())"
   ]
  },
  {
   "cell_type": "markdown",
   "metadata": {
    "id": "yKuePSTaeslt"
   },
   "source": [
    "**Data Frame** <br>\n",
    "`Pandas` <br>\n",
    "It is a collection of series that share a common index. <br>\n",
    "Try the `display` command to print the data contained in the data frame. <br>\n",
    "The data frame is the must-know for a data scientist.. "
   ]
  },
  {
   "cell_type": "code",
   "execution_count": 124,
   "metadata": {
    "colab": {
     "base_uri": "https://localhost:8080/",
     "height": 505
    },
    "id": "ZsIcg_CveT4T",
    "outputId": "b32a4cb0-eb08-4a8d-aafb-93cf12799fa2",
    "ExecuteTime": {
     "start_time": "2023-04-05T17:18:18.039475Z",
     "end_time": "2023-04-05T17:18:19.010806Z"
    }
   },
   "outputs": [
    {
     "data": {
      "text/plain": "           Population    Area\nWrocław        643782  292.80\nOpole          128140  149.00\nCyców            1200  147.90\nMoszna            350    7.29\nBrowarek           48    2.81\nZłe Mięso         195    4.38\nRadom          210532  111.80\nParyż         2148000  105.40\nBiłgoraj        27106   21.10",
      "text/html": "<div>\n<style scoped>\n    .dataframe tbody tr th:only-of-type {\n        vertical-align: middle;\n    }\n\n    .dataframe tbody tr th {\n        vertical-align: top;\n    }\n\n    .dataframe thead th {\n        text-align: right;\n    }\n</style>\n<table border=\"1\" class=\"dataframe\">\n  <thead>\n    <tr style=\"text-align: right;\">\n      <th></th>\n      <th>Population</th>\n      <th>Area</th>\n    </tr>\n  </thead>\n  <tbody>\n    <tr>\n      <th>Wrocław</th>\n      <td>643782</td>\n      <td>292.80</td>\n    </tr>\n    <tr>\n      <th>Opole</th>\n      <td>128140</td>\n      <td>149.00</td>\n    </tr>\n    <tr>\n      <th>Cyców</th>\n      <td>1200</td>\n      <td>147.90</td>\n    </tr>\n    <tr>\n      <th>Moszna</th>\n      <td>350</td>\n      <td>7.29</td>\n    </tr>\n    <tr>\n      <th>Browarek</th>\n      <td>48</td>\n      <td>2.81</td>\n    </tr>\n    <tr>\n      <th>Złe Mięso</th>\n      <td>195</td>\n      <td>4.38</td>\n    </tr>\n    <tr>\n      <th>Radom</th>\n      <td>210532</td>\n      <td>111.80</td>\n    </tr>\n    <tr>\n      <th>Paryż</th>\n      <td>2148000</td>\n      <td>105.40</td>\n    </tr>\n    <tr>\n      <th>Biłgoraj</th>\n      <td>27106</td>\n      <td>21.10</td>\n    </tr>\n  </tbody>\n</table>\n</div>"
     },
     "metadata": {},
     "output_type": "display_data"
    },
    {
     "name": "stdout",
     "output_type": "stream",
     "text": [
      "           Population    Area\n",
      "Wrocław        643782  292.80\n",
      "Opole          128140  149.00\n",
      "Cyców            1200  147.90\n",
      "Moszna            350    7.29\n",
      "Browarek           48    2.81\n",
      "Złe Mięso         195    4.38\n",
      "Radom          210532  111.80\n",
      "Paryż         2148000  105.40\n",
      "Biłgoraj        27106   21.10\n"
     ]
    }
   ],
   "source": [
    "df = pd.DataFrame({'Population': population_dict,\n",
    "                   'Area': area_dict})\n",
    "display(df)\n",
    "print(df)"
   ]
  },
  {
   "cell_type": "code",
   "execution_count": 125,
   "metadata": {
    "colab": {
     "base_uri": "https://localhost:8080/"
    },
    "id": "wJWVmI1HfRlW",
    "outputId": "dbf63c0f-7bc6-4439-977d-652a0f57a5d4",
    "ExecuteTime": {
     "start_time": "2023-04-05T17:18:18.046474Z",
     "end_time": "2023-04-05T17:18:19.060320Z"
    }
   },
   "outputs": [
    {
     "name": "stdout",
     "output_type": "stream",
     "text": [
      "Index(['Wrocław', 'Opole', 'Cyców', 'Moszna', 'Browarek', 'Złe Mięso', 'Radom',\n",
      "       'Paryż', 'Biłgoraj'],\n",
      "      dtype='object')\n",
      "\n",
      "  \n",
      "Index(['Population', 'Area'], dtype='object')\n"
     ]
    }
   ],
   "source": [
    "print(df.index, \n",
    "      df.columns, sep='\\n\\n  \\n')"
   ]
  },
  {
   "cell_type": "code",
   "source": [
    "df.loc['Paryż','Population']"
   ],
   "metadata": {
    "id": "rDQ9OlWqlIkK",
    "colab": {
     "base_uri": "https://localhost:8080/"
    },
    "outputId": "6b2b3e47-bfc5-403a-b1a7-6a8149a2f6a0",
    "ExecuteTime": {
     "start_time": "2023-04-05T17:18:18.050975Z",
     "end_time": "2023-04-05T17:18:19.060320Z"
    }
   },
   "execution_count": 126,
   "outputs": [
    {
     "data": {
      "text/plain": "2148000"
     },
     "execution_count": 126,
     "metadata": {},
     "output_type": "execute_result"
    }
   ]
  },
  {
   "cell_type": "code",
   "execution_count": 127,
   "metadata": {
    "id": "AneCTk65fUmw",
    "ExecuteTime": {
     "start_time": "2023-04-05T17:18:18.055862Z",
     "end_time": "2023-04-05T17:18:19.060320Z"
    }
   },
   "outputs": [],
   "source": [
    "df.loc['Paryż','Population'] = 112"
   ]
  },
  {
   "cell_type": "code",
   "execution_count": 128,
   "metadata": {
    "colab": {
     "base_uri": "https://localhost:8080/",
     "height": 332
    },
    "id": "8Ln3f9lBfX3j",
    "outputId": "3dcf7200-1b06-4daf-bc24-31db39a9e720",
    "ExecuteTime": {
     "start_time": "2023-04-05T17:18:18.061377Z",
     "end_time": "2023-04-05T17:18:19.060320Z"
    }
   },
   "outputs": [
    {
     "data": {
      "text/plain": "           Population\nWrocław        643782\nOpole          128140\nCyców            1200\nMoszna            350\nBrowarek           48\nZłe Mięso         195\nRadom          210532\nParyż             112\nBiłgoraj        27106",
      "text/html": "<div>\n<style scoped>\n    .dataframe tbody tr th:only-of-type {\n        vertical-align: middle;\n    }\n\n    .dataframe tbody tr th {\n        vertical-align: top;\n    }\n\n    .dataframe thead th {\n        text-align: right;\n    }\n</style>\n<table border=\"1\" class=\"dataframe\">\n  <thead>\n    <tr style=\"text-align: right;\">\n      <th></th>\n      <th>Population</th>\n    </tr>\n  </thead>\n  <tbody>\n    <tr>\n      <th>Wrocław</th>\n      <td>643782</td>\n    </tr>\n    <tr>\n      <th>Opole</th>\n      <td>128140</td>\n    </tr>\n    <tr>\n      <th>Cyców</th>\n      <td>1200</td>\n    </tr>\n    <tr>\n      <th>Moszna</th>\n      <td>350</td>\n    </tr>\n    <tr>\n      <th>Browarek</th>\n      <td>48</td>\n    </tr>\n    <tr>\n      <th>Złe Mięso</th>\n      <td>195</td>\n    </tr>\n    <tr>\n      <th>Radom</th>\n      <td>210532</td>\n    </tr>\n    <tr>\n      <th>Paryż</th>\n      <td>112</td>\n    </tr>\n    <tr>\n      <th>Biłgoraj</th>\n      <td>27106</td>\n    </tr>\n  </tbody>\n</table>\n</div>"
     },
     "execution_count": 128,
     "metadata": {},
     "output_type": "execute_result"
    }
   ],
   "source": [
    "df[['Population']]"
   ]
  },
  {
   "cell_type": "markdown",
   "metadata": {
    "id": "fLNIqRYEfeIY"
   },
   "source": [
    "Data frame may be transposed."
   ]
  },
  {
   "cell_type": "code",
   "execution_count": 129,
   "metadata": {
    "colab": {
     "base_uri": "https://localhost:8080/",
     "height": 112
    },
    "id": "7qK9rHn2fiv8",
    "outputId": "2f56293d-9f62-4600-c0e3-7711983f54bf",
    "ExecuteTime": {
     "start_time": "2023-04-05T17:18:18.066379Z",
     "end_time": "2023-04-05T17:18:19.076321Z"
    }
   },
   "outputs": [
    {
     "data": {
      "text/plain": "             Wrocław     Opole   Cyców  Moszna  Browarek  Złe Mięso     Radom   \nPopulation  643782.0  128140.0  1200.0  350.00     48.00     195.00  210532.0  \\\nArea           292.8     149.0   147.9    7.29      2.81       4.38     111.8   \n\n            Paryż  Biłgoraj  \nPopulation  112.0   27106.0  \nArea        105.4      21.1  ",
      "text/html": "<div>\n<style scoped>\n    .dataframe tbody tr th:only-of-type {\n        vertical-align: middle;\n    }\n\n    .dataframe tbody tr th {\n        vertical-align: top;\n    }\n\n    .dataframe thead th {\n        text-align: right;\n    }\n</style>\n<table border=\"1\" class=\"dataframe\">\n  <thead>\n    <tr style=\"text-align: right;\">\n      <th></th>\n      <th>Wrocław</th>\n      <th>Opole</th>\n      <th>Cyców</th>\n      <th>Moszna</th>\n      <th>Browarek</th>\n      <th>Złe Mięso</th>\n      <th>Radom</th>\n      <th>Paryż</th>\n      <th>Biłgoraj</th>\n    </tr>\n  </thead>\n  <tbody>\n    <tr>\n      <th>Population</th>\n      <td>643782.0</td>\n      <td>128140.0</td>\n      <td>1200.0</td>\n      <td>350.00</td>\n      <td>48.00</td>\n      <td>195.00</td>\n      <td>210532.0</td>\n      <td>112.0</td>\n      <td>27106.0</td>\n    </tr>\n    <tr>\n      <th>Area</th>\n      <td>292.8</td>\n      <td>149.0</td>\n      <td>147.9</td>\n      <td>7.29</td>\n      <td>2.81</td>\n      <td>4.38</td>\n      <td>111.8</td>\n      <td>105.4</td>\n      <td>21.1</td>\n    </tr>\n  </tbody>\n</table>\n</div>"
     },
     "execution_count": 129,
     "metadata": {},
     "output_type": "execute_result"
    }
   ],
   "source": [
    "df.T"
   ]
  },
  {
   "cell_type": "code",
   "execution_count": 130,
   "metadata": {
    "colab": {
     "base_uri": "https://localhost:8080/",
     "height": 112
    },
    "id": "SWI2PE87fZxT",
    "outputId": "811f923e-84b2-48fa-bf50-3fc63351802d",
    "ExecuteTime": {
     "start_time": "2023-04-05T17:18:18.078378Z",
     "end_time": "2023-04-05T17:18:19.082320Z"
    }
   },
   "outputs": [
    {
     "data": {
      "text/plain": "             Wrocław  Paryż   Cyców\nPopulation  643782.0  112.0  1200.0\nArea           292.8  105.4   147.9",
      "text/html": "<div>\n<style scoped>\n    .dataframe tbody tr th:only-of-type {\n        vertical-align: middle;\n    }\n\n    .dataframe tbody tr th {\n        vertical-align: top;\n    }\n\n    .dataframe thead th {\n        text-align: right;\n    }\n</style>\n<table border=\"1\" class=\"dataframe\">\n  <thead>\n    <tr style=\"text-align: right;\">\n      <th></th>\n      <th>Wrocław</th>\n      <th>Paryż</th>\n      <th>Cyców</th>\n    </tr>\n  </thead>\n  <tbody>\n    <tr>\n      <th>Population</th>\n      <td>643782.0</td>\n      <td>112.0</td>\n      <td>1200.0</td>\n    </tr>\n    <tr>\n      <th>Area</th>\n      <td>292.8</td>\n      <td>105.4</td>\n      <td>147.9</td>\n    </tr>\n  </tbody>\n</table>\n</div>"
     },
     "execution_count": 130,
     "metadata": {},
     "output_type": "execute_result"
    }
   ],
   "source": [
    "df.T[['Wrocław','Paryż','Cyców']]"
   ]
  },
  {
   "cell_type": "markdown",
   "metadata": {
    "id": "sjILqrA_NuGQ"
   },
   "source": [
    "**Investigate** the difference between\n",
    "```python\n",
    "df.T[['Wrocław']]\n",
    "``` \n",
    "and\n",
    "```python \n",
    "df.T['Wrocław']\n",
    "```"
   ]
  },
  {
   "cell_type": "code",
   "source": [
    "df.T[['Wrocław']]"
   ],
   "metadata": {
    "colab": {
     "base_uri": "https://localhost:8080/",
     "height": 112
    },
    "id": "csUFUS9ZpwgU",
    "outputId": "0f1f7e94-2ee7-4c98-eb9a-3afe357e7e77",
    "ExecuteTime": {
     "start_time": "2023-04-05T17:18:18.103998Z",
     "end_time": "2023-04-05T17:18:19.082320Z"
    }
   },
   "execution_count": 131,
   "outputs": [
    {
     "data": {
      "text/plain": "             Wrocław\nPopulation  643782.0\nArea           292.8",
      "text/html": "<div>\n<style scoped>\n    .dataframe tbody tr th:only-of-type {\n        vertical-align: middle;\n    }\n\n    .dataframe tbody tr th {\n        vertical-align: top;\n    }\n\n    .dataframe thead th {\n        text-align: right;\n    }\n</style>\n<table border=\"1\" class=\"dataframe\">\n  <thead>\n    <tr style=\"text-align: right;\">\n      <th></th>\n      <th>Wrocław</th>\n    </tr>\n  </thead>\n  <tbody>\n    <tr>\n      <th>Population</th>\n      <td>643782.0</td>\n    </tr>\n    <tr>\n      <th>Area</th>\n      <td>292.8</td>\n    </tr>\n  </tbody>\n</table>\n</div>"
     },
     "execution_count": 131,
     "metadata": {},
     "output_type": "execute_result"
    }
   ]
  },
  {
   "cell_type": "code",
   "source": [
    "df.T['Wrocław']"
   ],
   "metadata": {
    "colab": {
     "base_uri": "https://localhost:8080/"
    },
    "id": "E7GlYB2cpn_U",
    "outputId": "53cc51b8-734e-49b3-e61a-dcbff0e7124e",
    "ExecuteTime": {
     "start_time": "2023-04-05T17:18:18.110999Z",
     "end_time": "2023-04-05T17:18:19.082320Z"
    }
   },
   "execution_count": 132,
   "outputs": [
    {
     "data": {
      "text/plain": "Population    643782.0\nArea             292.8\nName: Wrocław, dtype: float64"
     },
     "execution_count": 132,
     "metadata": {},
     "output_type": "execute_result"
    }
   ]
  },
  {
   "cell_type": "code",
   "execution_count": 133,
   "metadata": {
    "colab": {
     "base_uri": "https://localhost:8080/",
     "height": 332
    },
    "id": "slL-Mwb3fc7H",
    "outputId": "4ef93dee-686d-4ef0-9139-3ae62b4c43db",
    "ExecuteTime": {
     "start_time": "2023-04-05T17:18:18.116749Z",
     "end_time": "2023-04-05T17:18:19.109319Z"
    }
   },
   "outputs": [
    {
     "data": {
      "text/plain": "              pop     pow\nWrocław    643782  292.80\nOpole      128140  149.00\nCyców        1200  147.90\nMoszna        350    7.29\nBrowarek       48    2.81\nZłe Mięso     195    4.38\nRadom      210532  111.80\nParyż         112  105.40\nBiłgoraj    27106   21.10",
      "text/html": "<div>\n<style scoped>\n    .dataframe tbody tr th:only-of-type {\n        vertical-align: middle;\n    }\n\n    .dataframe tbody tr th {\n        vertical-align: top;\n    }\n\n    .dataframe thead th {\n        text-align: right;\n    }\n</style>\n<table border=\"1\" class=\"dataframe\">\n  <thead>\n    <tr style=\"text-align: right;\">\n      <th></th>\n      <th>pop</th>\n      <th>pow</th>\n    </tr>\n  </thead>\n  <tbody>\n    <tr>\n      <th>Wrocław</th>\n      <td>643782</td>\n      <td>292.80</td>\n    </tr>\n    <tr>\n      <th>Opole</th>\n      <td>128140</td>\n      <td>149.00</td>\n    </tr>\n    <tr>\n      <th>Cyców</th>\n      <td>1200</td>\n      <td>147.90</td>\n    </tr>\n    <tr>\n      <th>Moszna</th>\n      <td>350</td>\n      <td>7.29</td>\n    </tr>\n    <tr>\n      <th>Browarek</th>\n      <td>48</td>\n      <td>2.81</td>\n    </tr>\n    <tr>\n      <th>Złe Mięso</th>\n      <td>195</td>\n      <td>4.38</td>\n    </tr>\n    <tr>\n      <th>Radom</th>\n      <td>210532</td>\n      <td>111.80</td>\n    </tr>\n    <tr>\n      <th>Paryż</th>\n      <td>112</td>\n      <td>105.40</td>\n    </tr>\n    <tr>\n      <th>Biłgoraj</th>\n      <td>27106</td>\n      <td>21.10</td>\n    </tr>\n  </tbody>\n</table>\n</div>"
     },
     "execution_count": 133,
     "metadata": {},
     "output_type": "execute_result"
    }
   ],
   "source": [
    "df.rename(columns={'Population': 'pop', 'Area': 'pow'})"
   ]
  },
  {
   "cell_type": "code",
   "execution_count": 134,
   "metadata": {
    "colab": {
     "base_uri": "https://localhost:8080/",
     "height": 332
    },
    "id": "lRCDmNLdxx99",
    "outputId": "06c778a9-6fd5-4184-da60-d1d32b445b29",
    "ExecuteTime": {
     "start_time": "2023-04-05T17:18:18.128897Z",
     "end_time": "2023-04-05T17:18:19.109319Z"
    }
   },
   "outputs": [
    {
     "data": {
      "text/plain": "           Population    Area\nWrocław        643782  292.80\nOpole          128140  149.00\nCyców            1200  147.90\nMoszna            350    7.29\nBrowarek   peace_hole    2.81\nZłe Mięso         195    4.38\nRadom          210532  111.80\nParyż             112  105.40\nBiłgoraj        27106   21.10",
      "text/html": "<div>\n<style scoped>\n    .dataframe tbody tr th:only-of-type {\n        vertical-align: middle;\n    }\n\n    .dataframe tbody tr th {\n        vertical-align: top;\n    }\n\n    .dataframe thead th {\n        text-align: right;\n    }\n</style>\n<table border=\"1\" class=\"dataframe\">\n  <thead>\n    <tr style=\"text-align: right;\">\n      <th></th>\n      <th>Population</th>\n      <th>Area</th>\n    </tr>\n  </thead>\n  <tbody>\n    <tr>\n      <th>Wrocław</th>\n      <td>643782</td>\n      <td>292.80</td>\n    </tr>\n    <tr>\n      <th>Opole</th>\n      <td>128140</td>\n      <td>149.00</td>\n    </tr>\n    <tr>\n      <th>Cyców</th>\n      <td>1200</td>\n      <td>147.90</td>\n    </tr>\n    <tr>\n      <th>Moszna</th>\n      <td>350</td>\n      <td>7.29</td>\n    </tr>\n    <tr>\n      <th>Browarek</th>\n      <td>peace_hole</td>\n      <td>2.81</td>\n    </tr>\n    <tr>\n      <th>Złe Mięso</th>\n      <td>195</td>\n      <td>4.38</td>\n    </tr>\n    <tr>\n      <th>Radom</th>\n      <td>210532</td>\n      <td>111.80</td>\n    </tr>\n    <tr>\n      <th>Paryż</th>\n      <td>112</td>\n      <td>105.40</td>\n    </tr>\n    <tr>\n      <th>Biłgoraj</th>\n      <td>27106</td>\n      <td>21.10</td>\n    </tr>\n  </tbody>\n</table>\n</div>"
     },
     "execution_count": 134,
     "metadata": {},
     "output_type": "execute_result"
    }
   ],
   "source": [
    "df.replace(48, 'peace_hole')"
   ]
  },
  {
   "cell_type": "code",
   "source": [
    "df.loc['Paryż', 'Population'] = 112\n",
    "df.loc['Opole', 'Population'] = 112\n",
    "df.replace(112, 'peace_hole')"
   ],
   "metadata": {
    "colab": {
     "base_uri": "https://localhost:8080/",
     "height": 332
    },
    "id": "_bsmHKWzqA5I",
    "outputId": "2a85827b-ef5c-4646-9d25-94696bfa2253",
    "ExecuteTime": {
     "start_time": "2023-04-05T17:18:18.132994Z",
     "end_time": "2023-04-05T17:18:19.110318Z"
    }
   },
   "execution_count": 135,
   "outputs": [
    {
     "data": {
      "text/plain": "           Population    Area\nWrocław        643782  292.80\nOpole      peace_hole  149.00\nCyców            1200  147.90\nMoszna            350    7.29\nBrowarek           48    2.81\nZłe Mięso         195    4.38\nRadom          210532  111.80\nParyż      peace_hole  105.40\nBiłgoraj        27106   21.10",
      "text/html": "<div>\n<style scoped>\n    .dataframe tbody tr th:only-of-type {\n        vertical-align: middle;\n    }\n\n    .dataframe tbody tr th {\n        vertical-align: top;\n    }\n\n    .dataframe thead th {\n        text-align: right;\n    }\n</style>\n<table border=\"1\" class=\"dataframe\">\n  <thead>\n    <tr style=\"text-align: right;\">\n      <th></th>\n      <th>Population</th>\n      <th>Area</th>\n    </tr>\n  </thead>\n  <tbody>\n    <tr>\n      <th>Wrocław</th>\n      <td>643782</td>\n      <td>292.80</td>\n    </tr>\n    <tr>\n      <th>Opole</th>\n      <td>peace_hole</td>\n      <td>149.00</td>\n    </tr>\n    <tr>\n      <th>Cyców</th>\n      <td>1200</td>\n      <td>147.90</td>\n    </tr>\n    <tr>\n      <th>Moszna</th>\n      <td>350</td>\n      <td>7.29</td>\n    </tr>\n    <tr>\n      <th>Browarek</th>\n      <td>48</td>\n      <td>2.81</td>\n    </tr>\n    <tr>\n      <th>Złe Mięso</th>\n      <td>195</td>\n      <td>4.38</td>\n    </tr>\n    <tr>\n      <th>Radom</th>\n      <td>210532</td>\n      <td>111.80</td>\n    </tr>\n    <tr>\n      <th>Paryż</th>\n      <td>peace_hole</td>\n      <td>105.40</td>\n    </tr>\n    <tr>\n      <th>Biłgoraj</th>\n      <td>27106</td>\n      <td>21.10</td>\n    </tr>\n  </tbody>\n</table>\n</div>"
     },
     "execution_count": 135,
     "metadata": {},
     "output_type": "execute_result"
    }
   ]
  },
  {
   "cell_type": "code",
   "execution_count": 136,
   "metadata": {
    "colab": {
     "base_uri": "https://localhost:8080/",
     "height": 332
    },
    "id": "VYxwPXBjx2ew",
    "outputId": "d45c9306-e246-404a-ee05-a390d267e164",
    "ExecuteTime": {
     "start_time": "2023-04-05T17:18:18.140922Z",
     "end_time": "2023-04-05T17:18:19.110318Z"
    }
   },
   "outputs": [
    {
     "data": {
      "text/plain": "           Population    Area\nW-w            643782  292.80\nOpole             112  149.00\nCyców            1200  147.90\nMoszna            350    7.29\nBrowarek           48    2.81\nZłe Mięso         195    4.38\nRadom          210532  111.80\nParyż             112  105.40\nBiłgoraj        27106   21.10",
      "text/html": "<div>\n<style scoped>\n    .dataframe tbody tr th:only-of-type {\n        vertical-align: middle;\n    }\n\n    .dataframe tbody tr th {\n        vertical-align: top;\n    }\n\n    .dataframe thead th {\n        text-align: right;\n    }\n</style>\n<table border=\"1\" class=\"dataframe\">\n  <thead>\n    <tr style=\"text-align: right;\">\n      <th></th>\n      <th>Population</th>\n      <th>Area</th>\n    </tr>\n  </thead>\n  <tbody>\n    <tr>\n      <th>W-w</th>\n      <td>643782</td>\n      <td>292.80</td>\n    </tr>\n    <tr>\n      <th>Opole</th>\n      <td>112</td>\n      <td>149.00</td>\n    </tr>\n    <tr>\n      <th>Cyców</th>\n      <td>1200</td>\n      <td>147.90</td>\n    </tr>\n    <tr>\n      <th>Moszna</th>\n      <td>350</td>\n      <td>7.29</td>\n    </tr>\n    <tr>\n      <th>Browarek</th>\n      <td>48</td>\n      <td>2.81</td>\n    </tr>\n    <tr>\n      <th>Złe Mięso</th>\n      <td>195</td>\n      <td>4.38</td>\n    </tr>\n    <tr>\n      <th>Radom</th>\n      <td>210532</td>\n      <td>111.80</td>\n    </tr>\n    <tr>\n      <th>Paryż</th>\n      <td>112</td>\n      <td>105.40</td>\n    </tr>\n    <tr>\n      <th>Biłgoraj</th>\n      <td>27106</td>\n      <td>21.10</td>\n    </tr>\n  </tbody>\n</table>\n</div>"
     },
     "execution_count": 136,
     "metadata": {},
     "output_type": "execute_result"
    }
   ],
   "source": [
    "df.rename(index={'Wrocław':'W-w'})"
   ]
  },
  {
   "cell_type": "code",
   "execution_count": 137,
   "metadata": {
    "id": "g6OTZwfdCvCA",
    "colab": {
     "base_uri": "https://localhost:8080/",
     "height": 206
    },
    "outputId": "0b3068c8-0f7c-4dad-e018-44e8d8474adf",
    "ExecuteTime": {
     "start_time": "2023-04-05T17:18:18.148675Z",
     "end_time": "2023-04-05T17:18:19.110318Z"
    }
   },
   "outputs": [
    {
     "data": {
      "text/plain": "       name  age\n0      Mark   55\n1       Ann   20\n2      Andy   45\n3  Veronica   15\n4      Sara  100",
      "text/html": "<div>\n<style scoped>\n    .dataframe tbody tr th:only-of-type {\n        vertical-align: middle;\n    }\n\n    .dataframe tbody tr th {\n        vertical-align: top;\n    }\n\n    .dataframe thead th {\n        text-align: right;\n    }\n</style>\n<table border=\"1\" class=\"dataframe\">\n  <thead>\n    <tr style=\"text-align: right;\">\n      <th></th>\n      <th>name</th>\n      <th>age</th>\n    </tr>\n  </thead>\n  <tbody>\n    <tr>\n      <th>0</th>\n      <td>Mark</td>\n      <td>55</td>\n    </tr>\n    <tr>\n      <th>1</th>\n      <td>Ann</td>\n      <td>20</td>\n    </tr>\n    <tr>\n      <th>2</th>\n      <td>Andy</td>\n      <td>45</td>\n    </tr>\n    <tr>\n      <th>3</th>\n      <td>Veronica</td>\n      <td>15</td>\n    </tr>\n    <tr>\n      <th>4</th>\n      <td>Sara</td>\n      <td>100</td>\n    </tr>\n  </tbody>\n</table>\n</div>"
     },
     "metadata": {},
     "output_type": "display_data"
    }
   ],
   "source": [
    "my_df = pd.DataFrame({'name':name_age1.keys(), 'age':name_age1.values()})\n",
    "display(my_df)"
   ]
  },
  {
   "cell_type": "code",
   "source": [
    "print(my_df['name'])\n",
    "print(my_df['age'])\n",
    "print(my_df.index)\n",
    "print(my_df.columns)"
   ],
   "metadata": {
    "colab": {
     "base_uri": "https://localhost:8080/"
    },
    "id": "DE5rK2BKr_tu",
    "outputId": "3668319e-d332-49f4-b427-47554948ed39",
    "ExecuteTime": {
     "start_time": "2023-04-05T17:18:18.155675Z",
     "end_time": "2023-04-05T17:18:19.110318Z"
    }
   },
   "execution_count": 138,
   "outputs": [
    {
     "name": "stdout",
     "output_type": "stream",
     "text": [
      "0        Mark\n",
      "1         Ann\n",
      "2        Andy\n",
      "3    Veronica\n",
      "4        Sara\n",
      "Name: name, dtype: object\n",
      "0     55\n",
      "1     20\n",
      "2     45\n",
      "3     15\n",
      "4    100\n",
      "Name: age, dtype: int64\n",
      "RangeIndex(start=0, stop=5, step=1)\n",
      "Index(['name', 'age'], dtype='object')\n"
     ]
    }
   ]
  },
  {
   "cell_type": "code",
   "source": [],
   "metadata": {
    "id": "LhazlnD7sRVD",
    "ExecuteTime": {
     "start_time": "2023-04-05T17:18:18.160025Z",
     "end_time": "2023-04-05T17:18:19.110318Z"
    }
   },
   "execution_count": 138,
   "outputs": []
  },
  {
   "cell_type": "markdown",
   "metadata": {
    "id": "xX-7_OMbyofL"
   },
   "source": [
    "### Drawing charts\n",
    "Library `Matplotlib`"
   ]
  },
  {
   "cell_type": "code",
   "source": [
    "#pip install matplotlib"
   ],
   "metadata": {
    "colab": {
     "base_uri": "https://localhost:8080/"
    },
    "id": "RJOGxJqjsW8o",
    "outputId": "a86dae9f-c77b-4aff-d477-af49b4f3a982",
    "ExecuteTime": {
     "start_time": "2023-04-05T17:18:18.165592Z",
     "end_time": "2023-04-05T17:18:19.110318Z"
    }
   },
   "execution_count": 139,
   "outputs": []
  },
  {
   "cell_type": "code",
   "execution_count": 140,
   "metadata": {
    "id": "PDL-Xowjx5T2",
    "ExecuteTime": {
     "start_time": "2023-04-05T17:18:18.169222Z",
     "end_time": "2023-04-05T17:18:19.704582Z"
    }
   },
   "outputs": [],
   "source": [
    "import matplotlib.pyplot as plt\n",
    "import numpy as np"
   ]
  },
  {
   "cell_type": "markdown",
   "metadata": {
    "id": "CfWRx4E4FZSd"
   },
   "source": [
    "Let us begin with a simple one, without frills."
   ]
  },
  {
   "cell_type": "code",
   "execution_count": 141,
   "metadata": {
    "colab": {
     "base_uri": "https://localhost:8080/",
     "height": 265
    },
    "id": "__hLM5Z5Ff5o",
    "outputId": "95af06d0-ab63-48c0-d04d-b84a73f64ae7",
    "ExecuteTime": {
     "start_time": "2023-04-05T17:18:18.786290Z",
     "end_time": "2023-04-05T17:18:19.767127Z"
    }
   },
   "outputs": [
    {
     "data": {
      "text/plain": "<Figure size 640x480 with 1 Axes>",
      "image/png": "[encoded data removed]"
     },
     "metadata": {},
     "output_type": "display_data"
    }
   ],
   "source": [
    "x = np.linspace(start=-2.5, stop=4, num=10)\n",
    "y = x**2\n",
    "plt.plot(x,y);"
   ]
  },
  {
   "cell_type": "markdown",
   "metadata": {
    "id": "EHEtjAY3F92S"
   },
   "source": [
    "And now more detailed charts, suitable for reports, articles, diploma thesis, etc."
   ]
  },
  {
   "cell_type": "code",
   "execution_count": 142,
   "metadata": {
    "colab": {
     "base_uri": "https://localhost:8080/",
     "height": 369
    },
    "id": "pH13kdpby2V4",
    "outputId": "586d457e-8cb9-4e0a-9ecf-e6a6499eb0a5",
    "ExecuteTime": {
     "start_time": "2023-04-05T17:18:18.927804Z",
     "end_time": "2023-04-05T17:18:19.782672Z"
    }
   },
   "outputs": [
    {
     "data": {
      "text/plain": "<Figure size 1000x500 with 2 Axes>",
      "image/png": "[encoded data removed]"
     },
     "metadata": {},
     "output_type": "display_data"
    }
   ],
   "source": [
    "fig, ax = plt.subplots(nrows=2, ncols=1, figsize=(10,5))\n",
    "\n",
    "x = np.arange(start=0, stop=2, step=0.1)\n",
    "y = x**2\n",
    "ax[0].plot(x,y, marker='x')\n",
    "ax[0].set_xlabel('x', fontsize=20)\n",
    "ax[0].set_ylabel('y', fontsize=24)\n",
    "\n",
    "x = np.linspace(start=0, stop=6, num=100)\n",
    "y = np.sin(x) + np.sin(3*x)\n",
    "ax[1].plot(x,np.sin(x), label='component 1', alpha=.5, linestyle='dashed',linewidth=3,color ='green')\n",
    "ax[1].plot(x,np.sin(3*x), label='component 2', alpha=.5, linestyle='dotted',linewidth=3, color='red')\n",
    "ax[1].plot(x,y, label='sum', linewidth=3, color='magenta')\n",
    "ax[1].set_xlabel('x', fontsize=14)\n",
    "ax[1].set_ylabel('y', fontsize=14)\n",
    "ax[1].legend()\n",
    "fig.tight_layout()\n",
    "plt.show()"
   ]
  },
  {
   "cell_type": "markdown",
   "metadata": {
    "id": "HzxGHik52Kjr"
   },
   "source": [
    "Laboratory of waves"
   ]
  },
  {
   "cell_type": "code",
   "execution_count": 143,
   "metadata": {
    "colab": {
     "base_uri": "https://localhost:8080/",
     "height": 297
    },
    "id": "ptwyBm1UzL-o",
    "outputId": "ee71ac0e-a438-4f3f-fb3c-f7fcc83448da",
    "ExecuteTime": {
     "start_time": "2023-04-05T17:18:19.150474Z",
     "end_time": "2023-04-05T17:18:19.816073Z"
    }
   },
   "outputs": [
    {
     "data": {
      "text/plain": "<Figure size 1100x400 with 2 Axes>",
      "image/png": "[encoded data removed]"
     },
     "metadata": {},
     "output_type": "display_data"
    }
   ],
   "source": [
    "t = np.linspace(0,3*np.pi, 1000)\n",
    "x = np.sin(2*t)\n",
    "y = np.cos(10*t)\n",
    "\n",
    "fig, ax = plt.subplots(nrows=1, ncols=2, figsize=(11,4))\n",
    "\n",
    "ax[0].plot(t,x, label='x',color='red')\n",
    "ax[0].plot(t,y, label='y', color='purple')\n",
    "ax[0].set_xlabel('t', fontsize=14)\n",
    "ax[0].set_ylabel('value', fontsize=14)\n",
    "ax[0].legend(fontsize=12)\n",
    "ax[0].set_title('time plot')\n",
    "\n",
    "ax[1].plot(x,y)\n",
    "ax[1].set_xlabel('x', fontsize=14, color='red')\n",
    "ax[1].set_ylabel('y', fontsize=14)\n",
    "ax[1].axis('square')\n",
    "ax[1].set_title('state space plot')\n",
    "\n",
    "fig.tight_layout()\n",
    "plt.show()"
   ]
  },
  {
   "cell_type": "code",
   "execution_count": 144,
   "metadata": {
    "colab": {
     "base_uri": "https://localhost:8080/",
     "height": 267
    },
    "id": "iUNqSQbd3Co6",
    "outputId": "99fd34fc-e992-4ba2-b8ed-91cf3de6588c",
    "ExecuteTime": {
     "start_time": "2023-04-05T17:18:19.439510Z",
     "end_time": "2023-04-05T17:18:20.010588Z"
    }
   },
   "outputs": [
    {
     "data": {
      "text/plain": "<Figure size 640x480 with 1 Axes>",
      "image/png": "[encoded data removed]"
     },
     "metadata": {},
     "output_type": "display_data"
    }
   ],
   "source": [
    "from fractions import Fraction\n",
    "\n",
    "x = np.linspace(0,2*np.pi, 1000)\n",
    "y = np.zeros_like(x)\n",
    "\n",
    "fig, ax = plt.subplots()\n",
    "\n",
    "N = 12100\n",
    "for i in range(1,N+1,2):\n",
    "    y += np.sin(i*x)/i\n",
    "\n",
    "pi_ticks = np.arange(0, 2.25*np.pi, 0.25*np.pi)\n",
    "pi_ticklabels = [f\"{str(Fraction(0.25*i))} $\\pi$\" for i in range(9)]\n",
    "ax.set_xticks(pi_ticks)\n",
    "ax.set_xticklabels(pi_ticklabels)\n",
    "\n",
    "\n",
    "plt.plot(x,y)\n",
    "plt.grid(color='red',axis='y', linewidth='1', linestyle='-.')\n",
    "ax.axhline(y=0, color='black')\n",
    "plt.show()"
   ]
  },
  {
   "cell_type": "code",
   "execution_count": 98,
   "outputs": [
    {
     "data": {
      "text/plain": "<Figure size 1500x500 with 2 Axes>",
      "image/png": "[encoded data removed]"
     },
     "metadata": {},
     "output_type": "display_data"
    }
   ],
   "source": [
    "import numpy as np\n",
    "import matplotlib.pyplot as plt\n",
    "n = 1000\n",
    "m = 100\n",
    "fig, ax = plt.subplots(nrows=1, ncols=2, figsize=(15,5))\n",
    "\n",
    "exponential_data = np.random.exponential(scale=2, size=n)\n",
    "\n",
    "exp_means = np.array([np.mean(np.random.exponential(scale=2, size=m)) for i in range(n)])\n",
    "\n",
    "normal_data = (exp_means - 2) * np.sqrt(m/2)\n",
    "\n",
    "ax[0].hist(exponential_data, bins=25, density=True)\n",
    "ax[0].set_title('Exponential Distribution')\n",
    "\n",
    "ax[1].hist(normal_data, bins=25, density=True)\n",
    "ax[1].set_title('Normal Distribution')\n",
    "\n",
    "plt.show()\n"
   ],
   "metadata": {
    "collapsed": false,
    "ExecuteTime": {
     "start_time": "2023-04-05T18:11:57.449345Z",
     "end_time": "2023-04-05T18:11:57.684051Z"
    }
   }
  }
 ],
 "metadata": {
  "colab": {
   "provenance": []
  },
  "kernelspec": {
   "display_name": "Python 3 (ipykernel)",
   "language": "python",
   "name": "python3"
  },
  "language_info": {
   "codemirror_mode": {
    "name": "ipython",
    "version": 3
   },
   "file_extension": ".py",
   "mimetype": "text/x-python",
   "name": "python",
   "nbconvert_exporter": "python",
   "pygments_lexer": "ipython3",
   "version": "3.11.2"
  }
 },
 "nbformat": 4,
 "nbformat_minor": 0
}
