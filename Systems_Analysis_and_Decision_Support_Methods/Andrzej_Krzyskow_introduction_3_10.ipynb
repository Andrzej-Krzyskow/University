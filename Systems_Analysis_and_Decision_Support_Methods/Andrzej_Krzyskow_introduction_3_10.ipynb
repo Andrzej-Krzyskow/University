{
 "cells": [
  {
   "cell_type": "markdown",
   "source": [
    "# 3. Introduction to Python\n",
    "- the easiest way to start writing in python is in the interactive mode\n",
    "- when you start the Python interpreter in interactive mode, it displays a prompt '>>>' that waits for an input\n",
    "- you can enter there code, the interpreter will execute it immediately and display the result\n",
    "- in python comments are indicates with '#' character"
   ],
   "metadata": {
    "collapsed": false
   }
  },
  {
   "cell_type": "markdown",
   "source": [
    "## 3.1 Numbers\n",
    "   - basic operators: +, -, *, / work just as can be expected\n",
    "   - ** is the operator for exponentiation\n",
    "   - % returns modulo\n",
    "   - in python there are two types of division:\n",
    "      -  / which returns floating point number\n",
    "      -  // which returns the integer part of division"
   ],
   "metadata": {
    "collapsed": false
   }
  },
  {
   "cell_type": "code",
   "execution_count": 50,
   "outputs": [
    {
     "name": "stdout",
     "output_type": "stream",
     "text": [
      "3\n",
      "14\n",
      "8\n",
      "3.5\n",
      "3\n",
      "2\n",
      "8\n"
     ]
    }
   ],
   "source": [
    "print(1 + 2)\n",
    "print(21 - 7)\n",
    "print(2 * 4)\n",
    "print(7 / 2)\n",
    "print(7 // 2)\n",
    "print(8 % 3)\n",
    "print(2 ** 3)"
   ],
   "metadata": {
    "collapsed": false
   }
  },
  {
   "cell_type": "markdown",
   "source": [
    "### - moreover, in the interactive mode the last printed expression is assigned to special variable '_':\n",
    "\n",
    "   \\>>> 1+2\n",
    "   3\n",
    "   \\>>> 2*4\n",
    "   8\n",
    "   \\>>> 2+_\n",
    "   10"
   ],
   "metadata": {
    "collapsed": false
   }
  },
  {
   "cell_type": "markdown",
   "source": [
    "## 3.2 Strings\n",
    "   -  strings are expressed in ' ' quotes or \" \" quotes"
   ],
   "metadata": {
    "collapsed": false
   }
  },
  {
   "cell_type": "code",
   "execution_count": 51,
   "outputs": [
    {
     "name": "stdout",
     "output_type": "stream",
     "text": [
      "Hello, World! Sup?\n"
     ]
    }
   ],
   "source": [
    "print('Hello, World!', \"Sup?\")"
   ],
   "metadata": {
    "collapsed": false
   }
  },
  {
   "cell_type": "markdown",
   "source": [
    "### - if you want to escape the character, use '\\'"
   ],
   "metadata": {
    "collapsed": false
   }
  },
  {
   "cell_type": "code",
   "execution_count": 52,
   "outputs": [
    {
     "name": "stdout",
     "output_type": "stream",
     "text": [
      "I'm Andy\n"
     ]
    }
   ],
   "source": [
    "print('I\\'m Andy')"
   ],
   "metadata": {
    "collapsed": false
   }
  },
  {
   "cell_type": "markdown",
   "source": [
    "### - raw strings:"
   ],
   "metadata": {
    "collapsed": false
   }
  },
  {
   "cell_type": "code",
   "execution_count": 53,
   "outputs": [
    {
     "name": "stdout",
     "output_type": "stream",
     "text": [
      "C:\\user\\random_data\n"
     ]
    }
   ],
   "source": [
    "print(r'C:\\user\\random_data')"
   ],
   "metadata": {
    "collapsed": false
   }
  },
  {
   "cell_type": "markdown",
   "source": [
    "### - string concatenation:"
   ],
   "metadata": {
    "collapsed": false
   }
  },
  {
   "cell_type": "code",
   "execution_count": 54,
   "outputs": [
    {
     "data": {
      "text/plain": "'Histrangerstranger'"
     },
     "execution_count": 54,
     "metadata": {},
     "output_type": "execute_result"
    }
   ],
   "source": [
    "'Hi' + 'stranger' * 2"
   ],
   "metadata": {
    "collapsed": false
   }
  },
  {
   "cell_type": "markdown",
   "source": [
    "### - string indexing"
   ],
   "metadata": {
    "collapsed": false
   }
  },
  {
   "cell_type": "code",
   "execution_count": 55,
   "outputs": [
    {
     "name": "stdout",
     "output_type": "stream",
     "text": [
      "A\n",
      "d\n"
     ]
    }
   ],
   "source": [
    "name = \"Andy\"\n",
    "print(name[0])\n",
    "print(name[-2])  # - sign is used to access elements counting from the end"
   ],
   "metadata": {
    "collapsed": false
   }
  },
  {
   "cell_type": "markdown",
   "source": [
    "### - string slicing"
   ],
   "metadata": {
    "collapsed": false
   }
  },
  {
   "cell_type": "code",
   "execution_count": 56,
   "outputs": [
    {
     "name": "stdout",
     "output_type": "stream",
     "text": [
      "n\n",
      "ndy\n"
     ]
    }
   ],
   "source": [
    "print(name[1:2])\n",
    "print(name[1:])"
   ],
   "metadata": {
    "collapsed": false
   }
  },
  {
   "cell_type": "markdown",
   "source": [
    "### - to get string length use len()"
   ],
   "metadata": {
    "collapsed": false
   }
  },
  {
   "cell_type": "code",
   "execution_count": 57,
   "outputs": [
    {
     "data": {
      "text/plain": "4"
     },
     "execution_count": 57,
     "metadata": {},
     "output_type": "execute_result"
    }
   ],
   "source": [
    "len(name)"
   ],
   "metadata": {
    "collapsed": false
   }
  },
  {
   "cell_type": "markdown",
   "source": [
    "### - strings are immutable\n",
    "name[0] = 'I' # would result in error"
   ],
   "metadata": {
    "collapsed": false
   }
  },
  {
   "cell_type": "markdown",
   "source": [
    "## 3.3 Lists\n",
    "   - lists groups elements"
   ],
   "metadata": {
    "collapsed": false
   }
  },
  {
   "cell_type": "code",
   "execution_count": 58,
   "outputs": [],
   "source": [
    "names = [\"Andy\", \"Bob\", \"Charles\", \"Dave\", \"Em\"]"
   ],
   "metadata": {
    "collapsed": false
   }
  },
  {
   "cell_type": "markdown",
   "source": [
    "### - indexing, slicing and concatenation"
   ],
   "metadata": {
    "collapsed": false
   }
  },
  {
   "cell_type": "code",
   "execution_count": 59,
   "outputs": [
    {
     "name": "stdout",
     "output_type": "stream",
     "text": [
      "Andy\n",
      "['Bob', 'Charles']\n",
      "['Andy', 'Bob', 'Charles', 'Dave', 'Em', 'Andy', 'Bob', 'Charles', 'Dave', 'Em', 'Andy', 'Bob', 'Charles', 'Dave', 'Em']\n"
     ]
    }
   ],
   "source": [
    "print(names[0])\n",
    "print(names[1:3])\n",
    "print(names + names * 2)"
   ],
   "metadata": {
    "collapsed": false
   }
  },
  {
   "cell_type": "markdown",
   "source": [
    "### - replacing and adding elements to lists"
   ],
   "metadata": {
    "collapsed": false
   }
  },
  {
   "cell_type": "code",
   "execution_count": 60,
   "outputs": [
    {
     "data": {
      "text/plain": "['Andy', 'Bob', 'Bobby', 'Dave', 'Em', 'Bryan']"
     },
     "execution_count": 60,
     "metadata": {},
     "output_type": "execute_result"
    }
   ],
   "source": [
    "names[2] = 'Bobby'\n",
    "names.append('Bryan')\n",
    "names"
   ],
   "metadata": {
    "collapsed": false
   }
  },
  {
   "cell_type": "markdown",
   "source": [
    "### - checking size of the list with len()"
   ],
   "metadata": {
    "collapsed": false
   }
  },
  {
   "cell_type": "code",
   "execution_count": 61,
   "outputs": [
    {
     "data": {
      "text/plain": "6"
     },
     "execution_count": 61,
     "metadata": {},
     "output_type": "execute_result"
    }
   ],
   "source": [
    "len(names)"
   ],
   "metadata": {
    "collapsed": false
   }
  },
  {
   "cell_type": "markdown",
   "source": [
    "# 4. Control Flow"
   ],
   "metadata": {
    "collapsed": false
   }
  },
  {
   "cell_type": "markdown",
   "source": [
    "## 4.1 control flow statements"
   ],
   "metadata": {
    "collapsed": false
   }
  },
  {
   "cell_type": "markdown",
   "source": [
    "### - while loop"
   ],
   "metadata": {
    "collapsed": false
   }
  },
  {
   "cell_type": "code",
   "execution_count": 62,
   "outputs": [
    {
     "name": "stdout",
     "output_type": "stream",
     "text": [
      "1\n",
      "2\n",
      "3\n"
     ]
    }
   ],
   "source": [
    "i = 1\n",
    "while i <= 3:  # if condition is true, while body is executed\n",
    "    print(i)\n",
    "    i += 1"
   ],
   "metadata": {
    "collapsed": false
   }
  },
  {
   "cell_type": "markdown",
   "source": [
    "### - range(a, b, c)\n",
    "   - returns a sequence of numbers from a to b-1 at c intervals\n",
    "   - very handy in case of for loop"
   ],
   "metadata": {
    "collapsed": false
   }
  },
  {
   "cell_type": "code",
   "execution_count": 63,
   "outputs": [
    {
     "data": {
      "text/plain": "range(1, 5, 2)"
     },
     "execution_count": 63,
     "metadata": {},
     "output_type": "execute_result"
    }
   ],
   "source": [
    "range(1, 5, 2)"
   ],
   "metadata": {
    "collapsed": false
   }
  },
  {
   "cell_type": "markdown",
   "source": [
    "### - for loop"
   ],
   "metadata": {
    "collapsed": false
   }
  },
  {
   "cell_type": "code",
   "execution_count": 64,
   "outputs": [
    {
     "name": "stdout",
     "output_type": "stream",
     "text": [
      "0\n",
      "1\n",
      "2\n",
      "c\n",
      "a\n",
      "t\n"
     ]
    }
   ],
   "source": [
    "for x in range(3):  # iterates through all elements in any given sequence (range, list, string etc.)\n",
    "    print(x)\n",
    "for x in 'cat':\n",
    "    print(x)"
   ],
   "metadata": {
    "collapsed": false
   }
  },
  {
   "cell_type": "markdown",
   "source": [
    "### - if, else and elif statements"
   ],
   "metadata": {
    "collapsed": false
   }
  },
  {
   "cell_type": "code",
   "execution_count": 65,
   "outputs": [
    {
     "name": "stdout",
     "output_type": "stream",
     "text": [
      "even\n"
     ]
    }
   ],
   "source": [
    "n = 2\n",
    "if n == 0:\n",
    "    print('zero')\n",
    "elif n % 2 == 0:\n",
    "    print('even')\n",
    "else:\n",
    "    print('odd')"
   ],
   "metadata": {
    "collapsed": false
   }
  },
  {
   "cell_type": "markdown",
   "source": [
    "### - break -  exits loop"
   ],
   "metadata": {
    "collapsed": false
   }
  },
  {
   "cell_type": "code",
   "execution_count": 66,
   "outputs": [
    {
     "name": "stdout",
     "output_type": "stream",
     "text": [
      "0\n",
      "1\n",
      "2\n"
     ]
    }
   ],
   "source": [
    "i = 0\n",
    "while True:\n",
    "    print(i)\n",
    "    i += 1\n",
    "    if i == 3:\n",
    "        break"
   ],
   "metadata": {
    "collapsed": false
   }
  },
  {
   "cell_type": "markdown",
   "source": [
    "### - continue  - immediately continues to the next loop iteration"
   ],
   "metadata": {
    "collapsed": false
   }
  },
  {
   "cell_type": "code",
   "execution_count": 67,
   "outputs": [
    {
     "name": "stdout",
     "output_type": "stream",
     "text": [
      "1\n",
      "3\n"
     ]
    }
   ],
   "source": [
    "i = -1\n",
    "while True:\n",
    "    i += 1\n",
    "    if i % 2 == 0:\n",
    "        continue\n",
    "    print(i)\n",
    "    if i == 3:\n",
    "        break"
   ],
   "metadata": {
    "collapsed": false
   }
  },
  {
   "cell_type": "markdown",
   "source": [
    "### - pass - it does *nothing*"
   ],
   "metadata": {
    "collapsed": false
   }
  },
  {
   "cell_type": "code",
   "execution_count": 68,
   "outputs": [],
   "source": [
    "if 2 % 2 == 0:\n",
    "    pass\n",
    "else:\n",
    "    print(\"???\")"
   ],
   "metadata": {
    "collapsed": false
   }
  },
  {
   "cell_type": "markdown",
   "source": [
    "### - match\n",
    "   - '_' character represent any value, it represents wildacrd\n",
    "   - _ is default if any of above cases were not met"
   ],
   "metadata": {
    "collapsed": false
   }
  },
  {
   "cell_type": "code",
   "execution_count": 69,
   "outputs": [
    {
     "name": "stdout",
     "output_type": "stream",
     "text": [
      "I want to go sleep\n"
     ]
    }
   ],
   "source": [
    "i = 3\n",
    "match i:\n",
    "    case 1:\n",
    "        print(\"I want food\")\n",
    "    case 2 | 3:\n",
    "        print(\"I want to go sleep\")\n",
    "    case _:\n",
    "        print(\"I don't know what I want\")"
   ],
   "metadata": {
    "collapsed": false
   }
  },
  {
   "cell_type": "markdown",
   "source": [
    "#### - tuples can be also mathced"
   ],
   "metadata": {
    "collapsed": false
   }
  },
  {
   "cell_type": "code",
   "execution_count": 70,
   "outputs": [
    {
     "name": "stdout",
     "output_type": "stream",
     "text": [
      "Owner of the file\n"
     ]
    }
   ],
   "source": [
    "person = ('Andy', 21)\n",
    "\n",
    "match person:\n",
    "    case ('Andy', 21):\n",
    "        print(\"Owner of the file\")\n",
    "    case (_, 21 ):\n",
    "        print(\"Age-mate, perhaps Andy's friend\")\n",
    "    case ('Andy', _):\n",
    "        print(\"Andy's namesake, but not the owner\")\n",
    "    case (_, _):\n",
    "        print(\"A random person\")"
   ],
   "metadata": {
    "collapsed": false
   }
  },
  {
   "cell_type": "markdown",
   "source": [
    "## 4.2 creating functions\n",
    "   - functions are definied with 'def' keyword"
   ],
   "metadata": {
    "collapsed": false
   }
  },
  {
   "cell_type": "code",
   "execution_count": 71,
   "outputs": [
    {
     "name": "stdout",
     "output_type": "stream",
     "text": [
      "Hello Andy\n"
     ]
    }
   ],
   "source": [
    "def simple_print(name):\n",
    "    print('Hello', name)\n",
    "\n",
    "\n",
    "simple_print('Andy')"
   ],
   "metadata": {
    "collapsed": false
   }
  },
  {
   "cell_type": "markdown",
   "source": [
    "### - functions can be assigned to simple variables and later reused"
   ],
   "metadata": {
    "collapsed": false
   }
  },
  {
   "cell_type": "code",
   "execution_count": 72,
   "outputs": [
    {
     "name": "stdout",
     "output_type": "stream",
     "text": [
      "Hello stranger\n"
     ]
    }
   ],
   "source": [
    "p = simple_print\n",
    "p('stranger')"
   ],
   "metadata": {
    "collapsed": false
   }
  },
  {
   "cell_type": "markdown",
   "source": [
    "### - return statement"
   ],
   "metadata": {
    "collapsed": false
   }
  },
  {
   "cell_type": "code",
   "execution_count": 73,
   "outputs": [
    {
     "data": {
      "text/plain": "20"
     },
     "execution_count": 73,
     "metadata": {},
     "output_type": "execute_result"
    }
   ],
   "source": [
    "def multiply_5(number):\n",
    "    return number * 5\n",
    "\n",
    "\n",
    "multiply_5(4)"
   ],
   "metadata": {
    "collapsed": false
   }
  },
  {
   "cell_type": "markdown",
   "source": [
    "### - default parameters and call with keyword arguments"
   ],
   "metadata": {
    "collapsed": false
   }
  },
  {
   "cell_type": "code",
   "execution_count": 74,
   "outputs": [
    {
     "name": "stdout",
     "output_type": "stream",
     "text": [
      "Polish Andy 21\n",
      "t Bob 20\n",
      "German Cris 10\n",
      "French Bob 10\n"
     ]
    }
   ],
   "source": [
    "def person_spawner(nationality, name='Bob', age=20):\n",
    "    print(nationality, name, age)\n",
    "\n",
    "\n",
    "person_spawner('Polish', 'Andy', 21)\n",
    "person_spawner('t')\n",
    "person_spawner(age=10, name='Cris', nationality='German')\n",
    "person_spawner('French', age=10)"
   ],
   "metadata": {
    "collapsed": false
   }
  },
  {
   "cell_type": "markdown",
   "source": [
    "### - special parameters\n",
    "   - arguments befor '/' are only positinal\n",
    "   - arguments between '/' and '*' are positional or keyword\n",
    "   - arguments after '*' are only keyword\n",
    "   - if there is no '/' and '*', arguments are positional or keyword"
   ],
   "metadata": {
    "collapsed": false
   }
  },
  {
   "cell_type": "code",
   "execution_count": 75,
   "outputs": [
    {
     "name": "stdout",
     "output_type": "stream",
     "text": [
      "Andy 10 Polish\n"
     ]
    }
   ],
   "source": [
    "def person(name, /, age, *, nationality):\n",
    "    print(name, age, nationality)\n",
    "\n",
    "\n",
    "person('Andy', 10, nationality='Polish')"
   ],
   "metadata": {
    "collapsed": false
   }
  },
  {
   "cell_type": "markdown",
   "source": [
    "### - arbitrary argument lists\n",
    "   - it's possible to send as many arguments as we want if we use '*' before variable name"
   ],
   "metadata": {
    "collapsed": false
   }
  },
  {
   "cell_type": "code",
   "execution_count": 76,
   "outputs": [
    {
     "name": "stdout",
     "output_type": "stream",
     "text": [
      "Elizabeth with kids named ('Bryan', 'John', 'Mary')\n"
     ]
    }
   ],
   "source": [
    "def pers(name, *kids):\n",
    "    print(name, f'with kids named {kids}')\n",
    "\n",
    "\n",
    "pers('Elizabeth', 'Bryan', 'John', 'Mary')"
   ],
   "metadata": {
    "collapsed": false
   }
  },
  {
   "cell_type": "markdown",
   "source": [
    "### - we can create functions which return other functions by using 'lambda' keyword"
   ],
   "metadata": {
    "collapsed": false
   }
  },
  {
   "cell_type": "code",
   "execution_count": 77,
   "outputs": [
    {
     "data": {
      "text/plain": "8"
     },
     "execution_count": 77,
     "metadata": {},
     "output_type": "execute_result"
    }
   ],
   "source": [
    "def create_function(n):\n",
    "    return lambda x, y: x * y + n\n",
    "\n",
    "\n",
    "f = create_function(2)\n",
    "f(2, 3)  # 2*3 + 2"
   ],
   "metadata": {
    "collapsed": false
   }
  },
  {
   "cell_type": "markdown",
   "source": [
    "# 5. Data Structures"
   ],
   "metadata": {
    "collapsed": false
   }
  },
  {
   "cell_type": "markdown",
   "source": [
    "## 5.1 Lists\n",
    "   - append(x) - adds element at the end\n",
    "   - insert(index, x) - inserts at specific position\n",
    "   - remove(x) - removes specific element\n",
    "   - pop() or pop(index) - pops the last element or element at specific index\n",
    "      - alternatively 'del' can be used, which in contrast does not return deleted value, but can be used with slicing or to clear the whole list\n",
    "   - clear() - clears the list\n",
    "   - count(x) - counts occurrence of x in a list\n",
    "   - sort() - sorts the list, additional arguments may be added for specific sorting\n",
    "   - reverse() - reverses a list\n",
    "   - copy() - creates shallow copy of a list"
   ],
   "metadata": {
    "collapsed": false
   }
  },
  {
   "cell_type": "code",
   "execution_count": 78,
   "outputs": [
    {
     "name": "stdout",
     "output_type": "stream",
     "text": [
      "[1, 2, 3, 4, 5, 5]\n",
      "[1, 2, 3, 4, 5, 5, 101]\n",
      "[202, 1, 2, 3, 4, 5, 5, 101]\n",
      "[202, 1, 2, 3, 4, 5, 101]\n",
      "[202, 2, 3, 4, 5, 101]\n",
      "[202, 2, 3, 4]\n",
      "\n",
      "[202, 2, 3, 4]\n",
      "[101, 2, 3, 4]\n"
     ]
    }
   ],
   "source": [
    "l1 = list([1, 2, 3, 4, 5, 5])\n",
    "print(l1)\n",
    "l1.append(101)\n",
    "print(l1)\n",
    "l1.insert(0, 202)\n",
    "print(l1)\n",
    "l1.remove(5)\n",
    "print(l1)\n",
    "l1.pop(1)\n",
    "print(l1)\n",
    "del l1[4:]\n",
    "print(l1)\n",
    "\n",
    "l2 = l1.copy()\n",
    "\n",
    "l2[0] = 101\n",
    "print('', l1, l2, sep='\\n')"
   ],
   "metadata": {
    "collapsed": false
   }
  },
  {
   "cell_type": "markdown",
   "source": [
    "### - lists as stacks and queues"
   ],
   "metadata": {
    "collapsed": false
   }
  },
  {
   "cell_type": "code",
   "execution_count": 79,
   "outputs": [
    {
     "name": "stdout",
     "output_type": "stream",
     "text": [
      "[1, 2, 3]\n",
      "[1, 2, 3, 10]\n"
     ]
    }
   ],
   "source": [
    "stack = [1, 2, 3, 4]\n",
    "stack.pop()\n",
    "print(stack)\n",
    "stack.append(10)\n",
    "print(stack)"
   ],
   "metadata": {
    "collapsed": false
   }
  },
  {
   "cell_type": "code",
   "execution_count": 80,
   "outputs": [
    {
     "name": "stdout",
     "output_type": "stream",
     "text": [
      "deque([2, 3, 4, 101])\n"
     ]
    }
   ],
   "source": [
    "from collections import deque\n",
    "\n",
    "queue = deque([1, 2, 3, 4])\n",
    "queue.append(101)\n",
    "queue.popleft()\n",
    "print(queue)"
   ],
   "metadata": {
    "collapsed": false
   }
  },
  {
   "cell_type": "markdown",
   "source": [
    "### - list comprehension\n",
    "   - applying function to all elements and filtering them with 'if'"
   ],
   "metadata": {
    "collapsed": false
   }
  },
  {
   "cell_type": "code",
   "execution_count": 81,
   "outputs": [
    {
     "name": "stdout",
     "output_type": "stream",
     "text": [
      "[4, 16, 36, 64]\n"
     ]
    }
   ],
   "source": [
    "l3 = [1, 2, 3, 4, 5, 6, 7, 8]\n",
    "l4 = [x ** 2 for x in l3 if x % 2 == 0]\n",
    "print(l4)"
   ],
   "metadata": {
    "collapsed": false
   }
  },
  {
   "cell_type": "code",
   "execution_count": 82,
   "outputs": [
    {
     "name": "stdout",
     "output_type": "stream",
     "text": [
      "[['A', 'D', 'G'], ['B', 'E', 'H'], ['C', 'F', 'I']]\n"
     ]
    }
   ],
   "source": [
    "matr = [['A', 'B', 'C'], ['D', 'E', 'F'], ['G', 'H', 'I']]\n",
    "print([[r[i] for r in matr] for i in range(3)])"
   ],
   "metadata": {
    "collapsed": false
   }
  },
  {
   "cell_type": "markdown",
   "source": [
    "## 5.2 Tuples\n",
    "   - tuples are another type of sequences\n",
    "   - essentially, tuple is a sequence of data separated by commas\n",
    "   - tuples are **immutable**\n",
    "   - tuples can be accessed by **unpacking**"
   ],
   "metadata": {
    "collapsed": false
   }
  },
  {
   "cell_type": "code",
   "execution_count": 83,
   "outputs": [
    {
     "name": "stdout",
     "output_type": "stream",
     "text": [
      "125 250 30\n"
     ]
    }
   ],
   "source": [
    "simple_tuple = (125, 250, 30)\n",
    "r, g, b = simple_tuple  # unpacking\n",
    "print(r, g, b)"
   ],
   "metadata": {
    "collapsed": false
   }
  },
  {
   "cell_type": "markdown",
   "source": [
    "## 5.3 Sets\n",
    "   - it is unordered collection without **duplicates**"
   ],
   "metadata": {
    "collapsed": false
   }
  },
  {
   "cell_type": "code",
   "execution_count": 84,
   "outputs": [
    {
     "name": "stdout",
     "output_type": "stream",
     "text": [
      "{1, 2, 3, 4}\n"
     ]
    }
   ],
   "source": [
    "simple_set = {1, 2, 3, 4, 2, 3, 4}\n",
    "print(simple_set)"
   ],
   "metadata": {
    "collapsed": false
   }
  },
  {
   "cell_type": "markdown",
   "source": [
    "## 5.4 Dictionaries\n",
    "   - dictionaries consist of keys and corresponding values\n",
    "   - basically, dictionary is a set of (key, value) pairs\n",
    "   - keys **must** be immutable (e.g. numbers, strings, also tuples that contain only immutable arguments)"
   ],
   "metadata": {
    "collapsed": false
   }
  },
  {
   "cell_type": "code",
   "execution_count": 85,
   "outputs": [
    {
     "name": "stdout",
     "output_type": "stream",
     "text": [
      "dict_items([('John', 48), ('Andy', 45), ('Bob', 3)])\n",
      "dict_keys(['John', 'Andy', 'Bob'])\n",
      "dict_values([48, 45, 3])\n",
      "45\n"
     ]
    }
   ],
   "source": [
    "name_age = {\n",
    "    'John': 48,\n",
    "    'Andy': 45,\n",
    "    'Veronica': 15\n",
    "}\n",
    "del name_age['Veronica']\n",
    "name_age['Bob'] = 3\n",
    "print(name_age.items())\n",
    "print(name_age.keys())\n",
    "print(name_age.values())\n",
    "print(name_age['Andy'])"
   ],
   "metadata": {
    "collapsed": false
   }
  },
  {
   "cell_type": "markdown",
   "source": [
    "## 5.5 Looping"
   ],
   "metadata": {
    "collapsed": false
   }
  },
  {
   "cell_type": "markdown",
   "source": [
    "### - looping through a dictionary"
   ],
   "metadata": {
    "collapsed": false
   }
  },
  {
   "cell_type": "code",
   "execution_count": 86,
   "outputs": [
    {
     "name": "stdout",
     "output_type": "stream",
     "text": [
      "My name is John and I am  48 years old\n",
      "My name is Andy and I am  45 years old\n",
      "My name is Bob and I am  3 years old\n"
     ]
    }
   ],
   "source": [
    "for key, value in name_age.items():\n",
    "    print('My name is', key, 'and I am ', value, 'years old')"
   ],
   "metadata": {
    "collapsed": false
   }
  },
  {
   "cell_type": "markdown",
   "source": [
    "### - enumerating allows us to add 'id'"
   ],
   "metadata": {
    "collapsed": false
   }
  },
  {
   "cell_type": "code",
   "execution_count": 87,
   "outputs": [
    {
     "name": "stdout",
     "output_type": "stream",
     "text": [
      "0 My name is John and I am  48 years old\n",
      "1 My name is Andy and I am  45 years old\n",
      "2 My name is Bob and I am  3 years old\n"
     ]
    }
   ],
   "source": [
    "for i, x in enumerate(name_age.items()):\n",
    "    print(i, 'My name is', x[0], 'and I am ', x[1], 'years old')"
   ],
   "metadata": {
    "collapsed": false
   }
  },
  {
   "cell_type": "markdown",
   "source": [
    "### - reversing order of iteration"
   ],
   "metadata": {
    "collapsed": false
   }
  },
  {
   "cell_type": "code",
   "execution_count": 88,
   "outputs": [
    {
     "name": "stdout",
     "output_type": "stream",
     "text": [
      "Bob Andy John "
     ]
    }
   ],
   "source": [
    "for name in reversed(name_age.keys()):\n",
    "    print(name, end=\" \")"
   ],
   "metadata": {
    "collapsed": false
   }
  },
  {
   "cell_type": "markdown",
   "source": [
    "### - two collections can be zipped"
   ],
   "metadata": {
    "collapsed": false
   }
  },
  {
   "cell_type": "code",
   "execution_count": 89,
   "outputs": [
    {
     "name": "stdout",
     "output_type": "stream",
     "text": [
      "My name is John and I am  48 years old\n",
      "My name is Andy and I am  45 years old\n",
      "My name is Bob and I am  3 years old\n"
     ]
    }
   ],
   "source": [
    "for key, value in zip(name_age.keys(), name_age.values()):\n",
    "    print('My name is', key, 'and I am ', value, 'years old')"
   ],
   "metadata": {
    "collapsed": false
   }
  },
  {
   "cell_type": "markdown",
   "source": [
    "## 5.6 'and', 'or' and comparing sequences"
   ],
   "metadata": {
    "collapsed": false
   }
  },
  {
   "cell_type": "markdown",
   "source": [
    "### - in if statements 'and' and 'or' can be used which are *short-circuit* operators"
   ],
   "metadata": {
    "collapsed": false
   }
  },
  {
   "cell_type": "code",
   "execution_count": 90,
   "outputs": [
    {
     "name": "stdout",
     "output_type": "stream",
     "text": [
      "it's true\n",
      "there is no exception, because 4>2 is true and 'or' is short-circuit\n"
     ]
    }
   ],
   "source": [
    "if 7 % 2 == 1 and 2 == 2:\n",
    "    print(\"it's true\")\n",
    "if 4 > 2 or 2 / 0 == 9999:\n",
    "    print(\"there is no exception, because 4>2 is true and 'or' is short-circuit\")"
   ],
   "metadata": {
    "collapsed": false
   }
  },
  {
   "cell_type": "markdown",
   "source": [
    "### - sequences of the same type can be compared as casual numbers\n",
    "   - elements are compared one by one in lexicographical order  and if any two compared items are not equal, it states the outcome of the whole comparison"
   ],
   "metadata": {
    "collapsed": false
   }
  },
  {
   "cell_type": "code",
   "execution_count": 91,
   "outputs": [
    {
     "name": "stdout",
     "output_type": "stream",
     "text": [
      "True\n",
      "False\n",
      "True\n"
     ]
    }
   ],
   "source": [
    "print(['a', 'b', 'c'] < ['a', 'b', 'd'])\n",
    "print(['a', 'b', 'c'] > ['a', 'b', 'd'])\n",
    "print(['a', 'b', 'c'] == ['a', 'b', 'c'])"
   ],
   "metadata": {
    "collapsed": false
   }
  },
  {
   "cell_type": "markdown",
   "source": [
    "# 6. Modules\n",
    "   - modules are a handy way to save written code for later\n",
    "   - modules are often called 'scripts'\n",
    "   - scripts can be imported and reused\n",
    "   - modules name can be accessed by '__name__' variable\n",
    "   - the file name with '.py' suffix stands for python script, which can be executed at any time"
   ],
   "metadata": {
    "collapsed": false
   }
  },
  {
   "cell_type": "markdown",
   "source": [
    "### 6.1 Import modules"
   ],
   "metadata": {
    "collapsed": false
   }
  },
  {
   "cell_type": "code",
   "execution_count": 92,
   "outputs": [],
   "source": [
    "import math"
   ],
   "metadata": {
    "collapsed": false
   }
  },
  {
   "cell_type": "markdown",
   "source": [
    "### - 'import' keyword just imports module, it does not add variables and functions from that module, so we have to use module's name to access them"
   ],
   "metadata": {
    "collapsed": false
   }
  },
  {
   "cell_type": "code",
   "execution_count": 93,
   "outputs": [
    {
     "name": "stdout",
     "output_type": "stream",
     "text": [
      "5.0\n",
      "120\n",
      "<module 'math' (built-in)>\n"
     ]
    }
   ],
   "source": [
    "print(math.sqrt(25))\n",
    "print(math.factorial(5))\n",
    "print(math)"
   ],
   "metadata": {
    "collapsed": false
   }
  },
  {
   "cell_type": "markdown",
   "source": [
    "### - to import all variable and functions definition use '*' that is from *module_name* import * (from math import *)\n",
    "   - **however** it is **not** recommended as it creates mess in our program"
   ],
   "metadata": {
    "collapsed": false
   }
  },
  {
   "cell_type": "markdown",
   "source": [
    "### - modules can be executed as scripts if we add the following statement:"
   ],
   "metadata": {
    "collapsed": false
   }
  },
  {
   "cell_type": "code",
   "execution_count": 94,
   "outputs": [],
   "source": [
    "if __name__ == '__main__':\n",
    "    # code to execute if modules is executed on its own\n",
    "    pass"
   ],
   "metadata": {
    "collapsed": false
   }
  },
  {
   "cell_type": "markdown",
   "source": [
    "### - by using dir() we can show all built-in functions in the module"
   ],
   "metadata": {
    "collapsed": false
   }
  },
  {
   "cell_type": "code",
   "execution_count": 95,
   "outputs": [
    {
     "data": {
      "text/plain": "['__doc__',\n '__loader__',\n '__name__',\n '__package__',\n '__spec__',\n 'acos',\n 'acosh',\n 'asin',\n 'asinh',\n 'atan',\n 'atan2',\n 'atanh',\n 'cbrt',\n 'ceil',\n 'comb',\n 'copysign',\n 'cos',\n 'cosh',\n 'degrees',\n 'dist',\n 'e',\n 'erf',\n 'erfc',\n 'exp',\n 'exp2',\n 'expm1',\n 'fabs',\n 'factorial',\n 'floor',\n 'fmod',\n 'frexp',\n 'fsum',\n 'gamma',\n 'gcd',\n 'hypot',\n 'inf',\n 'isclose',\n 'isfinite',\n 'isinf',\n 'isnan',\n 'isqrt',\n 'lcm',\n 'ldexp',\n 'lgamma',\n 'log',\n 'log10',\n 'log1p',\n 'log2',\n 'modf',\n 'nan',\n 'nextafter',\n 'perm',\n 'pi',\n 'pow',\n 'prod',\n 'radians',\n 'remainder',\n 'sin',\n 'sinh',\n 'sqrt',\n 'tan',\n 'tanh',\n 'tau',\n 'trunc',\n 'ulp']"
     },
     "execution_count": 95,
     "metadata": {},
     "output_type": "execute_result"
    }
   ],
   "source": [
    "dir(math)"
   ],
   "metadata": {
    "collapsed": false
   }
  },
  {
   "cell_type": "markdown",
   "source": [
    "## 6.2 Packages\n",
    "### - there are also packages which are collections of modules that are organized in a hierarchical directory structure\n",
    "   - e.g. 'from mypackage.mymodule import myfunction'"
   ],
   "metadata": {
    "collapsed": false
   }
  },
  {
   "cell_type": "markdown",
   "source": [
    "# 7. Input and Output"
   ],
   "metadata": {
    "collapsed": false
   }
  },
  {
   "cell_type": "markdown",
   "source": [
    "## 7.1 Output formatting\n",
    "### - output can be formatted by using:\n",
    "   - formatted string literals\n",
    "   - format() method\n",
    "   - manually\n",
    "   - in out-fashioned manner"
   ],
   "metadata": {
    "collapsed": false
   }
  },
  {
   "cell_type": "markdown",
   "source": [
    "### 7.1.1 Formatted string literals"
   ],
   "metadata": {
    "collapsed": false
   }
  },
  {
   "cell_type": "markdown",
   "source": [
    "### - by putting 'f' or 'F' prefix before the string, we can use expressions inside braces '{ }'"
   ],
   "metadata": {
    "collapsed": false
   }
  },
  {
   "cell_type": "code",
   "execution_count": 96,
   "outputs": [
    {
     "name": "stdout",
     "output_type": "stream",
     "text": [
      "My kids are ['Monica', 'Sergio']\n"
     ]
    }
   ],
   "source": [
    "kids = ['Monica', 'Sergio']\n",
    "print(f'My kids are {kids}')"
   ],
   "metadata": {
    "collapsed": false
   }
  },
  {
   "cell_type": "markdown",
   "source": [
    "#### - by using ':' we can align text\n",
    "   - additionally '>' aligns text to the right and '<' does the opposite\n",
    "   - before the expression is printed, it can be modified (e.g. by using '!a', '!s', '!r' we can apply respectively ascii(), str(), or repr())"
   ],
   "metadata": {
    "collapsed": false
   }
  },
  {
   "cell_type": "code",
   "execution_count": 97,
   "outputs": [
    {
     "name": "stdout",
     "output_type": "stream",
     "text": [
      "Phone book\n",
      "Andy            ---->     500 600 900\n",
      "Elizabeth       ---->     123 123 123\n",
      "Bob             ---->     100 200 300\n"
     ]
    }
   ],
   "source": [
    "phone_book = {'Andy': '500 600 900',\n",
    "              'Elizabeth': '123 123 123',\n",
    "              'Bob': '100 200 300'\n",
    "              }\n",
    "print('Phone book')\n",
    "for user, number in phone_book.items():\n",
    "    print(f'{user:<15} ----> {number:>15}')"
   ],
   "metadata": {
    "collapsed": false
   }
  },
  {
   "cell_type": "markdown",
   "source": [
    "### 7.1.2 Format()\n",
    "   - it simply replaces braces '{}' with express in format()"
   ],
   "metadata": {
    "collapsed": false
   }
  },
  {
   "cell_type": "code",
   "execution_count": 98,
   "outputs": [
    {
     "name": "stdout",
     "output_type": "stream",
     "text": [
      "Me, Andy, shows the basic usage of str.format().\n",
      "Hi Bob, I am Andy! How are you?\n"
     ]
    }
   ],
   "source": [
    "name = 'Andy'\n",
    "colleague = 'Bob'\n",
    "thing = 'str.format()'\n",
    "print('Me, {}, shows the basic usage of {}.'.format(name, thing))\n",
    "print('Hi {1}, I am {0}! {greeting}'.format(name, colleague, greeting='How are you?'))"
   ],
   "metadata": {
    "collapsed": false
   }
  },
  {
   "cell_type": "markdown",
   "source": [
    "### 7.1.3 Manually\n",
    "   - print statement can be also manually formatted with str module functions:\n",
    "      - str.rjust()\n",
    "      - str.ljust()\n",
    "      - str.center()\n",
    "      - str.z.fill()"
   ],
   "metadata": {
    "collapsed": false
   }
  },
  {
   "cell_type": "code",
   "execution_count": 99,
   "outputs": [
    {
     "name": "stdout",
     "output_type": "stream",
     "text": [
      "Andy             ---->      500 600 900\n",
      "Elizabeth        ---->      123 123 123\n",
      "Bob              ---->      100 200 300\n"
     ]
    }
   ],
   "source": [
    "for user, number in phone_book.items():\n",
    "    print(user.ljust(15), ' ----> ', number.rjust(15))"
   ],
   "metadata": {
    "collapsed": false
   }
  },
  {
   "cell_type": "markdown",
   "source": [
    "### 7.1.4 Old-fashioned\n",
    "   - it is also possible to use '%' character in the following way"
   ],
   "metadata": {
    "collapsed": false
   }
  },
  {
   "cell_type": "code",
   "execution_count": 100,
   "outputs": [
    {
     "name": "stdout",
     "output_type": "stream",
     "text": [
      "My name is Andy and I am  10 years old.\n"
     ]
    }
   ],
   "source": [
    "print('My name is %(person)s and I am %(age)3d years old.' % {'person': name, 'age': 10})"
   ],
   "metadata": {
    "collapsed": false
   }
  },
  {
   "cell_type": "markdown",
   "source": [
    "## 7.2 Reading and writing files"
   ],
   "metadata": {
    "collapsed": false
   }
  },
  {
   "cell_type": "markdown",
   "source": [
    "### - to open a file we use 'open()'\n",
    "### - after the file is used, we should close it with close()"
   ],
   "metadata": {
    "collapsed": false
   }
  },
  {
   "cell_type": "markdown",
   "source": [
    "### - as second argument, mode can be set:\n",
    "   - 'r' for read only\n",
    "   - 'w' for write - it will override a file with the same name if such file was already present-\n",
    "   - 'a' append only - it will append new line to the file with the same name if such file was already present"
   ],
   "metadata": {
    "collapsed": false
   }
  },
  {
   "cell_type": "markdown",
   "source": [
    "### - as third argument, encoding can be set if needed"
   ],
   "metadata": {
    "collapsed": false
   }
  },
  {
   "cell_type": "markdown",
   "source": [
    "### - methods:\n",
    "   - read() - reads an entire file\n",
    "   - readline() - reads a line from a file, use loop to read file line by line\n",
    "   - write() - writes to a file"
   ],
   "metadata": {
    "collapsed": false
   }
  },
  {
   "cell_type": "code",
   "execution_count": 101,
   "outputs": [
    {
     "name": "stdout",
     "output_type": "stream",
     "text": [
      "1\n",
      "2\n",
      "3\n",
      "abc\n"
     ]
    }
   ],
   "source": [
    "file = open('test.txt', 'w')\n",
    "file.write('1\\n2\\n3')\n",
    "file.close()\n",
    "file = open('test.txt', 'a', encoding='utf-8')\n",
    "file.write('\\nabc')\n",
    "file.close()\n",
    "file = open('test.txt')\n",
    "print(file.read())"
   ],
   "metadata": {
    "collapsed": false
   }
  },
  {
   "cell_type": "markdown",
   "source": [
    "# 8. Errors and Exceptions"
   ],
   "metadata": {
    "collapsed": false
   }
  },
  {
   "cell_type": "markdown",
   "source": [
    "## 8.1 syntax errors\n",
    "   - they refer to incorrectly written syntax\n",
    "      - e.g. prin('Hello world!') will result in syntax error"
   ],
   "metadata": {
    "collapsed": false
   }
  },
  {
   "cell_type": "markdown",
   "source": [
    "## 8.2 exception errors\n",
    "   - these errors encountered during execution\n",
    "   - can be handled\n",
    "      - e.g print(1/0) would result in 'ZeroDivisionError'"
   ],
   "metadata": {
    "collapsed": false
   }
  },
  {
   "cell_type": "markdown",
   "source": [
    "## 8.3 exception handling\n",
    "   - exceptions can be handled\n",
    "   - it is done by 'try ... except' statement\n",
    "   - in 'try' we write code, that can produce exception\n",
    "   - by default 'except' catches every exception\n",
    "   - 'except' can be specified to catch only some exceptions, which is preferred\n",
    "   - for one 'try' multiple 'excepts' are possible\n",
    "   - the first and only the first matching exception handler will be executed"
   ],
   "metadata": {
    "collapsed": false
   }
  },
  {
   "cell_type": "markdown",
   "source": [
    "## 8.4 exception raising and exception chaining\n",
    "   - exceptions can be raised by 'raise' keyword\n",
    "   - unhandled exceptions in 'except' body will be attached to exception that invoked the 'except' statement"
   ],
   "metadata": {
    "collapsed": false
   }
  },
  {
   "cell_type": "markdown",
   "source": [
    "## 8.5 user-defined exceptions and finally statement\n",
    "   - a user can define their own exceptions by deriving 'Exception' class\n",
    "   - should be named with 'Error' suffix\n",
    "   - additional fixes may be made by a use of 'finally' keyword which will be executed after 'except' statement body\n",
    "   - finally is *always* executed, no matter if try produced exception or not"
   ],
   "metadata": {
    "collapsed": false
   }
  },
  {
   "cell_type": "code",
   "execution_count": 102,
   "outputs": [
    {
     "name": "stdout",
     "output_type": "stream",
     "text": [
      "TooYoungError caught!\n",
      "Some extra clean-up...\n"
     ]
    }
   ],
   "source": [
    "class TooYoungError(Exception):\n",
    "    def __init__(self, message='You are too young juvenile!'):\n",
    "        self.message = message\n",
    "        super().__init__(self.message)\n",
    "\n",
    "\n",
    "def buy_alcohol(alcohol, age):\n",
    "    if age < 18:\n",
    "        raise TooYoungError\n",
    "\n",
    "\n",
    "try:\n",
    "    buy_alcohol('vodka', 17)  #that produces 'TooYoungError'\n",
    "except TooYoungError:\n",
    "    print('TooYoungError caught!')\n",
    "finally:\n",
    "    print('Some extra clean-up...')"
   ],
   "metadata": {
    "collapsed": false
   }
  },
  {
   "cell_type": "markdown",
   "source": [
    "## 8.6 Predefined clean-up\n",
    "   - some objects have predefined clean-up procedures\n",
    "   - whether an object has such clean-up methods is indicated in its documentation\n",
    "   - to ensure that these clean-up are invoked, use 'with' keyword"
   ],
   "metadata": {
    "collapsed": false
   }
  },
  {
   "cell_type": "code",
   "execution_count": 103,
   "outputs": [
    {
     "name": "stdout",
     "output_type": "stream",
     "text": [
      "1 2 3 abc "
     ]
    }
   ],
   "source": [
    "with open('test.txt') as f:  # 'with' ensures that file will be closed after opening\n",
    "    for x in f:\n",
    "        print(x.strip(), end=' ')\n",
    "#for x in f:\n",
    "#print(x.strip(), end=' ') # that produced 'ValueError'"
   ],
   "metadata": {
    "collapsed": false
   }
  },
  {
   "cell_type": "code",
   "execution_count": 104,
   "outputs": [
    {
     "name": "stdout",
     "output_type": "stream",
     "text": [
      "Initialization...\n",
      "Entering...\n",
      "Doing something in the middle\n",
      "Exiting...\n"
     ]
    }
   ],
   "source": [
    "class DummyManager:\n",
    "    def __init__(self):\n",
    "        print('Initialization...')\n",
    "\n",
    "    def __enter__(self):\n",
    "        print('Entering...')\n",
    "        return self\n",
    "\n",
    "    def __exit__(self, exc_type, exc_val, exc_tb):\n",
    "        print('Exiting...')\n",
    "\n",
    "\n",
    "with DummyManager() as dummy:\n",
    "    print('Doing something in the middle')"
   ],
   "metadata": {
    "collapsed": false
   }
  },
  {
   "cell_type": "markdown",
   "source": [
    "## 8.7 exception grouping and notes\n",
    "   - exceptions can be wrapped into a group of exceptions\n",
    "   - with a use of 'except*' we can refer to only specific the exception from the group\n",
    "   - notes can ba added to exceptions"
   ],
   "metadata": {
    "collapsed": false
   }
  },
  {
   "cell_type": "code",
   "execution_count": 105,
   "outputs": [
    {
     "name": "stdout",
     "output_type": "stream",
     "text": [
      "Caught TooYoungError: Many exceptions encountered (1 sub-exception)\n",
      "Caught ValueError: Many exceptions encountered (1 sub-exception)\n"
     ]
    }
   ],
   "source": [
    "try:\n",
    "    group = [TooYoungError(), ValueError()]\n",
    "    raise ExceptionGroup('Many exceptions encountered', group)\n",
    "except* TooYoungError as e:\n",
    "    e.add_note('Some notes')\n",
    "    print(\"Caught TooYoungError:\", e)\n",
    "except* ValueError as e:\n",
    "    print(\"Caught ValueError:\", e)"
   ],
   "metadata": {
    "collapsed": false
   }
  },
  {
   "cell_type": "markdown",
   "source": [
    "# 9. Classes\n",
    "   - they are a convenient way to present reality\n",
    "   - a class is a blueprint for creating objects\n",
    "   - it defines a set of attributes and methods that the objects will have\n",
    "   - the attributes hold values\n",
    "   - methods operate on the attributes"
   ],
   "metadata": {
    "collapsed": false
   }
  },
  {
   "cell_type": "markdown",
   "source": [
    "## 9.1 Basic interesting info\n",
    "   - objects can have multiple pointers assigned and those pointers are passed to functions\n",
    "        thus original objects are modified\n",
    "   - multiple inheritance is possible\n",
    "   - class members are public and virtual by default\n",
    "   - a namespace is a mapping from names to objects\n",
    "      - the local namespace for a function is created when the function is called and deleted after return statement or raising an exception outside"
   ],
   "metadata": {
    "collapsed": false
   }
  },
  {
   "cell_type": "markdown",
   "source": [
    "## 9.2 namespace\n",
    "   - a namespace is a mapping from names to objects\n",
    "   - if there is no global or nonlocal statement, the scope is always innermost\n",
    "   - global refers to the global, which is outermost, namespace\n",
    "   - nonlocal refers to the nearest enclosing scope *excluding* globals"
   ],
   "metadata": {
    "collapsed": false
   }
  },
  {
   "cell_type": "code",
   "execution_count": 106,
   "outputs": [
    {
     "name": "stdout",
     "output_type": "stream",
     "text": [
      "10\n"
     ]
    }
   ],
   "source": [
    "x = 10\n",
    "\n",
    "def fun1():\n",
    "    x = 20\n",
    "\n",
    "fun1()\n",
    "print(x)"
   ],
   "metadata": {
    "collapsed": false
   }
  },
  {
   "cell_type": "markdown",
   "source": [
    "## - in order to access x declared outside fun1() we have to use 'global' keyword"
   ],
   "metadata": {
    "collapsed": false
   }
  },
  {
   "cell_type": "code",
   "execution_count": 107,
   "outputs": [
    {
     "name": "stdout",
     "output_type": "stream",
     "text": [
      "20\n"
     ]
    }
   ],
   "source": [
    "def fun2():\n",
    "    global x\n",
    "    x = 20\n",
    "\n",
    "\n",
    "fun2()\n",
    "print(x)"
   ],
   "metadata": {
    "collapsed": false
   }
  },
  {
   "cell_type": "markdown",
   "source": [
    "## - 'nonlocal' would *not* work in the above example\n",
    "   - the difference between 'global' and 'nonlocal' is that global is used to access global variables\n",
    "      and 'nonlocal' is used to access the nearest enclosing scope that is **not** global\n",
    "   - if we use 'nonlocal' in the above example, SyntaxError will be produced"
   ],
   "metadata": {
    "collapsed": false
   }
  },
  {
   "cell_type": "code",
   "execution_count": 108,
   "outputs": [
    {
     "name": "stdout",
     "output_type": "stream",
     "text": [
      "25\n"
     ]
    }
   ],
   "source": [
    "def fun3():\n",
    "    y = 15\n",
    "\n",
    "    def fun4():\n",
    "        nonlocal y\n",
    "        y = 25\n",
    "\n",
    "    fun4()\n",
    "    print(y)\n",
    "\n",
    "\n",
    "fun3()"
   ],
   "metadata": {
    "collapsed": false
   }
  },
  {
   "cell_type": "markdown",
   "source": [
    "## 9.3 class definition\n",
    "   - \\_\\_init__ method is a constructor\n",
    "   - to set attribute as private use '__' (double underscore) prefix\n",
    "   - two types of variables are distinguished\n",
    "      - class variables - accessible via class\n",
    "      - instance variables - accessible via instance of a class"
   ],
   "metadata": {
    "collapsed": false
   }
  },
  {
   "cell_type": "code",
   "execution_count": 109,
   "outputs": [],
   "source": [
    "class myClass:\n",
    "    class_var = 'class_var'\n",
    "\n",
    "    def __init__(self, name, age):\n",
    "        self.instance_var = 'instance_var'\n",
    "        self.__name = name\n",
    "        self.age = age\n",
    "\n",
    "    def say_hi(self):\n",
    "        print(f'Hello, I am {self.__name}')\n",
    "\n",
    "    def get_age(self):\n",
    "        print(self.age)\n",
    "\n",
    "    @classmethod\n",
    "    def class_hi(cls):\n",
    "        print(f'Hi, it\\'s {myClass.__name__}')\n",
    "\n",
    "    species = 'human'"
   ],
   "metadata": {
    "collapsed": false
   }
  },
  {
   "cell_type": "code",
   "execution_count": 110,
   "outputs": [
    {
     "name": "stdout",
     "output_type": "stream",
     "text": [
      "class_var\n",
      "instance_var\n",
      "Hi, it's myClass\n",
      "Hello, I am Andy\n",
      "Hello, I am Bob\n",
      "21\n",
      "12\n",
      "human\n",
      "human\n"
     ]
    }
   ],
   "source": [
    "print(myClass.class_var)\n",
    "aa = myClass('Andy', 21)\n",
    "bb = myClass('Bob', 12)\n",
    "print(aa.instance_var)\n",
    "myClass.class_hi()\n",
    "aa.say_hi()\n",
    "bb.say_hi()\n",
    "aa.get_age()\n",
    "bb.get_age()\n",
    "print(aa.species)\n",
    "print(bb.species)\n",
    "# print(aa.name)    that would generate AttributeError"
   ],
   "metadata": {
    "collapsed": false
   }
  },
  {
   "cell_type": "markdown",
   "source": [
    "## 9.4 Inheritance\n",
    "   - inheritance is deriving a new class from previously created class called base class\n",
    "   - as previously mentioned, multiple derivation is possible\n",
    "      - in case of any repetition of functions names or variables, we have to specify which one will be used"
   ],
   "metadata": {
    "collapsed": false
   }
  },
  {
   "cell_type": "code",
   "execution_count": 111,
   "outputs": [
    {
     "name": "stdout",
     "output_type": "stream",
     "text": [
      "B's method\n"
     ]
    }
   ],
   "source": [
    "class A:\n",
    "    def method(self):\n",
    "        print(\"A's method\")\n",
    "\n",
    "class B:\n",
    "    def method(self):\n",
    "        print(\"B's method\")\n",
    "\n",
    "class C(A, B):\n",
    "    def method(self):\n",
    "        B.method(self)\n",
    "\n",
    "c = C()\n",
    "c.method()"
   ],
   "metadata": {
    "collapsed": false
   }
  },
  {
   "cell_type": "markdown",
   "source": [
    "## 9.5 dataclasses\n",
    "   - a convenient way to create classes focused on data\n",
    "   - it automatically creates all basic, magic functions like \\_\\_init__, \\_\\_eq__ or \\_\\_repr__"
   ],
   "metadata": {
    "collapsed": false
   }
  },
  {
   "cell_type": "code",
   "execution_count": 112,
   "outputs": [
    {
     "name": "stdout",
     "output_type": "stream",
     "text": [
      "MyDataClass(name='name1', surname='surname1') MyDataClass(name='name2', surname='surname2') "
     ]
    }
   ],
   "source": [
    "from dataclasses import dataclass\n",
    "\n",
    "@dataclass\n",
    "class MyDataClass:\n",
    "    name:str\n",
    "    surname:str\n",
    "\n",
    "aaa = MyDataClass('name1','surname1')\n",
    "bbb = MyDataClass('name2','surname2')\n",
    "print(aaa,bbb, end=\" \")"
   ],
   "metadata": {
    "collapsed": false
   }
  },
  {
   "cell_type": "markdown",
   "source": [
    "## 9.6 iterators and generators\n",
    "   - iterators are used to go through single elements of a collection\n",
    "      - e.g. through single characters through a string or elements of a list\n",
    "   - generators are a simpler way to create iterator\n",
    "      - generators are functions that use 'yield' which returns a piece of data"
   ],
   "metadata": {
    "collapsed": false
   }
  },
  {
   "cell_type": "code",
   "execution_count": 113,
   "outputs": [
    {
     "name": "stdout",
     "output_type": "stream",
     "text": [
      "1 2 3 "
     ]
    }
   ],
   "source": [
    "class MyIterator:\n",
    "    def __init__(self, data):\n",
    "        self.data = data\n",
    "        self.index = 0\n",
    "\n",
    "    def __iter__(self):\n",
    "        return self\n",
    "\n",
    "    def __next__(self):\n",
    "        if self.index >= len(self.data):\n",
    "            raise StopIteration\n",
    "        result = self.data[self.index]\n",
    "        self.index += 1\n",
    "        return result\n",
    "\n",
    "iter = MyIterator([1, 2, 3])\n",
    "for x in iter:\n",
    "    print(x, end=' ')"
   ],
   "metadata": {
    "collapsed": false
   }
  },
  {
   "cell_type": "code",
   "execution_count": 114,
   "outputs": [
    {
     "name": "stdout",
     "output_type": "stream",
     "text": [
      "1 2 3 "
     ]
    }
   ],
   "source": [
    "def my_generator(data):\n",
    "    for item in data:\n",
    "        yield item\n",
    "\n",
    "gen = my_generator([1, 2, 3])\n",
    "for x in gen:\n",
    "    print(x, end=' ')"
   ],
   "metadata": {
    "collapsed": false
   }
  },
  {
   "cell_type": "markdown",
   "source": [
    "# 10. Standard libraries\n",
    "   - python introduces modules (libraries) that are collections of pre-written code that can be imported and used by other programs\n",
    "   - modules can be created and shared, there are many popular libraries available for a wide range of use"
   ],
   "metadata": {
    "collapsed": false
   }
  },
  {
   "cell_type": "markdown",
   "source": [
    "## 10.1 os\n",
    "   - provides a way to interact with the operating system, allowing you to manipulate files and directories, launch processes and get information about the system"
   ],
   "metadata": {
    "collapsed": false
   }
  },
  {
   "cell_type": "code",
   "execution_count": 115,
   "outputs": [
    {
     "name": "stdout",
     "output_type": "stream",
     "text": [
      "The file exists\n"
     ]
    }
   ],
   "source": [
    "import os\n",
    "\n",
    "file_path = 'test.txt'\n",
    "if os.path.exists(file_path):\n",
    "    print('The file exists')\n",
    "else:\n",
    "    print('The file does not exist')"
   ],
   "metadata": {
    "collapsed": false
   }
  },
  {
   "cell_type": "markdown",
   "source": [
    "# 10.2 datetime\n",
    "   - provides classes for working with dates and times"
   ],
   "metadata": {
    "collapsed": false
   }
  },
  {
   "cell_type": "code",
   "execution_count": 116,
   "outputs": [
    {
     "name": "stdout",
     "output_type": "stream",
     "text": [
      "Current date and time: 2023-03-28 23:30:53.513161\n"
     ]
    }
   ],
   "source": [
    "import datetime\n",
    "\n",
    "now = datetime.datetime.now()\n",
    "\n",
    "print(f'Current date and time: {now}')"
   ],
   "metadata": {
    "collapsed": false
   }
  },
  {
   "cell_type": "markdown",
   "source": [
    "## 10.3 math\n",
    "   - provides a range of mathematical functions"
   ],
   "metadata": {
    "collapsed": false
   }
  },
  {
   "cell_type": "code",
   "execution_count": 117,
   "outputs": [
    {
     "name": "stdout",
     "output_type": "stream",
     "text": [
      "The square root of 25 is 5.0\n",
      "The factorial of 5 is 120\n",
      "The natural logarithm of 5 is 1.60944\n"
     ]
    }
   ],
   "source": [
    "import math\n",
    "\n",
    "x = 25\n",
    "sqrt_x = math.sqrt(x)\n",
    "print(f\"The square root of {x} is {sqrt_x}\")\n",
    "\n",
    "x = 5\n",
    "factorial = math.factorial(x)\n",
    "print(f\"The factorial of {x} is {factorial}\")\n",
    "\n",
    "log = math.log(x)\n",
    "print(f\"The natural logarithm of {x} is {log:.5f}\")"
   ],
   "metadata": {
    "collapsed": false
   }
  },
  {
   "cell_type": "markdown",
   "source": [
    "## 10.4 random\n",
    "   - provides functions for generating random numbers"
   ],
   "metadata": {
    "collapsed": false
   }
  },
  {
   "cell_type": "code",
   "execution_count": 118,
   "outputs": [
    {
     "name": "stdout",
     "output_type": "stream",
     "text": [
      "Random integer: 5\n"
     ]
    }
   ],
   "source": [
    "import random\n",
    "\n",
    "random_int = random.randint(1, 10)\n",
    "print(f'Random integer: {random_int}')"
   ],
   "metadata": {
    "collapsed": false
   }
  },
  {
   "cell_type": "markdown",
   "source": [
    "## 10.5 statistics\n",
    "   - provides functions for calculating basic statistics"
   ],
   "metadata": {
    "collapsed": false
   }
  },
  {
   "cell_type": "code",
   "execution_count": 119,
   "outputs": [
    {
     "name": "stdout",
     "output_type": "stream",
     "text": [
      "The mean: 5.4\n",
      "The median: 5.5\n",
      "The mode: 9\n"
     ]
    }
   ],
   "source": [
    "import statistics\n",
    "\n",
    "my_list = [1, 2, 3, 4, 5, 6, 7, 8, 9,9]\n",
    "\n",
    "mean = statistics.mean(my_list)\n",
    "median = statistics.median(my_list)\n",
    "mode = statistics.mode(my_list)\n",
    "\n",
    "print(f\"The mean: {mean}\")\n",
    "print(f\"The median: {median}\")\n",
    "print(f\"The mode: {mode}\")"
   ],
   "metadata": {
    "collapsed": false
   }
  },
  {
   "cell_type": "markdown",
   "source": [
    "## 10.6 re\n",
    "   - provides regular expression matching operations"
   ],
   "metadata": {
    "collapsed": false
   }
  },
  {
   "cell_type": "code",
   "execution_count": 120,
   "outputs": [
    {
     "name": "stdout",
     "output_type": "stream",
     "text": [
      "Match found: An example string\n"
     ]
    }
   ],
   "source": [
    "import re\n",
    "\n",
    "string = \"An example string\"\n",
    "\n",
    "match = re.search(\".+\", string)\n",
    "\n",
    "if match:\n",
    "    print(\"Match found:\", match.group(0))\n",
    "else:\n",
    "    print(\"No match found\")"
   ],
   "metadata": {
    "collapsed": false
   }
  },
  {
   "cell_type": "markdown",
   "source": [
    "## 10.7 urllib\n",
    "   - provides modules for working with URLs and network-related tasks"
   ],
   "metadata": {
    "collapsed": false
   }
  },
  {
   "cell_type": "code",
   "execution_count": 121,
   "outputs": [
    {
     "name": "stdout",
     "output_type": "stream",
     "text": [
      "b'<!doctype html><html itemscope=\"\" itemtype=\"http://schema.org/WebPage\" lang=\"pl\"><head><meta content=\"text/html; charset=UTF-8\" http-equiv=\"Content-Type\"><meta content=\"/images/branding/googleg/1x/googleg_standard_color_128dp.png\" itemprop=\"image\"><title>Google</title><script nonce=\"9ZPHwS0NQCLj6avtICHouw\">(function(){window.google={kEI:\\'jFwjZPOBL_yHhbIPjsun0A4\\',kEXPI:\\'0,1359409,6058,207,2415,2389,2316,383,246,5,1129120,1197726,380765,16114,28684,22431,1361,12315,17584,4998,13228,3847,6884,31560,2872,2891,3926,213,7615,606,30668,30022,2614,13142,3,346,230,20583,4,1528,2304,24859,17266,13660,4437,9358,7428,5812,2545,4094,7596,1,42154,2,14022,25739,5679,1020,31122,4568,6253,23424,1252,5835,14968,4332,7484,7409,17667,2006,8155,7381,15970,873,19633,7,1922,31170,14763,2524,3781,2007,18192,5796,10,6007,8419,20206,1622,1778,3,4974,1746,6631,6514,4069,578,3837,988,3030,427,5202,482,1410,890,925,1815,3899,766,1804,6250,1300,679,1152,1091,269,1379,109,1128,18983,757,537,1360,274,314,2,394,2899,666,1,2754,614,947,196,1330,1150,547,1428,87,117,1610,6036,304,221,594,74,753,1775,1051,2028,147,396,1574,11,658,240,665,950,2,827,5,2410,672,8,75,129,2,143,263,221,431,4,456,605,23,197,504,635,3,863,85,4,412,284,333,187,715,1882,490,2,886,344,3,474,478,297,962,260,1319,1171,704,1007,909,264,272,328,1788,998,1476,102,5,181,371,373,568,5212061,6073,206,396,8798447,3311,141,795,19735,1,1,4967,10,23945853,398,4041745,1964,16672,2894,6250,5877,6683,3360,1414876,204871\\',kBL:\\'aKEF\\',kOPI:89978449};google.sn=\\'webhp\\';google.kHL=\\'pl\\';})();(function(){\\nvar f=this||self;var h,k=[];function l(a){for(var b;a&&(!a.getAttribute||!(b=a.getAttribute(\"eid\")));)a=a.parentNode;return b||h}function m(a){for(var b=null;a&&(!a.getAttribute||!(b=a.getAttribute(\"leid\")));)a=a.parentNode;return b}\\nfunction n(a,b,c,d,g){var e=\"\";c||-1!==b.search(\"&ei=\")||(e=\"&ei=\"+l(d),-1===b.search(\"&lei=\")&&(d=m(d))&&(e+=\"&lei=\"+d));d=\"\";!c&&f._cshid&&-1===b.search(\"&cshid=\")&&\"slh\"!==a&&(d=\"&cshid=\"+f._cshid);c=c||\"/\"+(g||\"gen_204\")+\"?atyp=i&ct=\"+a+\"&cad=\"+b+e+\"&zx=\"+Date.now()+d;/^http:/i.test(c)&&\"https:\"===window.location.protocol&&(google.ml&&google.ml(Error(\"a\"),!1,{src:c,glmm:1}),c=\"\");return c};h=google.kEI;google.getEI=l;google.getLEI=m;google.ml=function(){return null};google.log=function(a,b,c,d,g){if(c=n(a,b,c,d,g)){a=new Image;var e=k.length;k[e]=a;a.onerror=a.onload=a.onabort=function(){delete k[e]};a.src=c}};google.logUrl=n;}).call(this);(function(){google.y={};google.sy=[];google.x=function(a,b){if(a)var c=a.id;else{do c=Math.random();while(google.y[c])}google.y[c]=[a,b];return!1};google.sx=function(a){google.sy.push(a)};google.lm=[];google.plm=function(a){google.lm.push.apply(google.lm,a)};google.lq=[];google.load=function(a,b,c){google.lq.push([[a],b,c])};google.loadAll=function(a,b){google.lq.push([a,b])};google.bx=!1;google.lx=function(){};}).call(this);google.f={};(function(){\\ndocument.documentElement.addEventListener(\"submit\",function(b){var a;if(a=b.target){var c=a.getAttribute(\"data-submitfalse\");a=\"1\"===c||\"q\"===c&&!a.elements.q.value?!0:!1}else a=!1;a&&(b.preventDefault(),b.stopPropagation())},!0);document.documentElement.addEventListener(\"click\",function(b){var a;a:{for(a=b.target;a&&a!==document.documentElement;a=a.parentElement)if(\"A\"===a.tagName){a=\"1\"===a.getAttribute(\"data-nohref\");break a}a=!1}a&&b.preventDefault()},!0);}).call(this);</script><style>#gbar,#guser{font-size:13px;padding-top:1px !important;}#gbar{height:22px}#guser{padding-bottom:7px !important;text-align:right}.gbh,.gbd{border-top:1px solid #c9d7f1;font-size:1px}.gbh{height:0;position:absolute;top:24px;width:100%}@media all{.gb1{height:22px;margin-right:.5em;vertical-align:top}#gbar{float:left}}a.gb1,a.gb4{text-decoration:underline !important}a.gb1,a.gb4{color:#00c !important}.gbi .gb4{color:#dd8e27 !important}.gbf .gb4{color:#900 !important}\\n</style><style>body,td,a,p,.h{font-family:arial,sans-serif}body{margin:0;overflow-y:scroll}#gog{padding:3px 8px 0}td{line-height:.8em}.gac_m td{line-height:17px}form{margin-bottom:20px}.h{color:#1558d6}em{font-weight:bold;font-style:normal}.lst{height:25px;width:496px}.gsfi,.lst{font:18px arial,sans-serif}.gsfs{font:17px arial,sans-serif}.ds{display:inline-box;display:inline-block;margin:3px 0 4px;margin-left:4px}input{font-family:inherit}body{background:#fff;color:#000}a{color:#4b11a8;text-decoration:none}a:hover,a:active{text-decoration:underline}.fl a{color:#1558d6}a:visited{color:#4b11a8}.sblc{padding-top:5px}.sblc a{display:block;margin:2px 0;margin-left:13px;font-size:11px}.lsbb{background:#f8f9fa;border:solid 1px;border-color:#dadce0 #70757a #70757a #dadce0;height:30px}.lsbb{display:block}#WqQANb a{display:inline-block;margin:0 12px}.lsb{background:url(/images/nav_logo229.png) 0 -261px repeat-x;border:none;color:#000;cursor:pointer;height:30px;margin:0;outline:0;font:15px arial,sans-serif;vertical-align:top}.lsb:active{background:#dadce0}.lst:focus{outline:none}.Ucigb{width:458px}</style><script nonce=\"9ZPHwS0NQCLj6avtICHouw\">(function(){window.google.erd={jsr:1,bv:1766,de:true};\\nvar h=this||self;var k,l=null!=(k=h.mei)?k:1,n,p=null!=(n=h.sdo)?n:!0,q=0,r,t=google.erd,v=t.jsr;google.ml=function(a,b,d,m,e){e=void 0===e?2:e;b&&(r=a&&a.message);if(google.dl)return google.dl(a,e,d),null;if(0>v){window.console&&console.error(a,d);if(-2===v)throw a;b=!1}else b=!a||!a.message||\"Error loading script\"===a.message||q>=l&&!m?!1:!0;if(!b)return null;q++;d=d||{};b=encodeURIComponent;var c=\"/gen_204?atyp=i&ei=\"+b(google.kEI);google.kEXPI&&(c+=\"&jexpid=\"+b(google.kEXPI));c+=\"&srcpg=\"+b(google.sn)+\"&jsr=\"+b(t.jsr)+\"&bver=\"+b(t.bv);var f=a.lineNumber;void 0!==f&&(c+=\"&line=\"+f);var g=\\na.fileName;g&&(0<g.indexOf(\"-extension:/\")&&(e=3),c+=\"&script=\"+b(g),f&&g===window.location.href&&(f=document.documentElement.outerHTML.split(\"\\\\n\")[f],c+=\"&cad=\"+b(f?f.substring(0,300):\"No script found.\")));c+=\"&jsel=\"+e;for(var u in d)c+=\"&\",c+=b(u),c+=\"=\",c+=b(d[u]);c=c+\"&emsg=\"+b(a.name+\": \"+a.message);c=c+\"&jsst=\"+b(a.stack||\"N/A\");12288<=c.length&&(c=c.substr(0,12288));a=c;m||google.log(0,\"\",a);return a};window.onerror=function(a,b,d,m,e){r!==a&&(a=e instanceof Error?e:Error(a),void 0===d||\"lineNumber\"in a||(a.lineNumber=d),void 0===b||\"fileName\"in a||(a.fileName=b),google.ml(a,!1,void 0,!1,\"SyntaxError\"===a.name||\"SyntaxError\"===a.message.substring(0,11)||-1!==a.message.indexOf(\"Script error\")?3:0));r=null;p&&q>=l&&(window.onerror=null)};})();</script></head><body bgcolor=\"#fff\"><script nonce=\"9ZPHwS0NQCLj6avtICHouw\">(function(){var src=\\'/images/nav_logo229.png\\';var iesg=false;document.body.onload = function(){window.n && window.n();if (document.images){new Image().src=src;}\\nif (!iesg){document.f&&document.f.q.focus();document.gbqf&&document.gbqf.q.focus();}\\n}\\n})();</script><div id=\"mngb\"><div id=gbar><nobr><b class=gb1>Szukaj</b> <a class=gb1 href=\"https://www.google.pl/imghp?hl=pl&tab=wi\">Grafika</a> <a class=gb1 href=\"https://maps.google.pl/maps?hl=pl&tab=wl\">Mapy</a> <a class=gb1 href=\"https://play.google.com/?hl=pl&tab=w8\">Play</a> <a class=gb1 href=\"https://www.youtube.com/?tab=w1\">YouTube</a> <a class=gb1 href=\"https://news.google.com/?tab=wn\">Wiadomo&#347;ci</a> <a class=gb1 href=\"https://mail.google.com/mail/?tab=wm\">Gmail</a> <a class=gb1 href=\"https://drive.google.com/?tab=wo\">Dysk</a> <a class=gb1 style=\"text-decoration:none\" href=\"https://www.google.pl/intl/pl/about/products?tab=wh\"><u>Wi&#281;cej</u> &raquo;</a></nobr></div><div id=guser width=100%><nobr><span id=gbn class=gbi></span><span id=gbf class=gbf></span><span id=gbe></span><a href=\"http://www.google.pl/history/optout?hl=pl\" class=gb4>Historia online</a> | <a  href=\"/preferences?hl=pl\" class=gb4>Ustawienia</a> | <a target=_top id=gb_70 href=\"https://accounts.google.com/ServiceLogin?hl=pl&passive=true&continue=https://www.google.com/&ec=GAZAAQ\" class=gb4>Zaloguj si&#281;</a></nobr></div><div class=gbh style=left:0></div><div class=gbh style=right:0></div></div><center><br clear=\"all\" id=\"lgpd\"><div id=\"lga\"><img alt=\"Google\" height=\"92\" src=\"/images/branding/googlelogo/1x/googlelogo_white_background_color_272x92dp.png\" style=\"padding:28px 0 14px\" width=\"272\" id=\"hplogo\"><br><br></div><form action=\"/search\" name=\"f\"><table cellpadding=\"0\" cellspacing=\"0\"><tr valign=\"top\"><td width=\"25%\">&nbsp;</td><td align=\"center\" nowrap=\"\"><input name=\"ie\" value=\"ISO-8859-1\" type=\"hidden\"><input value=\"pl\" name=\"hl\" type=\"hidden\"><input name=\"source\" type=\"hidden\" value=\"hp\"><input name=\"biw\" type=\"hidden\"><input name=\"bih\" type=\"hidden\"><div class=\"ds\" style=\"height:32px;margin:4px 0\"><div style=\"position:relative;zoom:1\"><input class=\"lst Ucigb\" style=\"margin:0;padding:5px 8px 0 6px;vertical-align:top;color:#000;padding-right:38px\" autocomplete=\"off\" value=\"\" title=\"Szukaj w Google\" maxlength=\"2048\" name=\"q\" size=\"57\"><img src=\"/textinputassistant/tia.png\" style=\"position:absolute;cursor:pointer;right:5px;top:4px;z-index:300\" data-script-url=\"/textinputassistant/11/pl_tia.js\" id=\"tsuid_1\" alt=\"\" height=\"23\" width=\"27\"><script nonce=\"9ZPHwS0NQCLj6avtICHouw\">(function(){var id=\\'tsuid_1\\';document.getElementById(id).onclick = function(){var s = document.createElement(\\'script\\');s.src = this.getAttribute(\\'data-script-url\\');(document.getElementById(\\'xjsc\\')||document.body).appendChild(s);};})();</script></div></div><br style=\"line-height:0\"><span class=\"ds\"><span class=\"lsbb\"><input class=\"lsb\" value=\"Szukaj w Google\" name=\"btnG\" type=\"submit\"></span></span><span class=\"ds\"><span class=\"lsbb\"><input class=\"lsb\" id=\"tsuid_2\" value=\"Szcz&#281;&#347;liwy traf\" name=\"btnI\" type=\"submit\"><script nonce=\"9ZPHwS0NQCLj6avtICHouw\">(function(){var id=\\'tsuid_2\\';document.getElementById(id).onclick = function(){if (this.form.q.value){this.checked = 1;if (this.form.iflsig)this.form.iflsig.disabled = false;}\\nelse top.location=\\'/doodles/\\';};})();</script><input value=\"AOEireoAAAAAZCNqnHYaUxCYr3iVBejd0FjqRzRl8UFT\" name=\"iflsig\" type=\"hidden\"></span></span></td><td class=\"fl sblc\" align=\"left\" nowrap=\"\" width=\"25%\"><a href=\"/advanced_search?hl=pl&amp;authuser=0\">Szukanie zaawansowane</a></td></tr></table><input id=\"gbv\" name=\"gbv\" type=\"hidden\" value=\"1\"><script nonce=\"9ZPHwS0NQCLj6avtICHouw\">(function(){var a,b=\"1\";if(document&&document.getElementById)if(\"undefined\"!=typeof XMLHttpRequest)b=\"2\";else if(\"undefined\"!=typeof ActiveXObject){var c,d,e=[\"MSXML2.XMLHTTP.6.0\",\"MSXML2.XMLHTTP.3.0\",\"MSXML2.XMLHTTP\",\"Microsoft.XMLHTTP\"];for(c=0;d=e[c++];)try{new ActiveXObject(d),b=\"2\"}catch(h){}}a=b;if(\"2\"==a&&-1==location.search.indexOf(\"&gbv=2\")){var f=google.gbvu,g=document.getElementById(\"gbv\");g&&(g.value=a);f&&window.setTimeout(function(){location.href=f},0)};}).call(this);</script></form><div id=\"gac_scont\"></div><div style=\"font-size:83%;min-height:3.5em\"><br></div><span id=\"footer\"><div style=\"font-size:10pt\"><div style=\"margin:19px auto;text-align:center\" id=\"WqQANb\"><a href=\"/intl/pl/ads/\">Reklamuj si&#281;</a><a href=\"http://www.google.pl/intl/pl/services/\">Rozwi&#261;zania dla firm</a><a href=\"/intl/pl/about.html\">Wszystko o Google</a><a href=\"https://www.google.com/setprefdomain?prefdom=PL&amp;prev=https://www.google.pl/&amp;sig=K_lsoQ41YjC1z4QezDktMtA8Z1N0A%3D\">Google.pl</a></div></div><p style=\"font-size:8pt;color:#70757a\">&copy; 2023 - <a href=\"/intl/pl/policies/privacy/\">Prywatno&#347;&#263;</a> - <a href=\"/intl/pl/policies/terms/\">Warunki</a></p></span></center><script nonce=\"9ZPHwS0NQCLj6avtICHouw\">(function(){window.google.cdo={height:757,width:1440};(function(){var a=window.innerWidth,b=window.innerHeight;if(!a||!b){var c=window.document,d=\"CSS1Compat\"==c.compatMode?c.documentElement:c.body;a=d.clientWidth;b=d.clientHeight}a&&b&&(a!=google.cdo.width||b!=google.cdo.height)&&google.log(\"\",\"\",\"/client_204?&atyp=i&biw=\"+a+\"&bih=\"+b+\"&ei=\"+google.kEI);}).call(this);})();</script> <script nonce=\"9ZPHwS0NQCLj6avtICHouw\">(function(){google.xjs={ck:\\'xjs.hp.TY6eF88EEio.L.X.O\\',cs:\\'ACT90oE0zt9Eu2fZr5xo0yyrTwcAEWERgQ\\',excm:[]};})();</script>  <script nonce=\"9ZPHwS0NQCLj6avtICHouw\">(function(){var u=\\'/xjs/_/js/k\\\\x3dxjs.hp.en.UAJJvfsa1ns.O/am\\\\x3dAACgEwBAAYAF/d\\\\x3d1/ed\\\\x3d1/rs\\\\x3dACT90oGu_Idx-btVcR0iEWXIkcReN85QqQ/m\\\\x3dsb_he,d\\';var amd=0;\\nvar e=this||self,g=function(c){return c};var k;var n=function(c,f){this.g=f===l?c:\"\"};n.prototype.toString=function(){return this.g+\"\"};var l={};\\nfunction p(){var c=u,f=function(){};google.lx=google.stvsc?f:function(){google.timers&&google.timers.load&&google.tick&&google.tick(\"load\",\"xjsls\");var a=document;var b=\"SCRIPT\";\"application/xhtml+xml\"===a.contentType&&(b=b.toLowerCase());b=a.createElement(b);b.id=\"base-js\";a=null===c?\"null\":void 0===c?\"undefined\":c;if(void 0===k){var d=null;var m=e.trustedTypes;if(m&&m.createPolicy){try{d=m.createPolicy(\"goog#html\",{createHTML:g,createScript:g,createScriptURL:g})}catch(r){e.console&&e.console.error(r.message)}k=\\nd}else k=d}a=(d=k)?d.createScriptURL(a):a;a=new n(a,l);b.src=a instanceof n&&a.constructor===n?a.g:\"type_error:TrustedResourceUrl\";var h,q;(h=(a=null==(q=(h=(b.ownerDocument&&b.ownerDocument.defaultView||window).document).querySelector)?void 0:q.call(h,\"script[nonce]\"))?a.nonce||a.getAttribute(\"nonce\")||\"\":\"\")&&b.setAttribute(\"nonce\",h);document.body.appendChild(b);google.psa=!0;google.lx=f};google.bx||google.lx()};google.xjsu=u;setTimeout(function(){0<amd?google.caft(function(){return p()},amd):p()},0);})();window._ = window._ || {};window._DumpException = _._DumpException = function(e){throw e;};window._s = window._s || {};_s._DumpException = _._DumpException;window._qs = window._qs || {};_qs._DumpException = _._DumpException;function _F_installCss(c){}\\n(function(){google.jl={blt:\\'none\\',chnk:0,dw:false,dwu:true,emtn:0,end:0,ico:false,ikb:0,ine:false,injs:\\'none\\',injt:0,injth:0,injv2:false,lls:\\'default\\',pdt:0,rep:0,snet:true,strt:0,ubm:false,uwp:true};})();(function(){var pmc=\\'{\\\\x22d\\\\x22:{},\\\\x22sb_he\\\\x22:{\\\\x22agen\\\\x22:true,\\\\x22cgen\\\\x22:true,\\\\x22client\\\\x22:\\\\x22heirloom-hp\\\\x22,\\\\x22dh\\\\x22:true,\\\\x22ds\\\\x22:\\\\x22\\\\x22,\\\\x22fl\\\\x22:true,\\\\x22host\\\\x22:\\\\x22google.com\\\\x22,\\\\x22jsonp\\\\x22:true,\\\\x22msgs\\\\x22:{\\\\x22cibl\\\\x22:\\\\x22Wyczy&#347;&#263; wyszukiwanie\\\\x22,\\\\x22dym\\\\x22:\\\\x22Czy chodzi&#322;o Ci o:\\\\x22,\\\\x22lcky\\\\x22:\\\\x22Szcz&#281;&#347;liwy traf\\\\x22,\\\\x22lml\\\\x22:\\\\x22Wi&#281;cej informacji\\\\x22,\\\\x22psrc\\\\x22:\\\\x22To wyszukiwanie zosta&#322;o usuni&#281;te z Twojej \\\\\\\\u003Ca href\\\\x3d\\\\\\\\\\\\x22/history\\\\\\\\\\\\x22\\\\\\\\u003EHistorii online\\\\\\\\u003C/a\\\\\\\\u003E\\\\x22,\\\\x22psrl\\\\x22:\\\\x22Usu&#324;\\\\x22,\\\\x22sbit\\\\x22:\\\\x22Wyszukiwanie obrazem\\\\x22,\\\\x22srch\\\\x22:\\\\x22Szukaj w Google\\\\x22},\\\\x22ovr\\\\x22:{},\\\\x22pq\\\\x22:\\\\x22\\\\x22,\\\\x22rfs\\\\x22:[],\\\\x22sbas\\\\x22:\\\\x220 3px 8px 0 rgba(0,0,0,0.2),0 0 0 1px rgba(0,0,0,0.08)\\\\x22,\\\\x22stok\\\\x22:\\\\x22vZYCpSNxGEMM3leyckXK0VxEuDU\\\\x22}}\\';google.pmc=JSON.parse(pmc);})();</script>       </body></html>'\n"
     ]
    }
   ],
   "source": [
    "import urllib.request\n",
    "\n",
    "url = \"https://www.google.com\"\n",
    "\n",
    "with urllib.request.urlopen(url) as response:\n",
    "    html = response.read()\n",
    "\n",
    "print(html)"
   ],
   "metadata": {
    "collapsed": false
   }
  },
  {
   "cell_type": "markdown",
   "source": [
    "## 10.8 zlib and timeit\n",
    "   - zlib provides functions for data compression and decompression\n",
    "   - timeit provides a simple way to time the execution of small bits of Python code"
   ],
   "metadata": {
    "collapsed": false
   }
  },
  {
   "cell_type": "code",
   "execution_count": 122,
   "outputs": [
    {
     "name": "stdout",
     "output_type": "stream",
     "text": [
      "0.276599000000715\n",
      "Original size: 14709\n",
      "Compressed size: 6450\n",
      "Compressed string: b'x\\x9c\\xa5[yW\\xdb\\xc8\\xb2\\xff?\\x9fB(g\\xc0:\\x08[\\x92w)\\x82\\xc7\\x102\\xc9\\xbd\\xd9C&3\\xc9\\xe4qZR\\xdb\\x16\\xd6\\x86$c\\x0c\\xf8\\xbb\\xbf_\\xb5\\x16\\xcb@&\\xf7\\xcdM\\x0eB\\xea\\xae\\xaa\\xae\\xad\\xab\\xab\\xba\\x9bg;^\\xec\\xe6\\xab\\x84K\\xb3<\\x0c\\x0e\\x9f\\xd1S\\xf2s\\x1efn\\x9cp[\\x96\\xc5\\x07\\x01\\xd8\\xf2,\\xcf\\x13\\xb3\\xd3\\xc9\\xdc\\x19\\x0fY;N\\xa7\\x9d/\\xdcy\\xcf\\xa6\\\\\\x96\\x02\\x16Mm9\\tdP\\xe0\\xcc;|\\x16\\xf2\\x9cIn\\x1c\\xe5<\\xcam9\\xe7\\xd7y\\x87H[\\x92;ci\\xc6s\\xfb\\xf3\\xd9\\x8b\\x83\\x91,\\x11\\xcd\\x03~\\xb9\\xf0\\xafl\\xf9\\xa4\\x00?8\\xc3h\\xf2}\\x12\\x1d?\\xc4HY\\xc7IY\\xe4\\xf9\\xd1\\xb43\\x8d\\xe3i\\xc0\\xa7\\x1d\\xfd\\xbaz=\\xcfr\\xf4\\xb1\\xd4;w\\xe3 N\\xcfuc\\xe4%\\xed$\\x9a\\x16B$i\\x9c\\xd8\\xb2 \\x03\\xea\\xb9\\x9f\\x07\\xfc\\xf07\\x81\\xf9\\xacS|=\\xcb\\xdc\\xd4Or)\\x8a#\\x17\\xf2\\x8e\\xbf\\xbe\\x7f\\xb9\\xfc\\xa4\\xbd\\xfdp\\xf2\\xfab\\xc0\\xae\\xf2W\\'/\\xe3\\xc5R>lM\\x16\\x91\\x9b\\xfbq\\xd4Rn\\x97~\\xe4\\xc5\\xcbv\\xc1\\x81};?}e\\xee]\\xbcX^|}\\xff\\xee\\xd7\\xd7\\xe7\\xab\\x973\\xe7\\xd5\\xfb\\x8bl\\x11i\\xc7\\xbd=u~\\xfa\\xc7{\\xf4k\\xaa\\xde\\xed\\x8f{\\xdaX\\x1dh\\xfd\\x91jhC\\xd5\\xe8\\xe9}\\xd5\\xe8\\x8e\\xc6x\\xe8\\x03\\xb5;\\xea\\xa2i\\xa0\\xf6U]7\\xc6\\xba\\x01\\x0c}<\\x1c\\x1a\\xd4\\xa3\\r\\x07h\\x1e\\xe8zO5F\\x83\\x11\\x9eF\\xaf\\xab\\x83\\xe4\\x00\\x0f`\\xa3s\\xd8Gso<\\x1e\\xa1\\xd50F@\\xea\\r\\xd5\\xc1\\x08\\x8d\\xe8\\x1eh\\xc0\\x1b\\x1ax\\x8cu\\xb5;\\x06MC\\xef\\xaa\\xc3\\x01\\x10\\x07\\x1a\\x06\\xd0\\x06\\x03`h\\x9a\\x01\\x90\\x01\\x06\\xd1\\xbbz\\xcfP\\xbbj\\x17\\xfc\\x18] \\x83\\xe7\\xae\\x8a\\xf6>(\\xa3\\x01\\x0c\\xf4F\\xfd1F5\\x06\\x03b\\x03\\x03\\xf4z\\xdd\\xa1:\\xeeB\\xb8a\\x0fP\\xfd\\x91\\x0eb\\xfd^_\\x85\\xd0=u\\xd8\\x1f\\x03P\\xed\\x19z\\x1f\\xc8\\xaa\\xde\\x13c\\xf5\\x87\\xdd\\xb1\\xda\\x1f\\x0cAI\\x83\\xc0]Hn\\xa8\\xbd>\\x98\\x19\\x18}\\xa8\\xa3\\xdb30\\xa8\\xd17@\\xae\\x0b!{ct\\xf5\\xba]\\x03c@\\xb2!\\xe9S\\x1f\\x0e\\x06P\\xa6\\x069Fz\\xbf\\xaf\\x0e\\xbb#(\\xa5?\\x1ej\\xeah\\xd8U\\xf5\\xf1\\xa0\\x0bQ\\xf1\\x1b\\xa41\\x00\\x9a\\xf5\\xdep\\x00\\xe2}\\xd0\\xee\\x0e\\x01\\x0c\\\\\\xf4\\x8f\\x00\\xa1\\xf6\\x87\\xc4\\xa6\\x06\\xad\\xa0i\\xd4\\xd3a\\x1b0\\x86\\xa6\\x01\\xb0\\xf5\\xe1\\x10Z\\x82\\x92\\x87`j\\x08\\xd5\\x0c\\x060\\xc2\\xa0\\x0f\\x85\\xf5\\xb4\\x01\\x04\\xa1\\xee\\x11iaD\\xda\\x84\\xdez\\xc6P\\xed\\x83\\x82\\xda\\x1b\\x91\\xcc <\\x1ak\\xea\\xd8\\xe8\\xd3p}\\x00\\x8f\\xc7\\xb0\\x02\\xc8\\x8f\\xa0R\\x88L^\\xa2atR\\x08t\\rN`/\\x03\\xa4\\xf5\\xae\\xd0\\x115C\\xb7\\xfah\\x0cs\\x0c\\xfb \\x8e\\xd1\\xa0~XhH\\x86&\\xd5v\\xc7\\xe4$ < \\xc2\\xe8\\x80\\xc2\\xc9\\xa6\\xe3\\x1e)\\x81\\xac\\xd5%\\xd7\\xc2X}j![\\x8d\\xf0[\\x1f\\x92\\x83\\x91\\xe4]r\\x08r1]\\xed\\x93\\xe5\\xc8x]\\x12\\x1e\\\\k}R\\x17\\xb1\\x00\\xdc.Q\\xeb\\x932H\\x0bp\\x8c\\x1e\\xd0\\xe1\\xa8c\\xd06\\xd4\\x11\\xc9NNN\\xf2\\xe0S%|c,\\x8c\\x0f\\xed\\x93\\x050\\x02\\xb9q\\x8fLN\\xf3\\x02\\x06\\x07\\x8b@#m\\xc0\\xde]u\\x04\\xb0Q\\x9f \\xc8\\x9b\\xc8\\x99aL\\x1d\\xfc\\x0e\\xc9\\xe7G\\xd0jo,\\x06\\x1b\\x81\\xe9^\\x8f\\xac\\x03~z0\\x84\\x01:\\xe3\\x01\\xf93)U\\'\\xcd\\ruu\\x08\\xca:\\xd9v\\x0c]\\x1a\\x03H\\t\\xd6\\xba$\\xcf\\x106\\x13\\xb3\\x07\\xceA\\xde\\xa8\\n\\x1b\\xc1A\\xe8\\xa7\\xab\\x92O\\xf6\\r\\xccJ\\xcc\\xb8\\x81\\x86\\x06\\xf2\\nR\\xc0h8\\x1e\\xf5H\\x19\\xf0-2\\xb1:\\x1c\\xf7I\\x08rWr\\xf81\\x9c\\x13*0`\\x96\\xfe\\x08z\\xecb\\x8c\\x9e\\xd6\\x83\\xff\\x10\\x188\\xd0\\x07\\x83bf\\x96\\x1e\\xd0\\x1f\\r1q\\x070p\\x97\\x0c\\x0b\\x92\\xbd\\x11X24\\xfc\\xd2\\x11O~}m\\xee\\xb1\\x7f\\x9f\\xbe\\xc0\\xeb;D\\x16Xz\\x08\\x06\\xc6k\\xab\\x88G\\xed,\\xb2\\xf7\\x96\\xdc\\x99%{U\\xcb\\xfc\\xe5k{/\\t\\xf6\\xac\\xb5\\xd2R\\xacf${r\\xc5Rib\\xe73?\\xbb\\xbb\\xcbx0\\xb1\\xa8a\\xa6\\xce\\xedo\\xdf\\xad\\nN\\nZL\\xb9\\x9d\\xc4i\\x8b:\\x1d\\x8b\\xed\\xee\\xb6vX{\\xca\\xf3\\xe3<O}g\\x91\\xf3\\xbb\\xbb\\x9d\\x96co\\xb7\\xb5d\\xee{\\xb2\\xa2(\\x96\\xc2\\xd0\\x95\\xb0\\x141\\xfdm\\xecq+\\xe5\\xf9\"\\x8d$\\xe7\\xeen\\xb6\\xae\\x07\\t\\xb7\\x06\\xb1\\xa3E\\x10\\xfc\\xe7#\\x05?\\x1bj\\xfd\\xa4\\x1e(j1\\xd5Q]\\xd5S\\xa7\\xca-\\rF+\\x9e\\xe5\\xde\\xdd\\x1d\\xe8;\\xb6\\xed\\xb43\\xceRw\\xd6\\x92w\\xb9o\\xcb\\xca\\xdd]\\x0b\\xfd\\xe2}?hy\\x8az\\xa0\\xdb[P\\x81\\x00\\x03\\xa3\\x9e\\x1d\\xa2\\x9f\\xde\\xf8\\xbe]\\xb6\\xef\\xa3\\xc1\\xf2\\x88\\xfe\\x8e\\xbb\\xbb;i\\x9f\\xbb\\xd9\\xcc\\xf7vw\\xef\\x13\\x11\\xcd\\x82\\x8c\\x9c\\x053\\x19|0A\\xb1\\xee\\xd9\\xafp\\x15\\xcb\\xb5\\xc1\\xab\\xdc\\x91\\xf7[S\\xfc\\x9e\\xf2\\xe8\\x1c\\xae!+\\xfb\\xf2\\x11\\xc3\\x92m\\xfb\\xbb.V\\xce}\\xb6\\x0f\\\\F\\x98\\xce>\\xc7\\xfb\\xcd5^\\x9f\\xb3\\x9c\\xb7\\xa3x\\xd9R\\xf6=\\xab\\xf3\\xbf\\xc5\\xda\\xee\\xb7s\\x9e\\xe5-\\x97\\x06\\xa7\\x96\\xcc\\x94\\xc1\\\\\\xb9\\xc6\\x05\\xb1\\xcbHkm,\\xa4y\\x8c%\\x16l\\x95^\\x15\\xe2\\xbd~m\\x9d\\xa6)l\\'3YQwt\\xf56K]\\xd3U\\xa7A\\x18\\x9a\\xfaZQ]\\xa8@\\xa9\\x8c\\xe1\\xae\\xad\\x99]\\xb9\\xe6\\xe9\\xab\\xcaKa\\xd1\\xd3Wv\\xd0\\xf8|\\x8d\\xef\\xd0\\xaa\\xc7\\xb0\\x1b\\x8e[\\x92\"/\\xa9\\x1d?\\x88\\xa7\\x1b\\x90\\x86\\x8d\\xfdI\\xcb\\xb5\\x9b-\\xca-\\xb3#\\xbe\\x94^QZ`\\x15.0o\\x07<\\x9a\\xe63k\\xfe\\x8d\\x7f\\xb7\\x99\\x85\\\\\\'\\xe2$\\x93MoA\\x0cU\\xd2\\x0bs\\xe24o2\\xe2\\xf1\\x80\\xe7\\\\\"\\xac5\\x90 \\xb7\\xed\\xae\\x9b,}N\\x03;\\xc2\\xcck\\xbb,\\x08Z4\\xd3\\xb6\\xa7`\\t\\xb9\\xb2o73xE\\xd3\\xaf\\xfc\\xb8\\xde\\x92IH\\xc3\\x14\\xe2\\xd9\\x05C\\xbeg\\xf1 \\xe3\\xb7^\\x8c\\xcf7,\\x9f\\xb5)S\\x8aCL\\xf3\\xe5\\xcc\\x0fxe\\xab\\xd57\\xf7\\xbb\\xb2n|\\xd8\\xdf@\\xec{i\\x91\\x1d}3ts\\xb8\\x9a\\xb9l\\xd5N\\x16\\xd9\\x0c-\\x1b\\xc9\\xc2\\x06\\x8f\\t\\xbe\\x1eA\\x0bB\\x81\\xd6fI\\x12\\xacZu\\xa3\\xda$s\\xd9 #\\xb4\\xbcm\\xc1\\r\\xad\\xcb\\x82\\x85o\\xdf\\xd8w\\xea\\xf8\\xde\\xa0\\x01\\xb4\\xe3 \\xb8\\xa7\\xa7\\xfbx$\\xef\\x06\\xc7\\xb9\\xb6w\\xf4\\x9a\\xc0u\\xd3\\xa2\\xeb{\\xc6*\\x81&d\\xa0\\xad\\xd8\\x89$z\\x11\"\\xd0\\xb4\\xab\\x97\\xd3\\x80\\x8bo\\xe6y\\xa7Wxy\\xedg\\xc8c9\\xa6E\\xb6pB?\\x97\\xd5\\x1a\\xdd)B\\x0f\\xb3\\xc8\\x9c\\x88\\x049K\\xe1\\xf0E\\xa3\\xfb \\xbcy,g\\x07\\x05\\x8d\\t\\x83\\xbd1\\x97\\x98-\\xeb4O)\\x16\\\\\\x8a\\x97\\xdd]\\x84J^\\xb0\\x90\\xb5/\\xdbW,X\\xf0\\xa3\\x1d\\xcd\\x84y\\xc9I$F\"S\\\\q0\\x9b91\\xf8\\x9cO\\xd8\"\\xc8[\\x8a\\x8aX\\x94\\xc7\\xc9{d\\xcbl\\xca\\n\\x01\\x95\\xb5\\xba\\xa3!z\\xfd\\xe7R\\xba\\x81\\xef\\xce\\x1f\\x13\\x92\\x99\"\\xb2o\\x04%6\\x18\\xa2\\xdc\\x8f\\x88[\\x9b0^\\xb6(P\\x94|L\\x822\\xd0\\x98\\xbee!\\xa7i\\\\(\\xe1Q}E\\xf1,\\xe5\\x13\\xa8\\xcaI9\\x9bKlM\\xf2\\xaf1\\xf0C\\xf1\\x0bI\\xb7\\xcd\\xfe\\xacS\\x14\\x06(\\x10\\xf2\\x15\\xea\\x84\\xa7S\\x87\\xa5\\xea\\xd3\\xe9\"\\xe3)\\xa4A\\xc9\\x92\\xf97\\xdc\\xd4\\xbb\\xc9\\xb5\\x95@\\x17(O\\x0e\\xa0BSO\\xae\\xa5\\x1d?L\\x10\\'\\x18\\x04Y\\x0b\\xbc\\xdb\\x19\\xf7\\xa7\\xb3\\xdc4\\x8c\\xe4z]\\xd2\\xa8\\x90\\x9c8\\xcf\\xe3\\xd0\\x1cn\\xe3Q\\xf5t\\xc0\\x02\\x7f\\x1a\\x99)\\xa1\\xae\\xdbSg\\xa6\\xe2\\xe1\\xdd\"\\x04y<\\xad\\x07\\xcb\\xe2\\xc0\\xf7\\xa4\\xa7\\xee\\xd8\\x1bNt\\xab\\xc1\\x19\\x86\"\\xa4jl\\xcdJ\\xe2\\xcc\\'\\xc3\\x98\\xcc\\x01\\x124e\\x11\\r\\xa3\\x07\\t\\x96\\xbe\\x97\\xcfLdF\\xbf\\xac\\xff\\'\\xe4\\x9e\\xcf$h\\xe2\\x16\\xe8z\\x93u+\\x84\\xf5\\xfc\\xe8@pd\\xb6\\xfb<\\xb4\\xaex\\x9a\\xfbP[\\xc9+\\x08\\x96\\x12O0-s3\\xe0\\x93|\\xbdfDH\\xa5g\\xefV\\x08\\xe6q7N\\x85\\x9f\\x99\\x8b\\x08\\xc2\\x04~\\xc4\\x1b\\xd2o!\\x88\\xba\\xce|\\xaain\\x13\\x02]\\xbe\\xd4\\xec\\xf7\\xbc\\x117\\x86\\xf7@&[ cMk\\xf6?\\x81\\x89\\x85iK\\x0b;\\xb1\\xb7RsOej\\xa2\\xb6g\\x85\\x8d\\',\\xf4\\x83\\x95\\xc9R\\x9f\\x05j\\xc6\\xa2\\xec\\x00\\xa6\\xf3\\'k\\x82\\xbd-\\xb4\\x01\\xc5\\xc6\\xd0\\x02\\xe4]\\x1e\\xacL8M\\x8c5\\xe9\\xe94\\x9eV\\x166\\xe1\"\\xd2\\x08?\\xda:\\xf7nI\\xd4\\x83R\\xa7\\xed\\x11\\x0f\\xc1&s\\xcfC\\xe9^\\x97\\x0e\\x7fXc\\xd2\\x84\\xe5(\\x95\\x9b\\x18\\x1a\\x99uV\\x89\\x84\\x82g\\xe4\\r\\xd6<,\\xd8]\\x16\\xc8N\\x1cx\\xa5\\'\\x90df\\x04:,X\\xb7\\x83,\\xaf\\xcd\\xd9\\xaf\\xad\\x8e\\x14U\\xb8J6\\xf1U\\x01B\\x98\\xa6N\\x1c?\\x90\\x9b\\xa0\\xb2\\x12`\\xf8(\\x80\\x97\\xddz~\\x96\\x04le\\xfa\\x91\\x90\\xc8\\x89\\xaf\\xad\\xfbM\\xc8+\\xe6\\xa57\\t\\xf5hRo\\xe3^\\xe44&\\xbe\\xd7~\\x94,\\xf2-C\\xf8\\xd1\\x0c\\xc3\\xe4\\x85\\xfe\\x1d\\xe6\\xce\\xa7i\\x0c\\x0f2\\x9fN&\\x13\\xab\\xf6\\x14m\\xcd*\\x05\\xf5\\x1c]g#\\xeb\\xbe\\xd7\\xa1\\xda\\xe7kf\\xce\\xc8r*3\\x19\\x02\\xd6\\x15\\xff\\xb1o\\xae\\xdb\\x93@b\\xf7\\x94\\xce\\xcc+\\x1f\\x13\\x8a{\\xdbc\\xad\\xdb\\x99\\x13\\xb8\\xb7\\xcd\\x98\\xd0\\'\\xfdR+hT\\x9a\\xd8R\\x81A*\\xd8\\x12_\\xc4\\x95\\xc6d\\x16\\xb39\\xc8\\x1cg[\\xea\\xd1d<aV\\x11\\x11\\xcc\"\\x12\\x00\\xb2l8\\xa8\\xa6\\x06\\xf3\\\\\\xaeIO\\x87\\x1aJF\\xb6\\xf9]\\xb4[\\xa5Gt\\xb5z\\x88-\\x1e\\xd7O\\xbf\\\\~8~\\xeb4x\\x7f\\xcc\\x8a\\x9a\\xa4\\x1b%\\x81&\\x8b\\x8b4hU\\xdb8\\x11\\xbb:GF\\x14\\x1b\\xc6\\x98vh\\x14X\\xfd\\xc0\\x18P\\x0cKy\\xc2Y~P1.\\xcc\\xd30\\xa7\\xe5.\\xd2\\x0c\\xefI\\xecG9O\\x9b\\x1c[\\x9bI\\xb8\\xc8\\x89+\\xbc\\x15\\xee\\xd9\\x7f\\xc4=\\x1f\\x0bW\\xc4q\\xe5\\x00M\\xdd\\x16\\xda\\x11\\x93\\xc6\\x9c`y\\xcan\\xab\\x11\\x84\\xf3\\xb4?\\xbb\\xfe\\xd4\\xb9-\\xa7P\\x1f\\xb3e\\xbd\\x89\\'\\xff\\xdd\\x96R\\x9b\\xa7\\x9e}{\\x91\\xa5\\xa6\\xae:W&mp\\xa8\\x1e7\\xf3t\\xc1\\xd7\\x96(\\xd9f\\xf7K\\xb6\\xb9\\x1a\\x88\\x92i\\xc7n\\xcd\\xedY;\\xe4\\xber4\\x07z\\xa4&U{\\x84\\xf6\\xcc\\x8b\\x95\\xa3\\xc8\\xdc\\xd1\\xd4K[SS5\\xb77#\\xaaWv\\xde\\xc6\\xa0\\x8f%\\xdc\\x94\\x8byj\\xa8b\\xcd\\xe5\\xf6U\\x0c/\\xd3\\xb0\\xec\\xf2#\\xc3\\xe4\\x96\\x83\\x8c\"\\xa5z\\x85a\\xd8,\\x83\\xa5\\x15\\xcajJ*^\\xa0\\x94\\xb9z\\xdd\\x00j\\\\E%%J<@j\\x87W\\xb5\\x02\\xdc8\\x82\\x17\\xf3\\xdd\\xdd\\xf2\\xa5-rp`x\\x82\\xe8\\x81\\x81a\\xaf\\x94|\\x96\\xc6K\\xe4\\x15\\x8e]\\xe56xc(\\rk\\x16\\x90\\x15\\x89\\x8aD\\xa2\\xe4\\x10\\xd3P*LR$\\x0b5\\xcc\\xe5\\xa1\\x8d\"f\\'<\\xda\\xd1\\xa1\\x13\\x1a`\\xc7Q\\x1a\\xa5\\x85u\\xb9\\xbf\\x8f\\xf2\\xcd\\xbb\\xbbC\\xee\\xe7\\xd8<rQS~\\xfe\\xf8\\xea$\\xc6\"\\x12Q\\x9eR\\xe4kr\\xa7,\\xc3\\xaa\\x12L\\xd4~NkS\\xe4\\xd4i\\xa4\\xd8\\x0e\\x84\\xc6\\\\\\xaa\\x11/\\xf8u\"\\xaa\\xbb\\x06(\\xbaQ3\\x8an\\x14\\x13\\xc9\\xb4\\xd9\\x9bE(\\xf3va#\\xd1(\\xacE\\r\\x0e\\xbc\\xbalq\\xae\\x14\\xab\\xa8\\xe9Y\\x9b|\\xf5\\xed\"t0a\\n\\x93!\\xe1\\x9aTCS\\'\\x95\\x95\\x05\\xf8\\xd4~\\xc2\\xda\\x13\\x14\\x0c\\x94WYS\\x00i\\xcf\\xa6m\\x98\\x84_\\xbfC\\xdeu\\x80\\xb8\\xc8\\xa3\\x8cBbG\\xd4\\xba\\xdc\\xee\\xa2\\xa8\\x13<\\n\\xbd\\x16L**\\xc8O\\x1f)\\x1e)\\x11\\x03\\xd6\\xe4\\x87\\xf9^\\x1bS\\x8b\\xa7/\\xcf\\xde\\xbcn#\\xc2\\xf8yK\\xfe+\\x92\\x95o\\x93\\xef\\xc5 e!\\xdb\\x9a\\x1cM\\xdaH\\x833$z\\xd1\\xb4\\xa5\\xd1\\x8e\\xa5b\\xcao\\xe3\\xd2\\xba\\xd2\\x84fn[l\\x04\\x14\\xfa\\xc5\\xfc\\x00\"\\xb7\\xaa}\\x85\\x85\\xe4G\\x92\\xa7\\x88N\\x99h;\\xadE!\\x88]~z\\xdf\\x16\\xdfE\\x8d\\r\\xbd\\xf20+\\xd4\\xcf\\xda\\x11\\xf4\\xb2/\\x9b\\x12\\n\\xeb\\x8d\\x97\\x17P\\x17Y\\x96\\x97PY\\x8e\\xf8\\x01\\xd7{\\xdb9F\\xde\\xa9\\x1b\\xc6h\\xf4\\xccv\\xcb\\xca\\x924\\x8f\\x8f\\x82\\x7f0/\\xba\\x15\\xca\\xe4]+\\xbc\\xbb\\xdbT\\x8c\\xe8\\x93e\\x14IU\\xbd\\xcc\\xd6V\\xa9\\xd0\\xaa$}l^\\xa6\\xe5\\xa6\\x01\\xb39\\x84\\xa4]q\\x97\\xc7\\x13I\\xcc\\x82#n\\x16\\xf59S\\xd4z\\xf6\\xc2\\xab\\xe5\\x8d\\x8b\\xc8P\\x0cfP\\xab\\xe96\\xb6\\xd7\\x00w\\x00^y\\xc8\\x06\\xb8j\\xb1\\x1dE\\xddl\\x060\\xda\\x03(0\\xe9M\\xfe\\xb4\\x8arv-X(f \\xa9\\x13\\xf4\\x1e\\xb4\\x97\\xaa\\xdd2\\xb2\\xae+\\xe5\\xde\\xcc\\xa6\\xbf\\xf6\\xccO\\x85\\xe1\\x85Zd\\xe5\\xa8kj\\xd0hZ\\xec\\x1e%\\xbb\\xbb\\xc5\\x04o\\xddS\\x1f\\xf5*\\xebb7l\\x93\\xe6w\\x8aC\\x0c\\xca,$g*\\x16\\x1f[\\xa6\\xbcB\\xfe\\'\\x01\\x9d\\xbc\\x8d6\\x03\\xf6~\\xb0\\xf8\\xed\\x89y\\xe7sx\\x98(\\xe96u\\x161Pn9H\\xb6\\xf4p\\x8d\\x88\\xa4\\xdd]\\xa9zoQX\\x94Z5r1\\x98r[oo\\xb4\\x14\\xb1\\'\\x81\\x1fk\\xfd\\x84@whL\\xe5\\xb6\\xc6\\xc0\\xc4\\xdc\\xbc\\xa3l\\x14K]\\xabQ\\xf7M\\x9d\\xcb&\\x0c}6\\xc0\\xd6O\\xf0\\x7f[\\x91\\x9e\\x7f%QT\\x0b\\xa3\\xa9#\\xd7\\x9fT\\x14\\x1c>\\x8bb\\x07OGr\\x03\\x96eh\\xd3\\x0f?\\xdd,\\xe6\\xec\\xe2Y\\xc79\\x94\\x9e\\xb1M\\xbbD1\\xc3.7\\xa4:\\x9d\\xe5\\xb2^\\x1c\\x93\\x00*\\x9d\\xce\\x92\\xa3Y`\\'\\xc1n\\xce\\x1c\\xc4\\x1b\\xf9\\xf0\\xb7\\x94M\\xfc9{\\xd6a\\x7fK(dI\\xd6\\xa0D\\x9fMB\\x81|\\xf8\\x86%\\xab\\x9fQ\\xa1,\\xa8\\xa2\\xe2\\xc6a\\xa7Ib$\\x1f\\xbeG\\xf7\\xcfH\\x90D+\\x84\\xbd\\x85S\\x92\\x10\\xc8\\xba|\\xf8g\\xbc8C\\xe3\\xcf\\xf0a\\xe1l\\x8b\\x05\\x81\\x1f\\xc9\\x87_|\\xe6\\xc5a\\xbc\\xfb\\xb4\\xdb\\x1bZ\\xae\\xffs\\x85\\xf8A\\x93\\x0e}\\x97\\xc4Bh\\x95>\\x7fF\\xc2K\\x91;=\\xe4%\\x96\\x0f\\x9f\\xaf\\xb2\\xf9Cl\\x91%\\x15\\x07\\x84\\xf7sr\\xf9\\xef\\xed\\x1e\\xe5\\x01t\\xdfa\\x0e\\x14\\xd7I\\xd2\\xd8[\\xb8yV\\x8c6\\x83\\xab- \\xfc\\xeeSc\\xa4[.\\x87K-\\x0e\\xa5\\xdd\\x94].b\\x8bxx\\xd6)\\x9c\\xaf\\x03\\x87\\xdcx%\\x95\\xe2\\x92H\\xe2l\\xaa~+\\x0f\\xcd\\x12\\x16\\x15^\\x1b\\xd5\\x8c\\xfb\\xc0\\xa5\\xf6f\\xef\\xa4\\xee\\x9d<\\xd2\\xcb\\xeb6\\xd6\\x90\\xeb\\x81XH\\xe5\\xf28]u\\xe2$\\x87\\\\\\x85/\\xc95\\xe1\\xde\\xe1K\\xd1\\x8f\\x9a<\\x16y\\xb7P\\xe8\\x1d\\xa9\\xb4$\\nM\\xf0\\tO\\x91\\x9e\\xf0\\xec!\\xf6g\\xac\\x05K\\x9fG>\\xdb \\x16\\xbb0\\xf69\\xf2\\xdf\\x82\\xd3\\xf3\\xa1vO\\xf3\\xccu\\xb1\\x9a\\xe6[>\\xf6\\x89\\xa7W\\xbe\\xcb_\\xc7\\xc8\\xb8K\\x97O0\\x0c\\xacoSrJI[\\xeeG\\x0bn?b>\\xc2\\xdf\\xe5\\xae\\xfd\\xdb\\xf1\\xd7\\xe3\\xe3\\x0fM\\x06\\xbf2\\xc4\\xc5\\xc5\\x85\\x94\\x95\\xb6{\\xdcX\\x15\\xfc\\xact\\x1fQ%i\\x7f\\x07Q\\xecR\\xd4 \\xc5\\xd3\\xe5TA \\x04!o\\x0b8C\\x88g\\x01\\xd4E\\xf1*\\x98&\\xde&^\\xe1\\x93\\xe1\\x0b\\xa1Fb\\x01\\x16\\xf8\\xe2\\xd4\\x18\\xfe)j\\x0f,\\x02\\x86,\\x02\\xfc\\x8f\\x0e\\xa9)\\xd6o\\xce\\xa9\\xe9\\xeb|9C\\xb5x\\xbe\\xa91\\xca#kch\\\\\\x8f\\x8d\\xea\\xd4\\xba\\x9c\\x1c\\xd5\\xde\\x81!6\\x0e$\\x1d\\xe5\\xb0\\\\\\xfa\\xa9\\x0c\\x84\\x82\\xe3YBte\\x92\\xa6\\xf8)d\\xa4m\\x03\\x89\\x89e\\x03\\xec\\x15\\x87\\x0c\\xb2Dk\\xae-\\xd3j\\x86\\xf9\\x12p\\xc9\\xe5AP\\x8eb\\xcb\\x9a,\\xbe\\xe1\\xacn\\xf9\\r\\xb0T\\xba\\x12e\\x12\\xa6j\\x9cP\\x83Ws\\xd0\\xffE>\\xdc\\x8d\\x9c,\\x81\\xb5rOt\\x95\\xa0\\x85\\x821\\\\\\xbcLYb\\xcb\\xa4C*\\xe3\\xcb\\xf1}\\xa8P\\xecL\\xda\\xf2\\xabO\\xef\\x0eF\\xa3\\xfe\\xf8@\\x97\\xa5\\xf2\\xb2\\x81\\xefy<\\xaa1J8r\\xe7\\x02y\\x16\\xfc\\x00\\xb2\\xe8\\xce\\xe2E\\xea\\xf2{ \\x15\\x95Yr\\x0f\\xda\\xf1\\x97\\x7fK\\xcd\\xf1g\\x0f\\xfa7n&{Ym\\xab\\xaa\\x1c\\xdd\\xec\\x90\\xd1\\xee\\x85\\xa4\\x95\\x08\\x95E\\xab\\xdd\\xb7\\x94\\x07\\x8c\\xaaM\\xeb&\\x8eCS\\xaf\\x87-\\t\\xa3\\xde\\x94DmY\\xd3\\xafK\\xdc\\xca)\\xfa\\xd5\\x86\\x924\\xc0\\x90\\x0fk\\xdaf\\xe9\\\\\\xedC\\x14\\xb3\\xa1;\"?b\\x0b:\\xcb\\t\\x13:\\xba\\xb0\\xe5\\x18)N\\xa5%HL\\xb7\"l\\xb9X\\x96\\xa5\\xa5T\\xf9}\\xc8\\xae\\x8b<\\x16\\xd6\\xd7z\\xa3\\xca$\\x97\\xe0\\xd2\\xbf\\xc1K\\x7fX\\xce\\x96bRPp\\x17bQ|\\xa0l4\\xef\\xe4>\\xdbv\\xf1\\x07\\xdb\\x91\\xf7\\xca\\xfc\\x82e\\xda\\xa8\\xa2M\\x14\\xda \\xba9\\x10\\x99\\x1f*\\x7f8l\\xb1+.\\x92\\x8e\\x83E\\x1a<>\\xa8\\xaec\\xc18\\xa7\\xa1/\\xb2b\\xd2\\xe4\\xd9\\xc2\\xf7\\xce\\xe1sbZo&\\xb4\\xd1mL\\xb0\\x7f\\x9c\\xf3a\\x84\\xbdr\\x84\\xbdF\\x0e\\xc5\\xabJ\\xe7\\xd7\\xd5+\\xaf\\xe5{\\n2<\\xb1]\\xbe\\x9d\\xe2\\x89\\xac\\x11M5\\xa2\\x9br\\x96\\xf3\\x12\\xb7\\xb5W\\xf0\\xb4\\xa7X\\x19eu\\x00\\xa4m\\x80\\xed\\xcd\\xef\\xbd{j\\x01p\\xebG|\\xec]_d\\xee\\x1e\\xd2\\xeb\\xad\\xe4S\\xa1\\x03\\x1b\\x1ey\\'3?\\xf0Z\\x19r\\xbc\\x07\\xa9r#\\xa0\"\\x90\\x96\\xf6ln_\\x92\\xef\\x8bup3[\\xb6\\x1bh\\x9f\\xe9\\xa1\\xe7;\\xb5#>\\xf0\\xbfrR\\xe6\\xd1o\\xd5\\xac,\\x0fU\\xea5\\xb6\\xb9\\xfc\\xfe\\xbf\\x87\\xddx\\x86\\xd1\\xe0\\xc1\\xbd)\\x96\\xa4\"\\x99\\n\\xfc\\xe5J\\xca\\x91g6\\xb8y\\xf5\\x80\\x9b\\xff\\xd6o\\x8c\\x7f\\xe07\\x94\\xd8\\x0bW\\xa0\\xd0_\\x9d\\xfd(\\xb7\\xa2\\xc9\\x9dqw\\xce\\xa9\\x96\\xd0\\xadm8\\x7f\\x12d\\xfeT\\xb9\\xdf\\xd0\\xf6\\xfc\\x8cV\\x08Q~\\x88\\xdad\\xfdDl\\xb2`\\x16\\xd65=\\n\\x1b/\\x8e\\xbd\\x00\\x0b\\xdf\\xdeC\\x07\\xd9\\x8a\\xdf\\xc7\\xefN\\xfd\\x94\\xc7\\xc7\\xf4\\xef\\xeb\\xc9\\xdb\\xcb\\xe8\\xe5\\x9f\\xec\\xf3\\xf5\\xc9\\x9fi\\xd7\\xff\\xfdW~\\xe1i/..?\\xde|\\x0cF\\x9f_\\x9cU\\x9a-8y\\x10\\x7f\\xb7-]\\xad<\\xa5\\x1d\\'\\x81D{\\xacr\\xb5\\x12Q\\x86\\xd0X\\x87\\xb6\\xd6\\xae:!\\xeb0\\xef\\x8aJe\\xef\\xbcX\\'\\xcb\\xb4\\x86\\x85\\x89\\x85(9\\xa3\\xf4\\xd0\\x863\\x0bw\\x8c|.\\xdd0\\xb6dQ\\x16\\xe3\\xc1\\x8bD\\x85\\x98\\xe8\\xe4\\xb4\\xf8\\x8au\\xb5\\x12\\x9e\\x1cj\\xea\\\\U\\x02\\x89\\xd7G\\x17&\\xfd\\x1f\\xfb\\x0c\\xaa\\x7fB\\xa7}\\xab\\xcac\\x9a\\x85\\xda\\x96\\xef\\x88\\xf33\\xda\\xcf\\x9e`\\x96z\\xf2\\x8eM\\xbc\\xc4\\x13\\xe9\\x8f7\\xaf_\"Y\\xfb\\xc8/\\x17<\\xcb\\x15\\x104dq\\xa6,\\xfd\\x00\\xe1X\\xec\\x94\\xfe\\xf1\\xce\\xb9\\xe0nu`\\xa9z*\\xb7\\xbf\\xc9o>\\x81\\x9a\\xd1&\\x92gg\\xef\\xdb\\x83\\xb6&\\xab\\xf7\\x1b\\xbb\\x8f4R\\x83\\xef\\xa6q\\x16O\\xf2\\xba\\xed\\xbb\\xd8\\xb4qm\\xcd\\xf2l\\xfe\\xcd\\xdd\\xdf\\xffn)y\\xba\\x12\\x95\\xed\\x16\\x0ft)C\\xb0\\xbd\\x86g\\xba\\xb3\\xd6L\\xb9]\\xaf\\x99\\xed\\x90Z\\xd0*vE\\xe8\\xbeE\\xbd\\x1bU\\x18z\\xb3\\x87\\xb0\\x0b\\xdb\\xd8\\x86\\xac\\x14\\xc2L\\xaa-Q\\xb4.\\xd4\\xa9\\xfd\\xa3\\xb9(,\\xaa\\x88\\xbd\\xb2i1\\xdfl\\xa6X\\xa8\\x94\\xcb\\xd2<\\xe3\\xf9\\x99\\x1fr$\\xf4M\\xb3mm\\x89\\xd9\\x93\\xb5\\xaa)\\xf7\\xcf\\x9b\\x1ba\\x96&\\xe5&!\\xa5s\\xa2\\x8cRl\\xb9\\x99\\xf5\\x96\\xc1wsT0\\xea\\xfeb\\x85~TE\\xe2.\\x1d\\xd3\\xc9\\xcd\\xf4\\xb0\\xaaO\\x80\\x13S\\xaa\\xf6\\x03:\\xba\\x96\\xe4\\xdb}e\\x1e\\xa2\\x8fig\\x1d)D\\xf3\\x90\\xb2J\\xfb\\x88nq^\\xd0\\x9cdu\\xe1\\xe6e\\x1d\\xf9\\xf0#\\x9f\\x07,\\xbc\\x9f\\xf1\\xffm\\x89T\\x11\\xc8\\x8a\\nDP\\x89o\\x96\\x84?\\xd0\\xad\\x1bLM&y\\x01\\x93&~\\x1anQ\\xdb\\xae\\x19\\xdbt\\x1f\\x15%rv\\xb3\\xca\\xf2y,\\xc5Ru\\x19\\xf4\\x1e\\x03\\x8f\\x14/0(\\xd5Y\\xa8\\xad\\x19\\xaa\\x9f\\xf2\\xd5~\\xffZ\\xc4\\n:Q~\\xac\\xea\\xc1\\xc0\\xa2\\x1f\\xc1\\xcc\\xfe\\xf7y\\x90\\xc5\\x1fz\\xfa\\x9f\\x17\\'\\xfaM\\xef\\x03\\xbfy>\\xcf\\xdf\\xe4\\xc7\\xa3\\xaf\\xfa[\\xed\\xf8\\x97\\xees\\xb9\\xbc\\x99\\n\\xa4\"\\xb24V\\xd9\\xe4\\x11;\\'y\\x95\\xe7\\x15\\x07:\\xc8\\xc8\\xdd8YY\\x92\\xa1\\x19]\\xe9@z\\xa8\\x83$\\xc6\\xd2\\xe1C{\\t*v\\xe6\\xae\\xa0\\xc5\\xf7\\xe9j\\xc9\\xf2\\xa8\\xdc. uv\\x859\\xfe\\x1e\\x1f\\xa6\\x0e\\xc9\\x06_X\\xba\\x88\\xe6~\\xc1n\\xb2\\t\\xccU\\x95\\xf5\\xdf\\x1e\\x84\\xb8^lW\\'\\x96t\\xdd\\xb1<\\xa6\\xee\\xf5\\xb4\\xed\\xbb\\x18\"\\x1aV\\xdb\\xce~\\x14\\xf1\\xf4\\x0bA\\xaa\\xceV\\xdbKAHl\\xf3\\xd3a\\x81S]\\xb7(a\\xaa\\x99\\xae\\xc2\\x85O>}\\xd2i\\x97\\x9f\\xd1\\x91\\x81K\\xf6\\xc7\\xeb\\x9b\\xd8\\xe3G\\xee\\xfd\\xbdk\\xd3\\x15Y\\x93\\xc5l\\xaf\\x8d\\xa5\\x19-bl\\xcb\\xa9\\xbf\\x8bq\\xc5\\xd5\\x03\\xda\\xa0\\xdd\\xb17\\xd2\\xb5\\x85Dww\\xceVc!\\xb1R\\xdf\\xaf\\xa2MaY\\xa6]a\\xb9S\\x90\\x14\\x87\\r\\xbb\\xe5i\\x03*\\x99\\xf2\\xc6\\x17j\\x16q\\xe3\\xab\\xbc\\xb0\\xd6<\\x7f\\xd8\\x0e2\\xdb\\xeb\\xb5\\xf4\\x0f\\x0cU]O\\xba\\xc8\\xec[wnR*\\xd9\\x9e%\\xed\\xb3?\\x07\\xfc\\xc5htz\\xea\\xc7\\xed\\xd7\\xed?\\xda\\xef\\xf6T73\\xf7\\x8eO\\xce\\xc6Z|\\xaa\\xdd\\xe4\\xe3\\xd3\\x851\\xf9\\x9a\\xf6\\xafcm\\xb5J\\xcf\\x96\\xee\\xf1\\xe9\\x97\\xd3\\x8f\\xd3\\x0f{*\\xbfvC\\xf3\\xdb\\xf7\\xfb\\xc9\\x84\\xf4O\\xb8\\x13\\x9b\\xfd\\xc8Q\\xc0U\\xe7\\xbc\\x83\\xc7\\xfc\\xaf\\xeb\\xaeW\\xf2\\xc8\\xa3\\xf6\\xe7\\xe3\\x7f\\xfd\\xebj\\x921=\\xca\\xda\\xef:,\\xa4\\xde\\xe3\\xe3\\x93\\xe9\\xe9\\xf2\\xd7\\xe3\\xe3?\\x8f_t<j\\xd1;\\xbc\\xfc\\x9df\\x02BH\\xf1\\xdb\\xe2\\xfc\\x95w}\\xe0\\xe4\\xbf\\xbb\\x1f5\\xff\\xf4\\xcb\\x1f\\xaf\\xe6\\xeeG\\xfev\\xd4\\xffp\\xf9\\xa1#(e\\xce\\xf9\\x8c\\xab^\\xb1\\xc7\\xcbB\\x0f\\x8b\\xd8\\x93\\xe2\\x9a\\xd9\\xe6\\xd8Nm\\\\Vs\\xeb\\x0bm\\xee\\xba8\\xce\\x13\\xcf\\xa8\\x01\\xa1N\\xcat\\x0eh6\\x16\\xb3#\\xd7\\x94\\xe5\\xb5U^\\xcc\\xa3\\xb5\\xb9\\x9d\\xc7\\x9f\\xc4\\x9e\\xf9#\\xf7\\xe4\\n\\xcc}\\xc2 \\xc2\\x01\\xdde\\xda\\xdc\\x88LZ\\xd5LX\\xa8\\x93\\xed\\xabP\\x9b\\x1bR\\xd5\\x11T~\\x95\\xb9G\\x13\\xf3\\xa1\\'\\xe4X\\xed\\xd2\\xac\\xf6\\xd9\\xe2S\\\\\\xcej\\xb4\\xb9\\xf3\\xad\\x8f\\x96L\\xfdpkX&\\xc8\\xe4\\xe20\\x8a\\xd5k\\xaeU\\xdc\\x05\\x95?\\x9d||\\xf5\\xfeL\\xb6d\\xbaI\\xe6\\x17+h\\xe7\\x9ab\\xf9\\xfe5\\xe2\\xb98:(\\xffh\\x80\\xfe\\x8e\\x80\\xae8\\xd1U\\xa3\\xf8u\\xbc\\xe4\\xe9\\t\\xcbxKQ,\\xba5\\xba]N9hl\\xd3\\x82\\xe5\\x00\\xe4\\x00\\xf5!\\xe60\\x9d\\r\\xd0m\\xaa#\\x99\\xded\\xb3>\\xff@\\xcb&\\x1b2]\\x8a\"u\\xdf\\xbc\\xd0\\x9fW\\x9c;\\xd0khC\\xc0t\\x91\\xe5\\xdc#\\x8e2\\x02\\x0fww\\xc3\\x92\\x83\\xf7\\x14HW\\xb0(\\x12\\x1a\\xcf\\xdenEf\\x01\\x05=\\x15+\\x95z[\\xf4\\xd0\\xc9\\x989U\\x8b\\x8f\\xe2\\xcc\\xe3\\xde\\xe7\\xe7\\x8f\\x00X+e\\x0e\\x94*\\xb7|s\\x96Z\\xbf\\x96\\xa7\\xa9i}\\x84\\xb5\\x9e\\xdbO\\xbc\\xe2\\x04un{\\xc8\\x9aZ\\x1e\\x849\\xf2\\xda\\xf7H\\xb7\\x98b2\\xab\\xb85I\\xa7N\\x01i\\x8e\\n}\\xd6<k\\x8a\\xe8\\x0c\\x98\\x86\\x82\\xe4n\\x1e\\xa7\\xd0Lt\\xc4\\xdaSS&\\xff<\\x17\\x83\\x9bg\\x85V>\\xf2b\\xb7\\xe6s\\x1a\\xc8\\xe5\\xa5\\xe3K\\xab5\\xb3[\\x95\\tZ\\x976}:\\xedx\\x89\\xd0\\xfd\\xbc\\xceo\\xef5\\xb4\\xbd\\xe2\\x12\\xd7\\xef>_\\xde\\xdd\\x15\\x91\\\\\\xa9C\\xb4\\xd2FZ\\x9b\\xae>\\xf1\\x80\\x13C\\xcaQa2\\xf3\\xb2\\x88\\x853U.B\\xcb7\\x11Z\\xbe#\\x07\\x04\\xbf\\xe2\\xfd\\xee\\xee\\xfe\\xa52\\xd1L\\x17\\x82e\\x19SO!N\\xb2G\\x00\\xd4\\x99r\\xef,\\xa7YM;\\xf5Ap\\x921{Gk^Al\\\\N\\xdc\\x1c\\x07^\\xb76\\x97\\x161I\\x16\\xf6\\xc2z<\\xb3\\xd4\\x9e!\\xd0\\x1cU\\x8b\\x08\\x9blu\\x96a \\xa1\\xabn\\x00SL\\xf1\\xa6\\x95\\xeb@\\xb9\\xfe\\x9d\\xa3\\xde\\xab_\\xef\\xee\\xa4\\xdb\\xfa\\xdc\\xf1\\xfc\\xf9\"LN\\xaf]\\x9e\\x88xaK\\xe7\\x0f\\x9b\\xea\\xd1D\\xddI\\xe7\\xf3\\xa8\\x1bk\\x02Y\\x83vV\\x12?\\xcf~N\\xb8&p\\xd9\\xa4pY\\x93\\xb8\\xfcOh\\xd4\\x81\\xee\\xfc\\xc5\\xb9p\\xd7 8\\xc92\\x8a\\xba\\xeb\\'\\x8f,i\\x17\\x08\\x8fN\\x90\\x9b{t \\x81\\xe5k\\x16\\xcdMM\\xf5\\x96\\xa6(\\x86\\xf1\\xb2\\x10W1T\\x1e\\xe6\\x11:`[<}7.\\xfb\\xfd\\xb9C\\xdf\\x11\\xaf\\xbe\\xa3\\x8b\\xac\\xa2\\x85\\xf7\\\\t^ \\x8d\\x11\\xbf\\xaf\\x8c\\x12,\\x08\\x00U:\\xf3\\x9e\\x9ax\\x04\\x97\\xf2\\x04\\xcf,\\xe2y1\"&\\x165/\\x9c\\xb0DZ,\\x93\\xf2Z\\xc8\\x83\\xab\\xfd4\\xa7\\x92\\xd0\\xb5\\xf7n\\xff\\xba6\\x0c\\x8f\\x1e\\xe6\\xedZ\\xa5\\xdfby*\\x1a\\xe8\\x89@\\x10\\x89/1\\x06\\xbd\\xb9\\x0f[D\\xd6!\\xda\\xe8\\x81\\x04%\\r\\xe28<\\x98%\\xf4)@\\xbc\\xd96\\x8a\\x97\\xd5\\xe05\\xcc$\\xd8\\x86\\x99\\xc5\\xd9\\x86\\xe8&\\xd7\\xae\\xe1/\\xb28J\\xb6Q\\xc2l\\x9amxw}\\'\\xa8\\t|Y\\xb97\\xabf\"+-W\\x19\\nw\\x7fI\\xa5\\xfb\\x86\\xd1UX\\xa3\\x9c\\xdc\\xac$w\\x16{7\\xa8$\\xba\\x86a\\xc5\\xd2\\x89/\\xc5f\\r\\x1b\\xb8\\xf3U\\r\\xfc\\xc3\\xfd\\xa0\\rx\\xd8\\xe0fs\\x14\\x85 I\\xa5\\x1cs/\\xfc\\x1a4A\\xf8\\xaca\\xcf\\xe2-V\\xa5\\x1b\\xe8\\x85U\\x1c-\\xb2ET\\xd2\\xca\\xd1%\\x9d-\\xe3\\x0b\\xd0\\xfc\\xeb\\xaf\\x85\\xa6uO\\x8a$\\x9d\\xb2\\x8e\\xbf\\xfe\"R\\xd5iR\\xf1U\\x00\\x9d\\x96\\'H~y\\x82T\\xa2vX\\xd9\\xdddj#\\xc0\\xe7lA,\\xf4\\xac\\xba;s\\xfc\\xbc\\xa1\\xed\\x06\\xc3\\xb1\\x93\\xb2\\x1b\\xbe1\\x1c\\x84\\x9b5\\xf4\\xb6\\xb5\\x97GM\\x85#\\xc6Wi\\xd3/\\x93\\xcb\\x87\\x1e\\x93N\\nk\\x7f\\xfb^r\\xc06n\\xa5I\\xf5\\xcdJ)\\x9d:\\xac\\xa5\\xa9\\xe2\\x7f\\xdbPTM\\xa2\\xff\\xe2nY\\xb3G\\x1b)\\x1b\\x1e\\xf3x^\\xd3\\xba\\xfa\\xfa\\xe7I\\xf2\\xe9\\xed\\xf5o\\xa7o\\xdet\\x03\\xber\\xe7\\x7f\\xfc[\\xfb\\xfd\\xfat\\xf1\\xfc\\xb3\\xe0w]\\xff5\\rM\\xaa\\x7f}z\\xf7\\x96\\xee\\'#\\xb3\\xc0\\xe7\\x83t\\xba\\xf8\\xf7\\xacC\\xe1\\x9f.\\x16\\xd0_Y\\xfe\\x1f\\xd4S\\x1cS'\n"
     ]
    }
   ],
   "source": [
    "import zlib\n",
    "import timeit\n",
    "\n",
    "\n",
    "compressed_html = zlib.compress(html)\n",
    "time = timeit.Timer(f\"zlib.compress({html})\",\"import zlib\").timeit(number=1000)\n",
    "print(time)\n",
    "print(f\"Original size: {len(html)}\")\n",
    "print(f\"Compressed size: {len(compressed_html)}\")\n",
    "print(f\"Compressed string: {compressed_html}\")"
   ],
   "metadata": {
    "collapsed": false
   }
  }
 ],
 "metadata": {
  "kernelspec": {
   "display_name": "Python 3",
   "language": "python",
   "name": "python3"
  },
  "language_info": {
   "codemirror_mode": {
    "name": "ipython",
    "version": 2
   },
   "file_extension": ".py",
   "mimetype": "text/x-python",
   "name": "python",
   "nbconvert_exporter": "python",
   "pygments_lexer": "ipython2",
   "version": "2.7.6"
  }
 },
 "nbformat": 4,
 "nbformat_minor": 0
}
